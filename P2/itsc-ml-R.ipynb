{
 "cells": [
  {
   "cell_type": "code",
   "execution_count": 1,
   "id": "8ceb0c07",
   "metadata": {
    "_cell_guid": "b1076dfc-b9ad-4769-8c92-a6c4dae69d19",
    "_uuid": "8f2839f25d086af736a60e9eeb907d3b93b6e0e5",
    "execution": {
     "iopub.execute_input": "2022-06-29T06:59:35.609199Z",
     "iopub.status.busy": "2022-06-29T06:59:35.608680Z",
     "iopub.status.idle": "2022-06-29T06:59:35.632236Z",
     "shell.execute_reply": "2022-06-29T06:59:35.630989Z"
    },
    "papermill": {
     "duration": 0.03962,
     "end_time": "2022-06-29T06:59:35.634873",
     "exception": false,
     "start_time": "2022-06-29T06:59:35.595253",
     "status": "completed"
    },
    "tags": []
   },
   "outputs": [
    {
     "name": "stdout",
     "output_type": "stream",
     "text": [
      "/kaggle/input/itsc-ml-challenge-26jun/DATA_R.xlsx\n",
      "/kaggle/input/itsc-ml-challenge-26jun/DATA_P.xlsx\n",
      "/kaggle/input/itsc-ml-challenge-26jun-model-performance/Randomised_DATA_P.xlsx\n",
      "/kaggle/input/itsc-ml-challenge-26jun-model-performance/Randomised_DATA_R.xlsx\n"
     ]
    }
   ],
   "source": [
    "import numpy as np # linear algebra\n",
    "import pandas as pd # data processing, CSV file I/O (e.g. pd.read_csv)\n",
    "\n",
    "import os\n",
    "for dirname, _, filenames in os.walk('/kaggle/input'):\n",
    "    for filename in filenames:\n",
    "        print(os.path.join(dirname, filename))"
   ]
  },
  {
   "cell_type": "code",
   "execution_count": 2,
   "id": "0c29d9ce",
   "metadata": {
    "execution": {
     "iopub.execute_input": "2022-06-29T06:59:35.658086Z",
     "iopub.status.busy": "2022-06-29T06:59:35.657288Z",
     "iopub.status.idle": "2022-06-29T06:59:36.882624Z",
     "shell.execute_reply": "2022-06-29T06:59:36.881554Z"
    },
    "papermill": {
     "duration": 1.239668,
     "end_time": "2022-06-29T06:59:36.885292",
     "exception": false,
     "start_time": "2022-06-29T06:59:35.645624",
     "status": "completed"
    },
    "tags": []
   },
   "outputs": [],
   "source": [
    "import seaborn as sns\n",
    "import matplotlib.pyplot as plt\n",
    "import numpy as np\n",
    "sns.set_style('darkgrid')\n",
    "sns.set(font_scale=1.3)"
   ]
  },
  {
   "cell_type": "code",
   "execution_count": 3,
   "id": "c0b0e081",
   "metadata": {
    "execution": {
     "iopub.execute_input": "2022-06-29T06:59:36.908175Z",
     "iopub.status.busy": "2022-06-29T06:59:36.906830Z",
     "iopub.status.idle": "2022-06-29T06:59:49.192594Z",
     "shell.execute_reply": "2022-06-29T06:59:49.191017Z"
    },
    "papermill": {
     "duration": 12.299955,
     "end_time": "2022-06-29T06:59:49.195218",
     "exception": false,
     "start_time": "2022-06-29T06:59:36.895263",
     "status": "completed"
    },
    "tags": []
   },
   "outputs": [
    {
     "name": "stderr",
     "output_type": "stream",
     "text": [
      "WARNING: pip is being invoked by an old script wrapper. This will fail in a future version of pip.\n",
      "Please see https://github.com/pypa/pip/issues/5599 for advice on fixing the underlying issue.\n",
      "To avoid this problem you can invoke Python with '-m pip' instead of running pip directly.\n"
     ]
    },
    {
     "data": {
      "text/html": [
       "<pre style=\"white-space:pre;overflow-x:auto;line-height:normal;font-family:Menlo,'DejaVu Sans Mono',consolas,'Courier New',monospace\">Collecting openpyxl\n",
       "</pre>\n"
      ],
      "text/plain": [
       "Collecting openpyxl\n"
      ]
     },
     "metadata": {},
     "output_type": "display_data"
    },
    {
     "data": {
      "text/html": [
       "<pre style=\"white-space:pre;overflow-x:auto;line-height:normal;font-family:Menlo,'DejaVu Sans Mono',consolas,'Courier New',monospace\">  Downloading openpyxl-3.0.10-py2.py3-none-any.whl (242 kB)\n",
       "</pre>\n"
      ],
      "text/plain": [
       "  Downloading openpyxl-3.0.10-py2.py3-none-any.whl (242 kB)\n"
      ]
     },
     "metadata": {},
     "output_type": "display_data"
    },
    {
     "data": {
      "application/vnd.jupyter.widget-view+json": {
       "model_id": "901c8ba00db1421393fee9a2e0f25d96",
       "version_major": 2,
       "version_minor": 0
      },
      "text/plain": [
       "Output()"
      ]
     },
     "metadata": {},
     "output_type": "display_data"
    },
    {
     "data": {
      "text/html": [
       "<pre style=\"white-space:pre;overflow-x:auto;line-height:normal;font-family:Menlo,'DejaVu Sans Mono',consolas,'Courier New',monospace\"></pre>\n"
      ],
      "text/plain": []
     },
     "metadata": {},
     "output_type": "display_data"
    },
    {
     "data": {
      "text/html": [
       "<pre style=\"white-space:pre;overflow-x:auto;line-height:normal;font-family:Menlo,'DejaVu Sans Mono',consolas,'Courier New',monospace\">\n",
       "</pre>\n"
      ],
      "text/plain": [
       "\n"
      ]
     },
     "metadata": {},
     "output_type": "display_data"
    },
    {
     "data": {
      "text/html": [
       "<pre style=\"white-space:pre;overflow-x:auto;line-height:normal;font-family:Menlo,'DejaVu Sans Mono',consolas,'Courier New',monospace\">Collecting et-xmlfile\n",
       "</pre>\n"
      ],
      "text/plain": [
       "Collecting et-xmlfile\n"
      ]
     },
     "metadata": {},
     "output_type": "display_data"
    },
    {
     "data": {
      "text/html": [
       "<pre style=\"white-space:pre;overflow-x:auto;line-height:normal;font-family:Menlo,'DejaVu Sans Mono',consolas,'Courier New',monospace\">  Downloading et_xmlfile-1.1.0-py3-none-any.whl (4.7 kB)\n",
       "</pre>\n"
      ],
      "text/plain": [
       "  Downloading et_xmlfile-1.1.0-py3-none-any.whl (4.7 kB)\n"
      ]
     },
     "metadata": {},
     "output_type": "display_data"
    },
    {
     "data": {
      "text/html": [
       "<pre style=\"white-space:pre;overflow-x:auto;line-height:normal;font-family:Menlo,'DejaVu Sans Mono',consolas,'Courier New',monospace\">Installing collected packages: et-xmlfile, openpyxl\n",
       "</pre>\n"
      ],
      "text/plain": [
       "Installing collected packages: et-xmlfile, openpyxl\n"
      ]
     },
     "metadata": {},
     "output_type": "display_data"
    },
    {
     "data": {
      "text/html": [
       "<pre style=\"white-space:pre;overflow-x:auto;line-height:normal;font-family:Menlo,'DejaVu Sans Mono',consolas,'Courier New',monospace\">Successfully installed et-xmlfile-1.1.0 openpyxl-3.0.10\n",
       "</pre>\n"
      ],
      "text/plain": [
       "Successfully installed et-xmlfile-1.1.0 openpyxl-3.0.10\n"
      ]
     },
     "metadata": {},
     "output_type": "display_data"
    },
    {
     "data": {
      "text/html": [
       "<pre style=\"white-space:pre;overflow-x:auto;line-height:normal;font-family:Menlo,'DejaVu Sans Mono',consolas,'Courier New',monospace\"><span style=\"color: #808000; text-decoration-color: #808000\">WARNING: Running pip as the 'root' user can result in broken permissions and conflicting behaviour with the system package manager. It is recommended to use a virtual environment instead: https://pip.pypa.io/warnings/venv\n",
       "</span></pre>\n"
      ],
      "text/plain": [
       "\u001b[33mWARNING: Running pip as the 'root' user can result in broken permissions and conflicting behaviour with the system package manager. It is recommended to use a virtual environment instead: https://pip.pypa.io/warnings/venv\u001b[0m\u001b[33m\n",
       "\u001b[0m"
      ]
     },
     "metadata": {},
     "output_type": "display_data"
    },
    {
     "data": {
      "text/plain": [
       "0"
      ]
     },
     "execution_count": 3,
     "metadata": {},
     "output_type": "execute_result"
    }
   ],
   "source": [
    "import pip\n",
    "pip.main([\"install\", \"openpyxl\"])"
   ]
  },
  {
   "cell_type": "markdown",
   "id": "de12d2e0",
   "metadata": {
    "papermill": {
     "duration": 0.0125,
     "end_time": "2022-06-29T06:59:49.221445",
     "exception": false,
     "start_time": "2022-06-29T06:59:49.208945",
     "status": "completed"
    },
    "tags": []
   },
   "source": [
    "## **Read the Dataset**\n",
    "1. Dataset consist of two columns, X and Y.\n",
    "2. First 350 records are for training the model and remaining unlabelled data is for test purpose. "
   ]
  },
  {
   "cell_type": "code",
   "execution_count": 4,
   "id": "daa9b699",
   "metadata": {
    "execution": {
     "iopub.execute_input": "2022-06-29T06:59:49.247550Z",
     "iopub.status.busy": "2022-06-29T06:59:49.246241Z",
     "iopub.status.idle": "2022-06-29T06:59:49.523667Z",
     "shell.execute_reply": "2022-06-29T06:59:49.522417Z"
    },
    "papermill": {
     "duration": 0.293109,
     "end_time": "2022-06-29T06:59:49.526186",
     "exception": false,
     "start_time": "2022-06-29T06:59:49.233077",
     "status": "completed"
    },
    "tags": []
   },
   "outputs": [],
   "source": [
    "df = pd.read_excel(\"/kaggle/input/itsc-ml-challenge-26jun-model-performance/Randomised_DATA_R.xlsx\")\n",
    "\n",
    "train = df.iloc[:350,1:] #segregate first 350 records as training data.\n",
    "test = df.iloc[350:,1:] #remaining data to be treated as test."
   ]
  },
  {
   "cell_type": "code",
   "execution_count": 5,
   "id": "5bcca1f6",
   "metadata": {
    "execution": {
     "iopub.execute_input": "2022-06-29T06:59:49.553095Z",
     "iopub.status.busy": "2022-06-29T06:59:49.551941Z",
     "iopub.status.idle": "2022-06-29T06:59:49.581895Z",
     "shell.execute_reply": "2022-06-29T06:59:49.580048Z"
    },
    "papermill": {
     "duration": 0.047151,
     "end_time": "2022-06-29T06:59:49.585088",
     "exception": false,
     "start_time": "2022-06-29T06:59:49.537937",
     "status": "completed"
    },
    "tags": []
   },
   "outputs": [
    {
     "name": "stdout",
     "output_type": "stream",
     "text": [
      "<class 'pandas.core.frame.DataFrame'>\n",
      "RangeIndex: 350 entries, 0 to 349\n",
      "Data columns (total 2 columns):\n",
      " #   Column  Non-Null Count  Dtype  \n",
      "---  ------  --------------  -----  \n",
      " 0   X       350 non-null    float64\n",
      " 1   Y       350 non-null    float64\n",
      "dtypes: float64(2)\n",
      "memory usage: 5.6 KB\n"
     ]
    },
    {
     "data": {
      "text/plain": [
       "None"
      ]
     },
     "metadata": {},
     "output_type": "display_data"
    }
   ],
   "source": [
    "display(train.info())"
   ]
  },
  {
   "cell_type": "code",
   "execution_count": 6,
   "id": "b6327f80",
   "metadata": {
    "execution": {
     "iopub.execute_input": "2022-06-29T06:59:49.611015Z",
     "iopub.status.busy": "2022-06-29T06:59:49.610583Z",
     "iopub.status.idle": "2022-06-29T06:59:49.633921Z",
     "shell.execute_reply": "2022-06-29T06:59:49.633041Z"
    },
    "papermill": {
     "duration": 0.038798,
     "end_time": "2022-06-29T06:59:49.636049",
     "exception": false,
     "start_time": "2022-06-29T06:59:49.597251",
     "status": "completed"
    },
    "tags": []
   },
   "outputs": [
    {
     "data": {
      "text/html": [
       "<div>\n",
       "<style scoped>\n",
       "    .dataframe tbody tr th:only-of-type {\n",
       "        vertical-align: middle;\n",
       "    }\n",
       "\n",
       "    .dataframe tbody tr th {\n",
       "        vertical-align: top;\n",
       "    }\n",
       "\n",
       "    .dataframe thead th {\n",
       "        text-align: right;\n",
       "    }\n",
       "</style>\n",
       "<table border=\"1\" class=\"dataframe\">\n",
       "  <thead>\n",
       "    <tr style=\"text-align: right;\">\n",
       "      <th></th>\n",
       "      <th>X</th>\n",
       "      <th>Y</th>\n",
       "    </tr>\n",
       "  </thead>\n",
       "  <tbody>\n",
       "    <tr>\n",
       "      <th>count</th>\n",
       "      <td>350.000000</td>\n",
       "      <td>350.000000</td>\n",
       "    </tr>\n",
       "    <tr>\n",
       "      <th>mean</th>\n",
       "      <td>61.080000</td>\n",
       "      <td>70.677355</td>\n",
       "    </tr>\n",
       "    <tr>\n",
       "      <th>std</th>\n",
       "      <td>11.408005</td>\n",
       "      <td>5.447000</td>\n",
       "    </tr>\n",
       "    <tr>\n",
       "      <th>min</th>\n",
       "      <td>20.000000</td>\n",
       "      <td>57.586207</td>\n",
       "    </tr>\n",
       "    <tr>\n",
       "      <th>25%</th>\n",
       "      <td>52.000000</td>\n",
       "      <td>67.825093</td>\n",
       "    </tr>\n",
       "    <tr>\n",
       "      <th>50%</th>\n",
       "      <td>60.000000</td>\n",
       "      <td>70.000000</td>\n",
       "    </tr>\n",
       "    <tr>\n",
       "      <th>75%</th>\n",
       "      <td>68.000000</td>\n",
       "      <td>73.793103</td>\n",
       "    </tr>\n",
       "    <tr>\n",
       "      <th>max</th>\n",
       "      <td>92.000000</td>\n",
       "      <td>87.878788</td>\n",
       "    </tr>\n",
       "  </tbody>\n",
       "</table>\n",
       "</div>"
      ],
      "text/plain": [
       "                X           Y\n",
       "count  350.000000  350.000000\n",
       "mean    61.080000   70.677355\n",
       "std     11.408005    5.447000\n",
       "min     20.000000   57.586207\n",
       "25%     52.000000   67.825093\n",
       "50%     60.000000   70.000000\n",
       "75%     68.000000   73.793103\n",
       "max     92.000000   87.878788"
      ]
     },
     "execution_count": 6,
     "metadata": {},
     "output_type": "execute_result"
    }
   ],
   "source": [
    "train.describe()"
   ]
  },
  {
   "cell_type": "markdown",
   "id": "a0a207b8",
   "metadata": {
    "papermill": {
     "duration": 0.012645,
     "end_time": "2022-06-29T06:59:49.660950",
     "exception": false,
     "start_time": "2022-06-29T06:59:49.648305",
     "status": "completed"
    },
    "tags": []
   },
   "source": [
    "# **Exploratory Data Analysis**\n",
    "1. The EDA is performed on both the independent variable and dependent variable, based on which we will analyse the data and check if any outliers are there or not. \n",
    "2. EDA will help us to select our model based on visualizations ie whether to pick tree based model or linear models."
   ]
  },
  {
   "cell_type": "code",
   "execution_count": 7,
   "id": "18490245",
   "metadata": {
    "execution": {
     "iopub.execute_input": "2022-06-29T06:59:49.687957Z",
     "iopub.status.busy": "2022-06-29T06:59:49.687312Z",
     "iopub.status.idle": "2022-06-29T06:59:49.975299Z",
     "shell.execute_reply": "2022-06-29T06:59:49.973871Z"
    },
    "papermill": {
     "duration": 0.304404,
     "end_time": "2022-06-29T06:59:49.977925",
     "exception": false,
     "start_time": "2022-06-29T06:59:49.673521",
     "status": "completed"
    },
    "tags": []
   },
   "outputs": [
    {
     "data": {
      "image/png": "[encoded data removed]",
      "text/plain": [
       "<Figure size 432x288 with 1 Axes>"
      ]
     },
     "metadata": {},
     "output_type": "display_data"
    }
   ],
   "source": [
    "#1. Histogram Plot\n",
    "sns.histplot(x='X', data=train);"
   ]
  },
  {
   "cell_type": "code",
   "execution_count": 8,
   "id": "b7ccecf0",
   "metadata": {
    "execution": {
     "iopub.execute_input": "2022-06-29T06:59:50.005946Z",
     "iopub.status.busy": "2022-06-29T06:59:50.005346Z",
     "iopub.status.idle": "2022-06-29T06:59:50.528119Z",
     "shell.execute_reply": "2022-06-29T06:59:50.526544Z"
    },
    "papermill": {
     "duration": 0.540207,
     "end_time": "2022-06-29T06:59:50.530627",
     "exception": false,
     "start_time": "2022-06-29T06:59:49.990420",
     "status": "completed"
    },
    "tags": []
   },
   "outputs": [
    {
     "data": {
      "image/png": "[encoded data removed]",
      "text/plain": [
       "<Figure size 1080x1080 with 2 Axes>"
      ]
     },
     "metadata": {},
     "output_type": "display_data"
    }
   ],
   "source": [
    "#2. Comparing both X, Y columns on Histogram plot. \n",
    "\n",
    "cols = 3\n",
    "rows = 3\n",
    "num_cols = train.select_dtypes(exclude='object').columns\n",
    "fig = plt.figure( figsize=(cols*5, rows*5))\n",
    "for i, col in enumerate(num_cols):\n",
    "    \n",
    "    ax=fig.add_subplot(rows,cols,i+1)\n",
    "    \n",
    "    sns.histplot(x = train[col], ax = ax)\n",
    "    \n",
    "fig.tight_layout()  \n",
    "plt.show()"
   ]
  },
  {
   "cell_type": "code",
   "execution_count": 9,
   "id": "69d6459d",
   "metadata": {
    "execution": {
     "iopub.execute_input": "2022-06-29T06:59:50.559293Z",
     "iopub.status.busy": "2022-06-29T06:59:50.558888Z",
     "iopub.status.idle": "2022-06-29T06:59:50.749211Z",
     "shell.execute_reply": "2022-06-29T06:59:50.747905Z"
    },
    "papermill": {
     "duration": 0.207702,
     "end_time": "2022-06-29T06:59:50.751855",
     "exception": false,
     "start_time": "2022-06-29T06:59:50.544153",
     "status": "completed"
    },
    "tags": []
   },
   "outputs": [
    {
     "data": {
      "text/plain": [
       "<AxesSubplot:>"
      ]
     },
     "execution_count": 9,
     "metadata": {},
     "output_type": "execute_result"
    },
    {
     "data": {
      "image/png": "[encoded data removed]",
      "text/plain": [
       "<Figure size 432x288 with 2 Axes>"
      ]
     },
     "metadata": {},
     "output_type": "display_data"
    }
   ],
   "source": [
    "sns.heatmap(train.corr(), annot=True)"
   ]
  },
  {
   "cell_type": "code",
   "execution_count": 10,
   "id": "0edea5df",
   "metadata": {
    "execution": {
     "iopub.execute_input": "2022-06-29T06:59:50.779998Z",
     "iopub.status.busy": "2022-06-29T06:59:50.779627Z",
     "iopub.status.idle": "2022-06-29T06:59:50.915639Z",
     "shell.execute_reply": "2022-06-29T06:59:50.914805Z"
    },
    "papermill": {
     "duration": 0.152517,
     "end_time": "2022-06-29T06:59:50.917855",
     "exception": false,
     "start_time": "2022-06-29T06:59:50.765338",
     "status": "completed"
    },
    "tags": []
   },
   "outputs": [
    {
     "data": {
      "text/plain": [
       "<AxesSubplot:xlabel='X'>"
      ]
     },
     "execution_count": 10,
     "metadata": {},
     "output_type": "execute_result"
    },
    {
     "data": {
      "image/png": "[encoded data removed]",
      "text/plain": [
       "<Figure size 432x288 with 1 Axes>"
      ]
     },
     "metadata": {},
     "output_type": "display_data"
    }
   ],
   "source": [
    "#3. This represents the box plot.\n",
    "\n",
    "sns.boxplot(x=train['X'])"
   ]
  },
  {
   "cell_type": "code",
   "execution_count": 11,
   "id": "a4da8350",
   "metadata": {
    "execution": {
     "iopub.execute_input": "2022-06-29T06:59:50.946053Z",
     "iopub.status.busy": "2022-06-29T06:59:50.945661Z",
     "iopub.status.idle": "2022-06-29T06:59:51.076598Z",
     "shell.execute_reply": "2022-06-29T06:59:51.075510Z"
    },
    "papermill": {
     "duration": 0.14775,
     "end_time": "2022-06-29T06:59:51.078864",
     "exception": false,
     "start_time": "2022-06-29T06:59:50.931114",
     "status": "completed"
    },
    "tags": []
   },
   "outputs": [
    {
     "data": {
      "text/plain": [
       "<AxesSubplot:>"
      ]
     },
     "execution_count": 11,
     "metadata": {},
     "output_type": "execute_result"
    },
    {
     "data": {
      "image/png": "[encoded data removed]",
      "text/plain": [
       "<Figure size 432x288 with 1 Axes>"
      ]
     },
     "metadata": {},
     "output_type": "display_data"
    }
   ],
   "source": [
    "sns.boxplot(data=train.loc[:, ['X', 'Y']])"
   ]
  },
  {
   "cell_type": "code",
   "execution_count": 12,
   "id": "fa9e2bdf",
   "metadata": {
    "execution": {
     "iopub.execute_input": "2022-06-29T06:59:51.108695Z",
     "iopub.status.busy": "2022-06-29T06:59:51.107654Z",
     "iopub.status.idle": "2022-06-29T06:59:51.329515Z",
     "shell.execute_reply": "2022-06-29T06:59:51.328251Z"
    },
    "papermill": {
     "duration": 0.239522,
     "end_time": "2022-06-29T06:59:51.332102",
     "exception": false,
     "start_time": "2022-06-29T06:59:51.092580",
     "status": "completed"
    },
    "tags": []
   },
   "outputs": [
    {
     "data": {
      "text/plain": [
       "<AxesSubplot:xlabel='Y'>"
      ]
     },
     "execution_count": 12,
     "metadata": {},
     "output_type": "execute_result"
    },
    {
     "data": {
      "image/png": "[encoded data removed]",
      "text/plain": [
       "<Figure size 432x288 with 1 Axes>"
      ]
     },
     "metadata": {},
     "output_type": "display_data"
    }
   ],
   "source": [
    "#4. Violin Plot for both X,Y variable \n",
    "\n",
    "sns.violinplot(x=train[\"X\"], color='red')\n",
    "sns.violinplot(x=train[\"Y\"], color='yellow')"
   ]
  },
  {
   "cell_type": "markdown",
   "id": "bc2c9861",
   "metadata": {
    "papermill": {
     "duration": 0.014352,
     "end_time": "2022-06-29T06:59:51.360839",
     "exception": false,
     "start_time": "2022-06-29T06:59:51.346487",
     "status": "completed"
    },
    "tags": []
   },
   "source": [
    "# **Creating a Train Test Split**\n",
    "1. Train-Test split is 70:30 with random-state keeping as 33"
   ]
  },
  {
   "cell_type": "code",
   "execution_count": 13,
   "id": "08894fac",
   "metadata": {
    "execution": {
     "iopub.execute_input": "2022-06-29T06:59:51.392801Z",
     "iopub.status.busy": "2022-06-29T06:59:51.391931Z",
     "iopub.status.idle": "2022-06-29T06:59:51.614128Z",
     "shell.execute_reply": "2022-06-29T06:59:51.613272Z"
    },
    "papermill": {
     "duration": 0.240789,
     "end_time": "2022-06-29T06:59:51.616261",
     "exception": false,
     "start_time": "2022-06-29T06:59:51.375472",
     "status": "completed"
    },
    "tags": []
   },
   "outputs": [
    {
     "name": "stdout",
     "output_type": "stream",
     "text": [
      "245 105 245 105\n"
     ]
    }
   ],
   "source": [
    "from sklearn.model_selection import train_test_split\n",
    "\n",
    "Xtrain,Xtest,ytrain,ytest = train_test_split(train[['X']], train[['Y']], test_size=0.3, random_state=33)\n",
    "\n",
    "print(Xtrain.size, Xtest.size,  ytrain.size, ytest.size)"
   ]
  },
  {
   "cell_type": "markdown",
   "id": "8313ae60",
   "metadata": {
    "papermill": {
     "duration": 0.013992,
     "end_time": "2022-06-29T06:59:51.644682",
     "exception": false,
     "start_time": "2022-06-29T06:59:51.630690",
     "status": "completed"
    },
    "tags": []
   },
   "source": [
    "# **Model-1 Linear Regression**"
   ]
  },
  {
   "cell_type": "code",
   "execution_count": 14,
   "id": "25ebad85",
   "metadata": {
    "execution": {
     "iopub.execute_input": "2022-06-29T06:59:51.675507Z",
     "iopub.status.busy": "2022-06-29T06:59:51.674941Z",
     "iopub.status.idle": "2022-06-29T06:59:51.780499Z",
     "shell.execute_reply": "2022-06-29T06:59:51.779056Z"
    },
    "papermill": {
     "duration": 0.123988,
     "end_time": "2022-06-29T06:59:51.783036",
     "exception": false,
     "start_time": "2022-06-29T06:59:51.659048",
     "status": "completed"
    },
    "tags": []
   },
   "outputs": [
    {
     "name": "stdout",
     "output_type": "stream",
     "text": [
      "5.26592749598083\n"
     ]
    }
   ],
   "source": [
    "#Linear Regression Model Training and Validation\n",
    "from sklearn.linear_model import LinearRegression\n",
    "from sklearn.metrics import mean_squared_error as mse\n",
    "\n",
    "m1 = LinearRegression(fit_intercept=True, normalize='deprecated', copy_X=True, \n",
    "                      n_jobs=5, positive=False)\n",
    "m1.fit(Xtrain,ytrain)\n",
    "ypred = m1.predict(Xtest)\n",
    "\n",
    "#Linear Regression Model Validation on Test dataset.\n",
    "\n",
    "s1 = (np.sqrt(mse(ytest, ypred)))\n",
    "print(s1)"
   ]
  },
  {
   "cell_type": "code",
   "execution_count": 15,
   "id": "44f8a6e1",
   "metadata": {
    "execution": {
     "iopub.execute_input": "2022-06-29T06:59:51.814686Z",
     "iopub.status.busy": "2022-06-29T06:59:51.814303Z",
     "iopub.status.idle": "2022-06-29T06:59:51.835057Z",
     "shell.execute_reply": "2022-06-29T06:59:51.833604Z"
    },
    "papermill": {
     "duration": 0.039816,
     "end_time": "2022-06-29T06:59:51.837602",
     "exception": false,
     "start_time": "2022-06-29T06:59:51.797786",
     "status": "completed"
    },
    "tags": []
   },
   "outputs": [
    {
     "name": "stdout",
     "output_type": "stream",
     "text": [
      "5.491999128283958\n",
      "\n"
     ]
    },
    {
     "data": {
      "text/html": [
       "<a href='sub1_.csv' target='_blank'>sub1_.csv</a><br>"
      ],
      "text/plain": [
       "/kaggle/working/sub1_.csv"
      ]
     },
     "execution_count": 15,
     "metadata": {},
     "output_type": "execute_result"
    }
   ],
   "source": [
    "#Linear Regression Model Performance on Test dataset.\n",
    "pred = m1.predict(test[['X']])\n",
    "\n",
    "sub1_ = pd.DataFrame()\n",
    "sub1_['X'] = test['X']\n",
    "sub1_['Y_predicted'] = pred\n",
    "sub1_['Y_actual'] = test['Y']\n",
    "\n",
    "s1_ = (np.sqrt(mse(sub1_['Y_predicted'], sub1_['Y_actual'])))\n",
    "print(s1_)\n",
    "print()\n",
    "\n",
    "\n",
    "sub1_.to_csv('sub1_.csv', index=False)\n",
    "\n",
    "os.chdir(r'../working')\n",
    "from IPython.display import FileLink\n",
    "FileLink(r'sub1_.csv')"
   ]
  },
  {
   "cell_type": "markdown",
   "id": "491807fb",
   "metadata": {
    "papermill": {
     "duration": 0.014776,
     "end_time": "2022-06-29T06:59:51.867171",
     "exception": false,
     "start_time": "2022-06-29T06:59:51.852395",
     "status": "completed"
    },
    "tags": []
   },
   "source": [
    "# **Model-2 Random Forest Regressor**"
   ]
  },
  {
   "cell_type": "code",
   "execution_count": 16,
   "id": "14c4cdd0",
   "metadata": {
    "execution": {
     "iopub.execute_input": "2022-06-29T06:59:51.898166Z",
     "iopub.status.busy": "2022-06-29T06:59:51.896807Z",
     "iopub.status.idle": "2022-06-29T06:59:55.554869Z",
     "shell.execute_reply": "2022-06-29T06:59:55.551541Z"
    },
    "papermill": {
     "duration": 3.677277,
     "end_time": "2022-06-29T06:59:55.558537",
     "exception": false,
     "start_time": "2022-06-29T06:59:51.881260",
     "status": "completed"
    },
    "tags": []
   },
   "outputs": [
    {
     "name": "stderr",
     "output_type": "stream",
     "text": [
      "/opt/conda/lib/python3.7/site-packages/ipykernel_launcher.py:8: DataConversionWarning: A column-vector y was passed when a 1d array was expected. Please change the shape of y to (n_samples,), for example using ravel().\n",
      "  \n"
     ]
    },
    {
     "name": "stdout",
     "output_type": "stream",
     "text": [
      "5.3485357636748265\n"
     ]
    }
   ],
   "source": [
    "from sklearn.ensemble import RandomForestRegressor\n",
    "\n",
    "m2 = RandomForestRegressor(n_estimators=1550, criterion='squared_error', max_depth=33, \n",
    "                           min_samples_split=7, min_samples_leaf=7, min_weight_fraction_leaf=0.0, \n",
    "                           max_features=1.0, max_leaf_nodes=3, min_impurity_decrease=0.0, \n",
    "                           bootstrap=True, oob_score=False, n_jobs=3, random_state=33, \n",
    "                           verbose=0, warm_start=True, ccp_alpha=0.0, max_samples=1)\n",
    "m2.fit(Xtrain,ytrain)\n",
    "ypred = m2.predict(Xtest)\n",
    "\n",
    "s2 = (np.sqrt(mse(ytest, ypred)))\n",
    "print(s2)"
   ]
  },
  {
   "cell_type": "code",
   "execution_count": 17,
   "id": "e7f51d8b",
   "metadata": {
    "execution": {
     "iopub.execute_input": "2022-06-29T06:59:55.599103Z",
     "iopub.status.busy": "2022-06-29T06:59:55.596919Z",
     "iopub.status.idle": "2022-06-29T06:59:55.929351Z",
     "shell.execute_reply": "2022-06-29T06:59:55.927806Z"
    },
    "papermill": {
     "duration": 0.354908,
     "end_time": "2022-06-29T06:59:55.932243",
     "exception": false,
     "start_time": "2022-06-29T06:59:55.577335",
     "status": "completed"
    },
    "tags": []
   },
   "outputs": [
    {
     "name": "stdout",
     "output_type": "stream",
     "text": [
      "5.319863140183047\n",
      "\n"
     ]
    },
    {
     "data": {
      "text/html": [
       "<a href='sub2_.csv' target='_blank'>sub2_.csv</a><br>"
      ],
      "text/plain": [
       "/kaggle/working/sub2_.csv"
      ]
     },
     "execution_count": 17,
     "metadata": {},
     "output_type": "execute_result"
    }
   ],
   "source": [
    "#Random Forest Model Performance on Test dataset. \n",
    "pred = m2.predict(test[['X']])\n",
    "\n",
    "sub2_ = pd.DataFrame()\n",
    "sub2_['X'] = test['X']\n",
    "sub2_['Y_predicted'] = pred\n",
    "sub2_['Y_actual'] = test['Y']\n",
    "\n",
    "s2_ = (np.sqrt(mse(sub2_['Y_predicted'], sub2_['Y_actual'])))\n",
    "print(s2_)\n",
    "print()\n",
    "\n",
    "\n",
    "sub2_.to_csv('sub2_.csv', index=False)\n",
    "\n",
    "os.chdir(r'../working')\n",
    "from IPython.display import FileLink\n",
    "FileLink(r'sub2_.csv')"
   ]
  },
  {
   "cell_type": "markdown",
   "id": "cf0be32f",
   "metadata": {
    "papermill": {
     "duration": 0.015249,
     "end_time": "2022-06-29T06:59:55.962719",
     "exception": false,
     "start_time": "2022-06-29T06:59:55.947470",
     "status": "completed"
    },
    "tags": []
   },
   "source": [
    "# **Model-3 LightGBM Regressor**"
   ]
  },
  {
   "cell_type": "code",
   "execution_count": 18,
   "id": "94f74196",
   "metadata": {
    "execution": {
     "iopub.execute_input": "2022-06-29T06:59:55.995354Z",
     "iopub.status.busy": "2022-06-29T06:59:55.994952Z",
     "iopub.status.idle": "2022-06-29T06:59:57.433064Z",
     "shell.execute_reply": "2022-06-29T06:59:57.432045Z"
    },
    "papermill": {
     "duration": 1.457421,
     "end_time": "2022-06-29T06:59:57.435534",
     "exception": false,
     "start_time": "2022-06-29T06:59:55.978113",
     "status": "completed"
    },
    "tags": []
   },
   "outputs": [
    {
     "data": {
      "text/html": [
       "<style type='text/css'>\n",
       ".datatable table.frame { margin-bottom: 0; }\n",
       ".datatable table.frame thead { border-bottom: none; }\n",
       ".datatable table.frame tr.coltypes td {  color: #FFFFFF;  line-height: 6px;  padding: 0 0.5em;}\n",
       ".datatable .bool    { background: #DDDD99; }\n",
       ".datatable .object  { background: #565656; }\n",
       ".datatable .int     { background: #5D9E5D; }\n",
       ".datatable .float   { background: #4040CC; }\n",
       ".datatable .str     { background: #CC4040; }\n",
       ".datatable .time    { background: #40CC40; }\n",
       ".datatable .row_index {  background: var(--jp-border-color3);  border-right: 1px solid var(--jp-border-color0);  color: var(--jp-ui-font-color3);  font-size: 9px;}\n",
       ".datatable .frame tbody td { text-align: left; }\n",
       ".datatable .frame tr.coltypes .row_index {  background: var(--jp-border-color0);}\n",
       ".datatable th:nth-child(2) { padding-left: 12px; }\n",
       ".datatable .hellipsis {  color: var(--jp-cell-editor-border-color);}\n",
       ".datatable .vellipsis {  background: var(--jp-layout-color0);  color: var(--jp-cell-editor-border-color);}\n",
       ".datatable .na {  color: var(--jp-cell-editor-border-color);  font-size: 80%;}\n",
       ".datatable .sp {  opacity: 0.25;}\n",
       ".datatable .footer { font-size: 9px; }\n",
       ".datatable .frame_dimensions {  background: var(--jp-border-color3);  border-top: 1px solid var(--jp-border-color0);  color: var(--jp-ui-font-color3);  display: inline-block;  opacity: 0.6;  padding: 1px 10px 1px 5px;}\n",
       "</style>\n"
      ],
      "text/plain": [
       "<IPython.core.display.HTML object>"
      ]
     },
     "metadata": {},
     "output_type": "display_data"
    },
    {
     "name": "stdout",
     "output_type": "stream",
     "text": [
      "5.492376981530925\n"
     ]
    }
   ],
   "source": [
    "from lightgbm import LGBMRegressor\n",
    "\n",
    "m3 = LGBMRegressor(boosting_type='gbdt', num_leaves=6, max_depth=None, learning_rate=0.0017, \n",
    "                   n_estimators=1200, subsample_for_bin=200000, objective='regression', \n",
    "                   class_weight=None, min_split_gain=0.0, min_child_weight=0.001, min_child_samples=20, \n",
    "                   subsample=1.0, subsample_freq=0, colsample_bytree=1.0, reg_alpha=0.0, \n",
    "                   reg_lambda=0.0, random_state=33, n_jobs=3, importance_type='split')\n",
    "\n",
    "m3.fit(Xtrain,ytrain)\n",
    "ypred = m3.predict(Xtest)\n",
    "\n",
    "s3 = (np.sqrt(mse(ytest, ypred)))\n",
    "print(s3)"
   ]
  },
  {
   "cell_type": "code",
   "execution_count": 19,
   "id": "c1dc4567",
   "metadata": {
    "execution": {
     "iopub.execute_input": "2022-06-29T06:59:57.469509Z",
     "iopub.status.busy": "2022-06-29T06:59:57.468702Z",
     "iopub.status.idle": "2022-06-29T06:59:57.494252Z",
     "shell.execute_reply": "2022-06-29T06:59:57.493305Z"
    },
    "papermill": {
     "duration": 0.045513,
     "end_time": "2022-06-29T06:59:57.497643",
     "exception": false,
     "start_time": "2022-06-29T06:59:57.452130",
     "status": "completed"
    },
    "tags": []
   },
   "outputs": [
    {
     "name": "stdout",
     "output_type": "stream",
     "text": [
      "5.5053665365246065\n"
     ]
    },
    {
     "data": {
      "text/html": [
       "<a href='sub3_.csv' target='_blank'>sub3_.csv</a><br>"
      ],
      "text/plain": [
       "/kaggle/working/sub3_.csv"
      ]
     },
     "execution_count": 19,
     "metadata": {},
     "output_type": "execute_result"
    }
   ],
   "source": [
    "#LGBM Regressor Model prediction on Test dataset. \n",
    "pred = m3.predict(test[['X']])\n",
    "\n",
    "sub3_ = pd.DataFrame()\n",
    "sub3_['X'] = test['X']\n",
    "sub3_['Y_predicted'] = pred\n",
    "sub3_['Y_actual'] = test['Y']\n",
    "\n",
    "s3_ = (np.sqrt(mse(sub3_['Y_predicted'], sub3_['Y_actual'])))\n",
    "print(s3_)\n",
    "\n",
    "\n",
    "sub3_.to_csv('sub3_.csv', index=False)\n",
    "\n",
    "os.chdir(r'../working')\n",
    "from IPython.display import FileLink\n",
    "FileLink(r'sub3_.csv')"
   ]
  },
  {
   "cell_type": "markdown",
   "id": "b388f521",
   "metadata": {
    "papermill": {
     "duration": 0.014753,
     "end_time": "2022-06-29T06:59:57.528315",
     "exception": false,
     "start_time": "2022-06-29T06:59:57.513562",
     "status": "completed"
    },
    "tags": []
   },
   "source": [
    "# **Model-4 GradientBoostingRegressor**"
   ]
  },
  {
   "cell_type": "code",
   "execution_count": 20,
   "id": "1bcbaa5f",
   "metadata": {
    "execution": {
     "iopub.execute_input": "2022-06-29T06:59:57.563197Z",
     "iopub.status.busy": "2022-06-29T06:59:57.562495Z",
     "iopub.status.idle": "2022-06-29T06:59:57.996222Z",
     "shell.execute_reply": "2022-06-29T06:59:57.994484Z"
    },
    "papermill": {
     "duration": 0.456612,
     "end_time": "2022-06-29T06:59:57.999922",
     "exception": false,
     "start_time": "2022-06-29T06:59:57.543310",
     "status": "completed"
    },
    "tags": []
   },
   "outputs": [
    {
     "name": "stderr",
     "output_type": "stream",
     "text": [
      "/opt/conda/lib/python3.7/site-packages/sklearn/ensemble/_gb.py:494: DataConversionWarning: A column-vector y was passed when a 1d array was expected. Please change the shape of y to (n_samples, ), for example using ravel().\n",
      "  y = column_or_1d(y, warn=True)\n"
     ]
    },
    {
     "name": "stdout",
     "output_type": "stream",
     "text": [
      "5.610986778592632\n"
     ]
    }
   ],
   "source": [
    "from sklearn.ensemble import GradientBoostingRegressor\n",
    "\n",
    "m4 = GradientBoostingRegressor(loss='squared_error', learning_rate=0.017, n_estimators=1400, \n",
    "                               subsample=1.0, criterion='friedman_mse', min_samples_split=2, \n",
    "                               min_samples_leaf=1, min_weight_fraction_leaf=0.0, max_depth=33, \n",
    "                               min_impurity_decrease=0.0, init=None, random_state=None, \n",
    "                               max_features=None, alpha=0.9, verbose=0, max_leaf_nodes=None, \n",
    "                               warm_start=False, validation_fraction=0.1, n_iter_no_change=None, \n",
    "                               tol=0.0001, ccp_alpha=0.0)\n",
    "\n",
    "m4.fit(Xtrain,ytrain)\n",
    "ypred = m4.predict(Xtest)\n",
    "\n",
    "s4 = (np.sqrt(mse(ytest, ypred)))\n",
    "print(s4)"
   ]
  },
  {
   "cell_type": "code",
   "execution_count": 21,
   "id": "545a8220",
   "metadata": {
    "execution": {
     "iopub.execute_input": "2022-06-29T06:59:58.034656Z",
     "iopub.status.busy": "2022-06-29T06:59:58.034219Z",
     "iopub.status.idle": "2022-06-29T06:59:58.059452Z",
     "shell.execute_reply": "2022-06-29T06:59:58.057545Z"
    },
    "papermill": {
     "duration": 0.045849,
     "end_time": "2022-06-29T06:59:58.062591",
     "exception": false,
     "start_time": "2022-06-29T06:59:58.016742",
     "status": "completed"
    },
    "tags": []
   },
   "outputs": [
    {
     "name": "stdout",
     "output_type": "stream",
     "text": [
      "6.2875770344916555\n"
     ]
    },
    {
     "data": {
      "text/html": [
       "<a href='sub4_.csv' target='_blank'>sub4_.csv</a><br>"
      ],
      "text/plain": [
       "/kaggle/working/sub4_.csv"
      ]
     },
     "execution_count": 21,
     "metadata": {},
     "output_type": "execute_result"
    }
   ],
   "source": [
    "#Gradient Boosting predictions\n",
    "pred = m4.predict(test[['X']])\n",
    "\n",
    "sub4_ = pd.DataFrame()\n",
    "sub4_['X'] = test['X']\n",
    "sub4_['Y_predicted'] = pred\n",
    "sub4_['Y_actual'] = test['Y']\n",
    "\n",
    "s4_ = (np.sqrt(mse(sub4_['Y_predicted'], sub4_['Y_actual'])))\n",
    "print(s4_)\n",
    "\n",
    "\n",
    "sub4_.to_csv('sub4_.csv', index=False)\n",
    "\n",
    "os.chdir(r'../working')\n",
    "from IPython.display import FileLink\n",
    "FileLink(r'sub4_.csv')"
   ]
  },
  {
   "cell_type": "markdown",
   "id": "9e420c1b",
   "metadata": {
    "papermill": {
     "duration": 0.015696,
     "end_time": "2022-06-29T06:59:58.095088",
     "exception": false,
     "start_time": "2022-06-29T06:59:58.079392",
     "status": "completed"
    },
    "tags": []
   },
   "source": [
    "# **Model-5 RANSAC Model**"
   ]
  },
  {
   "cell_type": "code",
   "execution_count": 22,
   "id": "a23f2de8",
   "metadata": {
    "execution": {
     "iopub.execute_input": "2022-06-29T06:59:58.128903Z",
     "iopub.status.busy": "2022-06-29T06:59:58.128498Z",
     "iopub.status.idle": "2022-06-29T06:59:58.157639Z",
     "shell.execute_reply": "2022-06-29T06:59:58.156356Z"
    },
    "papermill": {
     "duration": 0.050102,
     "end_time": "2022-06-29T06:59:58.161016",
     "exception": false,
     "start_time": "2022-06-29T06:59:58.110914",
     "status": "completed"
    },
    "tags": []
   },
   "outputs": [
    {
     "name": "stdout",
     "output_type": "stream",
     "text": [
      "5.374011028023093\n"
     ]
    }
   ],
   "source": [
    "from sklearn.linear_model import RANSACRegressor\n",
    "\n",
    "m5 = RANSACRegressor(base_estimator=None, min_samples=None, residual_threshold=None, is_data_valid=None, is_model_valid=None, \n",
    "                     max_trials=1000, max_skips=np.inf, stop_n_inliers=np.inf, stop_score=np.inf, stop_probability=0.99, \n",
    "                     loss=\"absolute_error\", random_state=33)\n",
    "\n",
    "m5.fit(Xtrain,ytrain)\n",
    "ypred = m5.predict(Xtest)\n",
    "\n",
    "s5 = (np.sqrt(mse(ytest, ypred)))\n",
    "print(s5)"
   ]
  },
  {
   "cell_type": "code",
   "execution_count": 23,
   "id": "f42782e6",
   "metadata": {
    "execution": {
     "iopub.execute_input": "2022-06-29T06:59:58.194488Z",
     "iopub.status.busy": "2022-06-29T06:59:58.194050Z",
     "iopub.status.idle": "2022-06-29T06:59:58.216650Z",
     "shell.execute_reply": "2022-06-29T06:59:58.215310Z"
    },
    "papermill": {
     "duration": 0.042006,
     "end_time": "2022-06-29T06:59:58.219324",
     "exception": false,
     "start_time": "2022-06-29T06:59:58.177318",
     "status": "completed"
    },
    "tags": []
   },
   "outputs": [
    {
     "name": "stdout",
     "output_type": "stream",
     "text": [
      "5.296517473329689\n"
     ]
    },
    {
     "data": {
      "text/html": [
       "<a href='sub5_.csv' target='_blank'>sub5_.csv</a><br>"
      ],
      "text/plain": [
       "/kaggle/working/sub5_.csv"
      ]
     },
     "execution_count": 23,
     "metadata": {},
     "output_type": "execute_result"
    }
   ],
   "source": [
    "#RANSAC predictions\n",
    "pred = m5.predict(test[['X']])\n",
    "\n",
    "sub5_= pd.DataFrame()\n",
    "sub5_['X'] = test['X']\n",
    "sub5_['Y_predicted'] = pred\n",
    "sub5_['Y_actual'] = test['Y']\n",
    "\n",
    "s5_= (np.sqrt(mse(sub5_['Y_predicted'], sub5_['Y_actual'])))\n",
    "print(s5_)\n",
    "\n",
    "\n",
    "sub5_.to_csv('sub5_.csv', index=False)\n",
    "\n",
    "os.chdir(r'../working')\n",
    "from IPython.display import FileLink\n",
    "FileLink(r'sub5_.csv')"
   ]
  },
  {
   "cell_type": "markdown",
   "id": "67838596",
   "metadata": {
    "papermill": {
     "duration": 0.015479,
     "end_time": "2022-06-29T06:59:58.250727",
     "exception": false,
     "start_time": "2022-06-29T06:59:58.235248",
     "status": "completed"
    },
    "tags": []
   },
   "source": [
    "# **Results Summary of all the Models Validations above**"
   ]
  },
  {
   "cell_type": "code",
   "execution_count": 24,
   "id": "8fbb5750",
   "metadata": {
    "execution": {
     "iopub.execute_input": "2022-06-29T06:59:58.284839Z",
     "iopub.status.busy": "2022-06-29T06:59:58.284045Z",
     "iopub.status.idle": "2022-06-29T06:59:58.312633Z",
     "shell.execute_reply": "2022-06-29T06:59:58.310989Z"
    },
    "papermill": {
     "duration": 0.048543,
     "end_time": "2022-06-29T06:59:58.315148",
     "exception": false,
     "start_time": "2022-06-29T06:59:58.266605",
     "status": "completed"
    },
    "tags": []
   },
   "outputs": [
    {
     "data": {
      "text/html": [
       "<div>\n",
       "<style scoped>\n",
       "    .dataframe tbody tr th:only-of-type {\n",
       "        vertical-align: middle;\n",
       "    }\n",
       "\n",
       "    .dataframe tbody tr th {\n",
       "        vertical-align: top;\n",
       "    }\n",
       "\n",
       "    .dataframe thead th {\n",
       "        text-align: right;\n",
       "    }\n",
       "</style>\n",
       "<table border=\"1\" class=\"dataframe\">\n",
       "  <thead>\n",
       "    <tr style=\"text-align: right;\">\n",
       "      <th></th>\n",
       "      <th>Algorithm</th>\n",
       "      <th>RMSE_Score</th>\n",
       "      <th>submission_file</th>\n",
       "    </tr>\n",
       "  </thead>\n",
       "  <tbody>\n",
       "    <tr>\n",
       "      <th>0</th>\n",
       "      <td>Linear Regression</td>\n",
       "      <td>5.265927</td>\n",
       "      <td>/kaggle/working/sub1.csv</td>\n",
       "    </tr>\n",
       "    <tr>\n",
       "      <th>1</th>\n",
       "      <td>Random Forest</td>\n",
       "      <td>5.348536</td>\n",
       "      <td>/kaggle/working/sub2.csv</td>\n",
       "    </tr>\n",
       "    <tr>\n",
       "      <th>2</th>\n",
       "      <td>LightGBM</td>\n",
       "      <td>5.492377</td>\n",
       "      <td>/kaggle/working/sub3.csv</td>\n",
       "    </tr>\n",
       "    <tr>\n",
       "      <th>3</th>\n",
       "      <td>GradientBoosting</td>\n",
       "      <td>5.610987</td>\n",
       "      <td>/kaggle/working/sub4.csv</td>\n",
       "    </tr>\n",
       "    <tr>\n",
       "      <th>4</th>\n",
       "      <td>RANSAC</td>\n",
       "      <td>5.374011</td>\n",
       "      <td>/kaggle/working/sub5.csv</td>\n",
       "    </tr>\n",
       "  </tbody>\n",
       "</table>\n",
       "</div>"
      ],
      "text/plain": [
       "           Algorithm  RMSE_Score           submission_file\n",
       "0  Linear Regression    5.265927  /kaggle/working/sub1.csv\n",
       "1      Random Forest    5.348536  /kaggle/working/sub2.csv\n",
       "2           LightGBM    5.492377  /kaggle/working/sub3.csv\n",
       "3   GradientBoosting    5.610987  /kaggle/working/sub4.csv\n",
       "4             RANSAC    5.374011  /kaggle/working/sub5.csv"
      ]
     },
     "metadata": {},
     "output_type": "display_data"
    },
    {
     "name": "stdout",
     "output_type": "stream",
     "text": [
      " \n",
      " \n",
      "******* Winner Model *******\n",
      " \n",
      " \n"
     ]
    },
    {
     "data": {
      "text/html": [
       "<div>\n",
       "<style scoped>\n",
       "    .dataframe tbody tr th:only-of-type {\n",
       "        vertical-align: middle;\n",
       "    }\n",
       "\n",
       "    .dataframe tbody tr th {\n",
       "        vertical-align: top;\n",
       "    }\n",
       "\n",
       "    .dataframe thead th {\n",
       "        text-align: right;\n",
       "    }\n",
       "</style>\n",
       "<table border=\"1\" class=\"dataframe\">\n",
       "  <thead>\n",
       "    <tr style=\"text-align: right;\">\n",
       "      <th></th>\n",
       "      <th>Algorithm</th>\n",
       "      <th>RMSE_Score</th>\n",
       "      <th>submission_file</th>\n",
       "    </tr>\n",
       "  </thead>\n",
       "  <tbody>\n",
       "    <tr>\n",
       "      <th>0</th>\n",
       "      <td>Linear Regression</td>\n",
       "      <td>5.265927</td>\n",
       "      <td>/kaggle/working/sub1.csv</td>\n",
       "    </tr>\n",
       "  </tbody>\n",
       "</table>\n",
       "</div>"
      ],
      "text/plain": [
       "           Algorithm  RMSE_Score           submission_file\n",
       "0  Linear Regression    5.265927  /kaggle/working/sub1.csv"
      ]
     },
     "metadata": {},
     "output_type": "display_data"
    }
   ],
   "source": [
    "#Result Evaluation\n",
    "scores = pd.DataFrame()\n",
    "scores['Algorithm'] = ['Linear Regression', 'Random Forest', 'LightGBM', 'GradientBoosting', 'RANSAC']\n",
    "scores['RMSE_Score'] = [s1,s2,s3,s4,s5]\n",
    "scores['submission_file'] = [FileLink(r'sub1.csv'),FileLink(r'sub2.csv'),FileLink(r'sub3.csv'),\n",
    "                             FileLink(r'sub4.csv'), FileLink(r'sub5.csv')] #prediction on test data\n",
    "\n",
    "display(scores)\n",
    "\n",
    "print(\" \")\n",
    "print(\" \")\n",
    "print(\"******* Winner Model *******\")\n",
    "print(\" \")\n",
    "print(\" \")\n",
    "\n",
    "display(scores[scores['RMSE_Score'] == min(scores['RMSE_Score'])])"
   ]
  },
  {
   "cell_type": "markdown",
   "id": "1b4f3986",
   "metadata": {
    "papermill": {
     "duration": 0.016308,
     "end_time": "2022-06-29T06:59:58.347764",
     "exception": false,
     "start_time": "2022-06-29T06:59:58.331456",
     "status": "completed"
    },
    "tags": []
   },
   "source": [
    "# **Results Summary of all the Models Performace above**"
   ]
  },
  {
   "cell_type": "code",
   "execution_count": 25,
   "id": "ce99d629",
   "metadata": {
    "execution": {
     "iopub.execute_input": "2022-06-29T06:59:58.383706Z",
     "iopub.status.busy": "2022-06-29T06:59:58.382303Z",
     "iopub.status.idle": "2022-06-29T06:59:58.407148Z",
     "shell.execute_reply": "2022-06-29T06:59:58.405277Z"
    },
    "papermill": {
     "duration": 0.045415,
     "end_time": "2022-06-29T06:59:58.409858",
     "exception": false,
     "start_time": "2022-06-29T06:59:58.364443",
     "status": "completed"
    },
    "tags": []
   },
   "outputs": [
    {
     "data": {
      "text/html": [
       "<div>\n",
       "<style scoped>\n",
       "    .dataframe tbody tr th:only-of-type {\n",
       "        vertical-align: middle;\n",
       "    }\n",
       "\n",
       "    .dataframe tbody tr th {\n",
       "        vertical-align: top;\n",
       "    }\n",
       "\n",
       "    .dataframe thead th {\n",
       "        text-align: right;\n",
       "    }\n",
       "</style>\n",
       "<table border=\"1\" class=\"dataframe\">\n",
       "  <thead>\n",
       "    <tr style=\"text-align: right;\">\n",
       "      <th></th>\n",
       "      <th>Algorithm</th>\n",
       "      <th>RMSE_Score</th>\n",
       "      <th>submission_file</th>\n",
       "    </tr>\n",
       "  </thead>\n",
       "  <tbody>\n",
       "    <tr>\n",
       "      <th>0</th>\n",
       "      <td>Linear Regression</td>\n",
       "      <td>5.491999</td>\n",
       "      <td>/kaggle/working/sub1_.csv</td>\n",
       "    </tr>\n",
       "    <tr>\n",
       "      <th>1</th>\n",
       "      <td>Random Forest</td>\n",
       "      <td>5.319863</td>\n",
       "      <td>/kaggle/working/sub2_.csv</td>\n",
       "    </tr>\n",
       "    <tr>\n",
       "      <th>2</th>\n",
       "      <td>LightGBM</td>\n",
       "      <td>5.505367</td>\n",
       "      <td>/kaggle/working/sub3_.csv</td>\n",
       "    </tr>\n",
       "    <tr>\n",
       "      <th>3</th>\n",
       "      <td>GradientBoosting</td>\n",
       "      <td>6.287577</td>\n",
       "      <td>/kaggle/working/sub4_.csv</td>\n",
       "    </tr>\n",
       "    <tr>\n",
       "      <th>4</th>\n",
       "      <td>RANSAC</td>\n",
       "      <td>5.296517</td>\n",
       "      <td>/kaggle/working/sub5_.csv</td>\n",
       "    </tr>\n",
       "  </tbody>\n",
       "</table>\n",
       "</div>"
      ],
      "text/plain": [
       "           Algorithm  RMSE_Score            submission_file\n",
       "0  Linear Regression    5.491999  /kaggle/working/sub1_.csv\n",
       "1      Random Forest    5.319863  /kaggle/working/sub2_.csv\n",
       "2           LightGBM    5.505367  /kaggle/working/sub3_.csv\n",
       "3   GradientBoosting    6.287577  /kaggle/working/sub4_.csv\n",
       "4             RANSAC    5.296517  /kaggle/working/sub5_.csv"
      ]
     },
     "metadata": {},
     "output_type": "display_data"
    },
    {
     "name": "stdout",
     "output_type": "stream",
     "text": [
      " \n",
      " \n",
      "******* Winner Model *******\n",
      " \n",
      " \n"
     ]
    },
    {
     "data": {
      "text/html": [
       "<div>\n",
       "<style scoped>\n",
       "    .dataframe tbody tr th:only-of-type {\n",
       "        vertical-align: middle;\n",
       "    }\n",
       "\n",
       "    .dataframe tbody tr th {\n",
       "        vertical-align: top;\n",
       "    }\n",
       "\n",
       "    .dataframe thead th {\n",
       "        text-align: right;\n",
       "    }\n",
       "</style>\n",
       "<table border=\"1\" class=\"dataframe\">\n",
       "  <thead>\n",
       "    <tr style=\"text-align: right;\">\n",
       "      <th></th>\n",
       "      <th>Algorithm</th>\n",
       "      <th>RMSE_Score</th>\n",
       "      <th>submission_file</th>\n",
       "    </tr>\n",
       "  </thead>\n",
       "  <tbody>\n",
       "    <tr>\n",
       "      <th>4</th>\n",
       "      <td>RANSAC</td>\n",
       "      <td>5.296517</td>\n",
       "      <td>/kaggle/working/sub5_.csv</td>\n",
       "    </tr>\n",
       "  </tbody>\n",
       "</table>\n",
       "</div>"
      ],
      "text/plain": [
       "  Algorithm  RMSE_Score            submission_file\n",
       "4    RANSAC    5.296517  /kaggle/working/sub5_.csv"
      ]
     },
     "metadata": {},
     "output_type": "display_data"
    }
   ],
   "source": [
    "#Result Evaluation\n",
    "scores = pd.DataFrame()\n",
    "scores['Algorithm'] = ['Linear Regression', 'Random Forest', 'LightGBM', 'GradientBoosting', 'RANSAC']\n",
    "scores['RMSE_Score'] = [s1_,s2_,s3_,s4_,s5_]\n",
    "scores['submission_file'] = [FileLink(r'sub1_.csv'),FileLink(r'sub2_.csv'),FileLink(r'sub3_.csv'),\n",
    "                             FileLink(r'sub4_.csv'), FileLink(r'sub5_.csv')] #prediction on test data\n",
    "\n",
    "display(scores)\n",
    "\n",
    "print(\" \")\n",
    "print(\" \")\n",
    "print(\"******* Winner Model *******\")\n",
    "print(\" \")\n",
    "print(\" \")\n",
    "\n",
    "display(scores[scores['RMSE_Score'] == min(scores['RMSE_Score'])])"
   ]
  },
  {
   "cell_type": "code",
   "execution_count": 26,
   "id": "bde58fae",
   "metadata": {
    "execution": {
     "iopub.execute_input": "2022-06-29T06:59:58.445299Z",
     "iopub.status.busy": "2022-06-29T06:59:58.444885Z",
     "iopub.status.idle": "2022-06-29T06:59:58.452622Z",
     "shell.execute_reply": "2022-06-29T06:59:58.451116Z"
    },
    "papermill": {
     "duration": 0.02928,
     "end_time": "2022-06-29T06:59:58.455902",
     "exception": false,
     "start_time": "2022-06-29T06:59:58.426622",
     "status": "completed"
    },
    "tags": []
   },
   "outputs": [
    {
     "name": "stdout",
     "output_type": "stream",
     "text": [
      "/kaggle/working/sub5_.csv\n"
     ]
    }
   ],
   "source": [
    "winner = scores[scores['RMSE_Score'] == min(scores['RMSE_Score'])]['submission_file']\n",
    "print(\"/kaggle/working/\"+winner.values[0].path)"
   ]
  },
  {
   "cell_type": "code",
   "execution_count": 27,
   "id": "61f1d0ff",
   "metadata": {
    "execution": {
     "iopub.execute_input": "2022-06-29T06:59:58.491845Z",
     "iopub.status.busy": "2022-06-29T06:59:58.491295Z",
     "iopub.status.idle": "2022-06-29T06:59:58.511063Z",
     "shell.execute_reply": "2022-06-29T06:59:58.509823Z"
    },
    "papermill": {
     "duration": 0.040929,
     "end_time": "2022-06-29T06:59:58.513995",
     "exception": false,
     "start_time": "2022-06-29T06:59:58.473066",
     "status": "completed"
    },
    "tags": []
   },
   "outputs": [
    {
     "data": {
      "text/html": [
       "<div>\n",
       "<style scoped>\n",
       "    .dataframe tbody tr th:only-of-type {\n",
       "        vertical-align: middle;\n",
       "    }\n",
       "\n",
       "    .dataframe tbody tr th {\n",
       "        vertical-align: top;\n",
       "    }\n",
       "\n",
       "    .dataframe thead th {\n",
       "        text-align: right;\n",
       "    }\n",
       "</style>\n",
       "<table border=\"1\" class=\"dataframe\">\n",
       "  <thead>\n",
       "    <tr style=\"text-align: right;\">\n",
       "      <th></th>\n",
       "      <th>X</th>\n",
       "      <th>Y_predicted</th>\n",
       "      <th>Y_actual</th>\n",
       "    </tr>\n",
       "  </thead>\n",
       "  <tbody>\n",
       "    <tr>\n",
       "      <th>0</th>\n",
       "      <td>72.0</td>\n",
       "      <td>71.550804</td>\n",
       "      <td>76.206897</td>\n",
       "    </tr>\n",
       "    <tr>\n",
       "      <th>1</th>\n",
       "      <td>56.0</td>\n",
       "      <td>71.327590</td>\n",
       "      <td>71.679401</td>\n",
       "    </tr>\n",
       "    <tr>\n",
       "      <th>2</th>\n",
       "      <td>56.0</td>\n",
       "      <td>71.327590</td>\n",
       "      <td>77.000000</td>\n",
       "    </tr>\n",
       "    <tr>\n",
       "      <th>3</th>\n",
       "      <td>80.0</td>\n",
       "      <td>71.662411</td>\n",
       "      <td>81.000000</td>\n",
       "    </tr>\n",
       "    <tr>\n",
       "      <th>4</th>\n",
       "      <td>52.0</td>\n",
       "      <td>71.271786</td>\n",
       "      <td>61.034483</td>\n",
       "    </tr>\n",
       "    <tr>\n",
       "      <th>...</th>\n",
       "      <td>...</td>\n",
       "      <td>...</td>\n",
       "      <td>...</td>\n",
       "    </tr>\n",
       "    <tr>\n",
       "      <th>82</th>\n",
       "      <td>56.0</td>\n",
       "      <td>71.327590</td>\n",
       "      <td>61.896552</td>\n",
       "    </tr>\n",
       "    <tr>\n",
       "      <th>83</th>\n",
       "      <td>60.0</td>\n",
       "      <td>71.383393</td>\n",
       "      <td>72.000000</td>\n",
       "    </tr>\n",
       "    <tr>\n",
       "      <th>84</th>\n",
       "      <td>40.0</td>\n",
       "      <td>71.104376</td>\n",
       "      <td>65.689655</td>\n",
       "    </tr>\n",
       "    <tr>\n",
       "      <th>85</th>\n",
       "      <td>60.0</td>\n",
       "      <td>71.383393</td>\n",
       "      <td>70.603448</td>\n",
       "    </tr>\n",
       "    <tr>\n",
       "      <th>86</th>\n",
       "      <td>64.0</td>\n",
       "      <td>71.439197</td>\n",
       "      <td>71.619009</td>\n",
       "    </tr>\n",
       "  </tbody>\n",
       "</table>\n",
       "<p>87 rows × 3 columns</p>\n",
       "</div>"
      ],
      "text/plain": [
       "       X  Y_predicted   Y_actual\n",
       "0   72.0    71.550804  76.206897\n",
       "1   56.0    71.327590  71.679401\n",
       "2   56.0    71.327590  77.000000\n",
       "3   80.0    71.662411  81.000000\n",
       "4   52.0    71.271786  61.034483\n",
       "..   ...          ...        ...\n",
       "82  56.0    71.327590  61.896552\n",
       "83  60.0    71.383393  72.000000\n",
       "84  40.0    71.104376  65.689655\n",
       "85  60.0    71.383393  70.603448\n",
       "86  64.0    71.439197  71.619009\n",
       "\n",
       "[87 rows x 3 columns]"
      ]
     },
     "metadata": {},
     "output_type": "display_data"
    }
   ],
   "source": [
    "plot_df = pd.read_csv(\"/kaggle/working/\"+winner.values[0].path)\n",
    "\n",
    "display(plot_df)"
   ]
  },
  {
   "cell_type": "code",
   "execution_count": 28,
   "id": "ffff4511",
   "metadata": {
    "execution": {
     "iopub.execute_input": "2022-06-29T06:59:58.550899Z",
     "iopub.status.busy": "2022-06-29T06:59:58.549905Z",
     "iopub.status.idle": "2022-06-29T06:59:59.426744Z",
     "shell.execute_reply": "2022-06-29T06:59:59.425476Z"
    },
    "papermill": {
     "duration": 0.898569,
     "end_time": "2022-06-29T06:59:59.429740",
     "exception": false,
     "start_time": "2022-06-29T06:59:58.531171",
     "status": "completed"
    },
    "tags": []
   },
   "outputs": [
    {
     "data": {
      "image/png": "[encoded data removed]",
      "text/plain": [
       "<Figure size 432x288 with 1 Axes>"
      ]
     },
     "metadata": {},
     "output_type": "display_data"
    }
   ],
   "source": [
    "sns.lineplot(x = \"X\",\n",
    "             y = \"Y_predicted\",\n",
    "             data = plot_df, color='red', legend='auto');\n",
    "sns.lineplot(x = \"X\",\n",
    "             y = \"Y_actual\",\n",
    "             data = plot_df, color='green', legend='auto');"
   ]
  },
  {
   "cell_type": "code",
   "execution_count": null,
   "id": "76d77900",
   "metadata": {
    "papermill": {
     "duration": 0.017788,
     "end_time": "2022-06-29T06:59:59.465588",
     "exception": false,
     "start_time": "2022-06-29T06:59:59.447800",
     "status": "completed"
    },
    "tags": []
   },
   "outputs": [],
   "source": []
  }
 ],
 "metadata": {
  "kernelspec": {
   "display_name": "Python 3",
   "language": "python",
   "name": "python3"
  },
  "language_info": {
   "codemirror_mode": {
    "name": "ipython",
    "version": 3
   },
   "file_extension": ".py",
   "mimetype": "text/x-python",
   "name": "python",
   "nbconvert_exporter": "python",
   "pygments_lexer": "ipython3",
   "version": "3.7.12"
  },
  "papermill": {
   "default_parameters": {},
   "duration": 35.963318,
   "end_time": "2022-06-29T07:00:00.909214",
   "environment_variables": {},
   "exception": null,
   "input_path": "__notebook__.ipynb",
   "output_path": "__notebook__.ipynb",
   "parameters": {},
   "start_time": "2022-06-29T06:59:24.945896",
   "version": "2.3.4"
  },
  "widgets": {
   "application/vnd.jupyter.widget-state+json": {
    "state": {
     "455c021b1ac6473a9d9b7dc1d20d0c1c": {
      "model_module": "@jupyter-widgets/base",
      "model_module_version": "1.2.0",
      "model_name": "LayoutModel",
      "state": {
       "_model_module": "@jupyter-widgets/base",
       "_model_module_version": "1.2.0",
       "_model_name": "LayoutModel",
       "_view_count": null,
       "_view_module": "@jupyter-widgets/base",
       "_view_module_version": "1.2.0",
       "_view_name": "LayoutView",
       "align_content": null,
       "align_items": null,
       "align_self": null,
       "border": null,
       "bottom": null,
       "display": null,
       "flex": null,
       "flex_flow": null,
       "grid_area": null,
       "grid_auto_columns": null,
       "grid_auto_flow": null,
       "grid_auto_rows": null,
       "grid_column": null,
       "grid_gap": null,
       "grid_row": null,
       "grid_template_areas": null,
       "grid_template_columns": null,
       "grid_template_rows": null,
       "height": null,
       "justify_content": null,
       "justify_items": null,
       "left": null,
       "margin": null,
       "max_height": null,
       "max_width": null,
       "min_height": null,
       "min_width": null,
       "object_fit": null,
       "object_position": null,
       "order": null,
       "overflow": null,
       "overflow_x": null,
       "overflow_y": null,
       "padding": null,
       "right": null,
       "top": null,
       "visibility": null,
       "width": null
      }
     },
     "901c8ba00db1421393fee9a2e0f25d96": {
      "model_module": "@jupyter-widgets/output",
      "model_module_version": "1.0.0",
      "model_name": "OutputModel",
      "state": {
       "_dom_classes": [],
       "_model_module": "@jupyter-widgets/output",
       "_model_module_version": "1.0.0",
       "_model_name": "OutputModel",
       "_view_count": null,
       "_view_module": "@jupyter-widgets/output",
       "_view_module_version": "1.0.0",
       "_view_name": "OutputView",
       "layout": "IPY_MODEL_455c021b1ac6473a9d9b7dc1d20d0c1c",
       "msg_id": "",
       "outputs": [
        {
         "data": {
          "text/html": "<pre style=\"white-space:pre;overflow-x:auto;line-height:normal;font-family:Menlo,'DejaVu Sans Mono',consolas,'Courier New',monospace\">     <span style=\"color: #f92672; text-decoration-color: #f92672\">━━━━━━━━━━━━━━━━━━━━━━━━━━━━━━━━━╸</span><span style=\"color: #3a3a3a; text-decoration-color: #3a3a3a\">━━━━━━</span> <span style=\"color: #008000; text-decoration-color: #008000\">204.8/242.1 kB</span> <span style=\"color: #800000; text-decoration-color: #800000\">1.3 MB/s</span> eta <span style=\"color: #008080; text-decoration-color: #008080\">0:00:01</span>\n</pre>\n",
          "text/plain": "     \u001b[38;2;249;38;114m━━━━━━━━━━━━━━━━━━━━━━━━━━━━━━━━━\u001b[0m\u001b[38;2;249;38;114m╸\u001b[0m\u001b[38;5;237m━━━━━━\u001b[0m \u001b[32m204.8/242.1 kB\u001b[0m \u001b[31m1.3 MB/s\u001b[0m eta \u001b[36m0:00:01\u001b[0m\n"
         },
         "metadata": {},
         "output_type": "display_data"
        }
       ]
      }
     }
    },
    "version_major": 2,
    "version_minor": 0
   }
  }
 },
 "nbformat": 4,
 "nbformat_minor": 5
}
