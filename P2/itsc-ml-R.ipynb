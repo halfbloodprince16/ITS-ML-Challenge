{
 "cells": [
  {
   "cell_type": "code",
   "execution_count": 1,
   "id": "a7411878",
   "metadata": {
    "_cell_guid": "b1076dfc-b9ad-4769-8c92-a6c4dae69d19",
    "_uuid": "8f2839f25d086af736a60e9eeb907d3b93b6e0e5",
    "execution": {
     "iopub.execute_input": "2022-06-26T07:44:50.527523Z",
     "iopub.status.busy": "2022-06-26T07:44:50.526429Z",
     "iopub.status.idle": "2022-06-26T07:44:50.544582Z",
     "shell.execute_reply": "2022-06-26T07:44:50.543615Z"
    },
    "papermill": {
     "duration": 0.034722,
     "end_time": "2022-06-26T07:44:50.547315",
     "exception": false,
     "start_time": "2022-06-26T07:44:50.512593",
     "status": "completed"
    },
    "tags": []
   },
   "outputs": [
    {
     "name": "stdout",
     "output_type": "stream",
     "text": [
      "/kaggle/input/itsc-ml-challenge-26jun/DATA_R.xlsx\n",
      "/kaggle/input/itsc-ml-challenge-26jun/DATA_P.xlsx\n"
     ]
    }
   ],
   "source": [
    "import numpy as np # linear algebra\n",
    "import pandas as pd # data processing, CSV file I/O (e.g. pd.read_csv)\n",
    "\n",
    "import os\n",
    "for dirname, _, filenames in os.walk('/kaggle/input'):\n",
    "    for filename in filenames:\n",
    "        print(os.path.join(dirname, filename))"
   ]
  },
  {
   "cell_type": "code",
   "execution_count": 2,
   "id": "523369cf",
   "metadata": {
    "execution": {
     "iopub.execute_input": "2022-06-26T07:44:50.563332Z",
     "iopub.status.busy": "2022-06-26T07:44:50.562910Z",
     "iopub.status.idle": "2022-06-26T07:44:51.445288Z",
     "shell.execute_reply": "2022-06-26T07:44:51.444305Z"
    },
    "papermill": {
     "duration": 0.892482,
     "end_time": "2022-06-26T07:44:51.447228",
     "exception": false,
     "start_time": "2022-06-26T07:44:50.554746",
     "status": "completed"
    },
    "tags": []
   },
   "outputs": [],
   "source": [
    "import seaborn as sns\n",
    "import matplotlib.pyplot as plt\n",
    "import numpy as np\n",
    "sns.set_style('darkgrid')\n",
    "sns.set(font_scale=1.3)"
   ]
  },
  {
   "cell_type": "code",
   "execution_count": 3,
   "id": "526e09db",
   "metadata": {
    "execution": {
     "iopub.execute_input": "2022-06-26T07:44:51.462985Z",
     "iopub.status.busy": "2022-06-26T07:44:51.462661Z",
     "iopub.status.idle": "2022-06-26T07:45:00.659266Z",
     "shell.execute_reply": "2022-06-26T07:45:00.658169Z"
    },
    "papermill": {
     "duration": 9.206978,
     "end_time": "2022-06-26T07:45:00.661164",
     "exception": false,
     "start_time": "2022-06-26T07:44:51.454186",
     "status": "completed"
    },
    "tags": []
   },
   "outputs": [
    {
     "name": "stderr",
     "output_type": "stream",
     "text": [
      "WARNING: pip is being invoked by an old script wrapper. This will fail in a future version of pip.\n",
      "Please see https://github.com/pypa/pip/issues/5599 for advice on fixing the underlying issue.\n",
      "To avoid this problem you can invoke Python with '-m pip' instead of running pip directly.\n"
     ]
    },
    {
     "data": {
      "text/html": [
       "<pre style=\"white-space:pre;overflow-x:auto;line-height:normal;font-family:Menlo,'DejaVu Sans Mono',consolas,'Courier New',monospace\">Collecting openpyxl\n",
       "</pre>\n"
      ],
      "text/plain": [
       "Collecting openpyxl\n"
      ]
     },
     "metadata": {},
     "output_type": "display_data"
    },
    {
     "data": {
      "text/html": [
       "<pre style=\"white-space:pre;overflow-x:auto;line-height:normal;font-family:Menlo,'DejaVu Sans Mono',consolas,'Courier New',monospace\">  Downloading openpyxl-3.0.10-py2.py3-none-any.whl (242 kB)\n",
       "</pre>\n"
      ],
      "text/plain": [
       "  Downloading openpyxl-3.0.10-py2.py3-none-any.whl (242 kB)\n"
      ]
     },
     "metadata": {},
     "output_type": "display_data"
    },
    {
     "data": {
      "application/vnd.jupyter.widget-view+json": {
       "model_id": "906b08f96dcb48e098bdf99efba36a2a",
       "version_major": 2,
       "version_minor": 0
      },
      "text/plain": [
       "Output()"
      ]
     },
     "metadata": {},
     "output_type": "display_data"
    },
    {
     "data": {
      "text/html": [
       "<pre style=\"white-space:pre;overflow-x:auto;line-height:normal;font-family:Menlo,'DejaVu Sans Mono',consolas,'Courier New',monospace\"></pre>\n"
      ],
      "text/plain": []
     },
     "metadata": {},
     "output_type": "display_data"
    },
    {
     "data": {
      "text/html": [
       "<pre style=\"white-space:pre;overflow-x:auto;line-height:normal;font-family:Menlo,'DejaVu Sans Mono',consolas,'Courier New',monospace\">\n",
       "</pre>\n"
      ],
      "text/plain": [
       "\n"
      ]
     },
     "metadata": {},
     "output_type": "display_data"
    },
    {
     "data": {
      "text/html": [
       "<pre style=\"white-space:pre;overflow-x:auto;line-height:normal;font-family:Menlo,'DejaVu Sans Mono',consolas,'Courier New',monospace\">Collecting et-xmlfile\n",
       "</pre>\n"
      ],
      "text/plain": [
       "Collecting et-xmlfile\n"
      ]
     },
     "metadata": {},
     "output_type": "display_data"
    },
    {
     "data": {
      "text/html": [
       "<pre style=\"white-space:pre;overflow-x:auto;line-height:normal;font-family:Menlo,'DejaVu Sans Mono',consolas,'Courier New',monospace\">  Downloading et_xmlfile-1.1.0-py3-none-any.whl (4.7 kB)\n",
       "</pre>\n"
      ],
      "text/plain": [
       "  Downloading et_xmlfile-1.1.0-py3-none-any.whl (4.7 kB)\n"
      ]
     },
     "metadata": {},
     "output_type": "display_data"
    },
    {
     "data": {
      "text/html": [
       "<pre style=\"white-space:pre;overflow-x:auto;line-height:normal;font-family:Menlo,'DejaVu Sans Mono',consolas,'Courier New',monospace\">Installing collected packages: et-xmlfile, openpyxl\n",
       "</pre>\n"
      ],
      "text/plain": [
       "Installing collected packages: et-xmlfile, openpyxl\n"
      ]
     },
     "metadata": {},
     "output_type": "display_data"
    },
    {
     "data": {
      "text/html": [
       "<pre style=\"white-space:pre;overflow-x:auto;line-height:normal;font-family:Menlo,'DejaVu Sans Mono',consolas,'Courier New',monospace\">Successfully installed et-xmlfile-1.1.0 openpyxl-3.0.10\n",
       "</pre>\n"
      ],
      "text/plain": [
       "Successfully installed et-xmlfile-1.1.0 openpyxl-3.0.10\n"
      ]
     },
     "metadata": {},
     "output_type": "display_data"
    },
    {
     "data": {
      "text/html": [
       "<pre style=\"white-space:pre;overflow-x:auto;line-height:normal;font-family:Menlo,'DejaVu Sans Mono',consolas,'Courier New',monospace\"><span style=\"color: #808000; text-decoration-color: #808000\">WARNING: Running pip as the 'root' user can result in broken permissions and conflicting behaviour with the system package manager. It is recommended to use a virtual environment instead: https://pip.pypa.io/warnings/venv\n",
       "</span></pre>\n"
      ],
      "text/plain": [
       "\u001b[33mWARNING: Running pip as the 'root' user can result in broken permissions and conflicting behaviour with the system package manager. It is recommended to use a virtual environment instead: https://pip.pypa.io/warnings/venv\u001b[0m\u001b[33m\n",
       "\u001b[0m"
      ]
     },
     "metadata": {},
     "output_type": "display_data"
    },
    {
     "data": {
      "text/plain": [
       "0"
      ]
     },
     "execution_count": 3,
     "metadata": {},
     "output_type": "execute_result"
    }
   ],
   "source": [
    "import pip\n",
    "pip.main([\"install\", \"openpyxl\"])"
   ]
  },
  {
   "cell_type": "markdown",
   "id": "24df1f9e",
   "metadata": {
    "papermill": {
     "duration": 0.007773,
     "end_time": "2022-06-26T07:45:00.678900",
     "exception": false,
     "start_time": "2022-06-26T07:45:00.671127",
     "status": "completed"
    },
    "tags": []
   },
   "source": [
    "## **Read the Dataset**\n",
    "1. Dataset consist of two columns, X and Y.\n",
    "2. First 350 records are for training the model and remaining unlabelled data is for test purpose. "
   ]
  },
  {
   "cell_type": "code",
   "execution_count": 4,
   "id": "d5cc98a4",
   "metadata": {
    "execution": {
     "iopub.execute_input": "2022-06-26T07:45:00.696094Z",
     "iopub.status.busy": "2022-06-26T07:45:00.695794Z",
     "iopub.status.idle": "2022-06-26T07:45:00.915136Z",
     "shell.execute_reply": "2022-06-26T07:45:00.914236Z"
    },
    "papermill": {
     "duration": 0.230462,
     "end_time": "2022-06-26T07:45:00.917445",
     "exception": false,
     "start_time": "2022-06-26T07:45:00.686983",
     "status": "completed"
    },
    "tags": []
   },
   "outputs": [],
   "source": [
    "df = pd.read_excel(\"/kaggle/input/itsc-ml-challenge-26jun/DATA_R.xlsx\")\n",
    "\n",
    "train = df.iloc[:350,1:] #segregate first 350 records as training data.\n",
    "test = df.iloc[350:,1:] #remaining data to be treated as test."
   ]
  },
  {
   "cell_type": "code",
   "execution_count": 5,
   "id": "6a005f06",
   "metadata": {
    "execution": {
     "iopub.execute_input": "2022-06-26T07:45:00.944541Z",
     "iopub.status.busy": "2022-06-26T07:45:00.944245Z",
     "iopub.status.idle": "2022-06-26T07:45:00.967112Z",
     "shell.execute_reply": "2022-06-26T07:45:00.965997Z"
    },
    "papermill": {
     "duration": 0.038742,
     "end_time": "2022-06-26T07:45:00.969156",
     "exception": false,
     "start_time": "2022-06-26T07:45:00.930414",
     "status": "completed"
    },
    "tags": []
   },
   "outputs": [
    {
     "name": "stdout",
     "output_type": "stream",
     "text": [
      "<class 'pandas.core.frame.DataFrame'>\n",
      "RangeIndex: 350 entries, 0 to 349\n",
      "Data columns (total 2 columns):\n",
      " #   Column  Non-Null Count  Dtype  \n",
      "---  ------  --------------  -----  \n",
      " 0   X       350 non-null    float64\n",
      " 1   Y       350 non-null    float64\n",
      "dtypes: float64(2)\n",
      "memory usage: 5.6 KB\n"
     ]
    },
    {
     "data": {
      "text/plain": [
       "None"
      ]
     },
     "metadata": {},
     "output_type": "display_data"
    }
   ],
   "source": [
    "display(train.info())"
   ]
  },
  {
   "cell_type": "code",
   "execution_count": 6,
   "id": "0c33ed5e",
   "metadata": {
    "execution": {
     "iopub.execute_input": "2022-06-26T07:45:00.987666Z",
     "iopub.status.busy": "2022-06-26T07:45:00.986621Z",
     "iopub.status.idle": "2022-06-26T07:45:01.007365Z",
     "shell.execute_reply": "2022-06-26T07:45:01.006446Z"
    },
    "papermill": {
     "duration": 0.031649,
     "end_time": "2022-06-26T07:45:01.009336",
     "exception": false,
     "start_time": "2022-06-26T07:45:00.977687",
     "status": "completed"
    },
    "tags": []
   },
   "outputs": [
    {
     "data": {
      "text/html": [
       "<div>\n",
       "<style scoped>\n",
       "    .dataframe tbody tr th:only-of-type {\n",
       "        vertical-align: middle;\n",
       "    }\n",
       "\n",
       "    .dataframe tbody tr th {\n",
       "        vertical-align: top;\n",
       "    }\n",
       "\n",
       "    .dataframe thead th {\n",
       "        text-align: right;\n",
       "    }\n",
       "</style>\n",
       "<table border=\"1\" class=\"dataframe\">\n",
       "  <thead>\n",
       "    <tr style=\"text-align: right;\">\n",
       "      <th></th>\n",
       "      <th>X</th>\n",
       "      <th>Y</th>\n",
       "    </tr>\n",
       "  </thead>\n",
       "  <tbody>\n",
       "    <tr>\n",
       "      <th>count</th>\n",
       "      <td>350.000000</td>\n",
       "      <td>350.000000</td>\n",
       "    </tr>\n",
       "    <tr>\n",
       "      <th>mean</th>\n",
       "      <td>61.080000</td>\n",
       "      <td>70.677355</td>\n",
       "    </tr>\n",
       "    <tr>\n",
       "      <th>std</th>\n",
       "      <td>11.408005</td>\n",
       "      <td>5.447000</td>\n",
       "    </tr>\n",
       "    <tr>\n",
       "      <th>min</th>\n",
       "      <td>20.000000</td>\n",
       "      <td>57.586207</td>\n",
       "    </tr>\n",
       "    <tr>\n",
       "      <th>25%</th>\n",
       "      <td>52.000000</td>\n",
       "      <td>67.825093</td>\n",
       "    </tr>\n",
       "    <tr>\n",
       "      <th>50%</th>\n",
       "      <td>60.000000</td>\n",
       "      <td>70.000000</td>\n",
       "    </tr>\n",
       "    <tr>\n",
       "      <th>75%</th>\n",
       "      <td>68.000000</td>\n",
       "      <td>73.793103</td>\n",
       "    </tr>\n",
       "    <tr>\n",
       "      <th>max</th>\n",
       "      <td>92.000000</td>\n",
       "      <td>87.878788</td>\n",
       "    </tr>\n",
       "  </tbody>\n",
       "</table>\n",
       "</div>"
      ],
      "text/plain": [
       "                X           Y\n",
       "count  350.000000  350.000000\n",
       "mean    61.080000   70.677355\n",
       "std     11.408005    5.447000\n",
       "min     20.000000   57.586207\n",
       "25%     52.000000   67.825093\n",
       "50%     60.000000   70.000000\n",
       "75%     68.000000   73.793103\n",
       "max     92.000000   87.878788"
      ]
     },
     "execution_count": 6,
     "metadata": {},
     "output_type": "execute_result"
    }
   ],
   "source": [
    "train.describe()"
   ]
  },
  {
   "cell_type": "markdown",
   "id": "5b060517",
   "metadata": {
    "papermill": {
     "duration": 0.008084,
     "end_time": "2022-06-26T07:45:01.025820",
     "exception": false,
     "start_time": "2022-06-26T07:45:01.017736",
     "status": "completed"
    },
    "tags": []
   },
   "source": [
    "# **Exploratory Data Analysis**\n",
    "1. The EDA is performed on both the independent variable and dependent variable, based on which we will analyse the data and check if any outliers are there or not. \n",
    "2. EDA will help us to select our model based on visualizations ie whether to pick tree based model or linear models."
   ]
  },
  {
   "cell_type": "code",
   "execution_count": 7,
   "id": "af975ed3",
   "metadata": {
    "execution": {
     "iopub.execute_input": "2022-06-26T07:45:01.044538Z",
     "iopub.status.busy": "2022-06-26T07:45:01.043568Z",
     "iopub.status.idle": "2022-06-26T07:45:01.250925Z",
     "shell.execute_reply": "2022-06-26T07:45:01.250348Z"
    },
    "papermill": {
     "duration": 0.219315,
     "end_time": "2022-06-26T07:45:01.253238",
     "exception": false,
     "start_time": "2022-06-26T07:45:01.033923",
     "status": "completed"
    },
    "tags": []
   },
   "outputs": [
    {
     "data": {
      "image/png": "[encoded data removed]",
      "text/plain": [
       "<Figure size 432x288 with 1 Axes>"
      ]
     },
     "metadata": {},
     "output_type": "display_data"
    }
   ],
   "source": [
    "#1. Histogram Plot\n",
    "sns.histplot(x='X', data=train);"
   ]
  },
  {
   "cell_type": "code",
   "execution_count": 8,
   "id": "d6fc52eb",
   "metadata": {
    "execution": {
     "iopub.execute_input": "2022-06-26T07:45:01.282721Z",
     "iopub.status.busy": "2022-06-26T07:45:01.282056Z",
     "iopub.status.idle": "2022-06-26T07:45:01.674056Z",
     "shell.execute_reply": "2022-06-26T07:45:01.672971Z"
    },
    "papermill": {
     "duration": 0.409312,
     "end_time": "2022-06-26T07:45:01.676447",
     "exception": false,
     "start_time": "2022-06-26T07:45:01.267135",
     "status": "completed"
    },
    "tags": []
   },
   "outputs": [
    {
     "data": {
      "image/png": "[encoded data removed]",
      "text/plain": [
       "<Figure size 1080x1080 with 2 Axes>"
      ]
     },
     "metadata": {},
     "output_type": "display_data"
    }
   ],
   "source": [
    "#2. Comparing both X, Y columns on Histogram plot. \n",
    "\n",
    "cols = 3\n",
    "rows = 3\n",
    "num_cols = train.select_dtypes(exclude='object').columns\n",
    "fig = plt.figure( figsize=(cols*5, rows*5))\n",
    "for i, col in enumerate(num_cols):\n",
    "    \n",
    "    ax=fig.add_subplot(rows,cols,i+1)\n",
    "    \n",
    "    sns.histplot(x = train[col], ax = ax)\n",
    "    \n",
    "fig.tight_layout()  \n",
    "plt.show()"
   ]
  },
  {
   "cell_type": "code",
   "execution_count": 9,
   "id": "f3d823bb",
   "metadata": {
    "execution": {
     "iopub.execute_input": "2022-06-26T07:45:01.705626Z",
     "iopub.status.busy": "2022-06-26T07:45:01.705340Z",
     "iopub.status.idle": "2022-06-26T07:45:01.857372Z",
     "shell.execute_reply": "2022-06-26T07:45:01.856636Z"
    },
    "papermill": {
     "duration": 0.168617,
     "end_time": "2022-06-26T07:45:01.859209",
     "exception": false,
     "start_time": "2022-06-26T07:45:01.690592",
     "status": "completed"
    },
    "tags": []
   },
   "outputs": [
    {
     "data": {
      "text/plain": [
       "<AxesSubplot:>"
      ]
     },
     "execution_count": 9,
     "metadata": {},
     "output_type": "execute_result"
    },
    {
     "data": {
      "image/png": "[encoded data removed]",
      "text/plain": [
       "<Figure size 432x288 with 2 Axes>"
      ]
     },
     "metadata": {},
     "output_type": "display_data"
    }
   ],
   "source": [
    "sns.heatmap(train.corr(), annot=True)"
   ]
  },
  {
   "cell_type": "code",
   "execution_count": 10,
   "id": "06ba7527",
   "metadata": {
    "execution": {
     "iopub.execute_input": "2022-06-26T07:45:01.879669Z",
     "iopub.status.busy": "2022-06-26T07:45:01.879071Z",
     "iopub.status.idle": "2022-06-26T07:45:02.002251Z",
     "shell.execute_reply": "2022-06-26T07:45:02.001534Z"
    },
    "papermill": {
     "duration": 0.135122,
     "end_time": "2022-06-26T07:45:02.003803",
     "exception": false,
     "start_time": "2022-06-26T07:45:01.868681",
     "status": "completed"
    },
    "tags": []
   },
   "outputs": [
    {
     "data": {
      "text/plain": [
       "<AxesSubplot:xlabel='X'>"
      ]
     },
     "execution_count": 10,
     "metadata": {},
     "output_type": "execute_result"
    },
    {
     "data": {
      "image/png": "[encoded data removed]",
      "text/plain": [
       "<Figure size 432x288 with 1 Axes>"
      ]
     },
     "metadata": {},
     "output_type": "display_data"
    }
   ],
   "source": [
    "#3. This represents the box plot.\n",
    "\n",
    "sns.boxplot(x=train['X'])"
   ]
  },
  {
   "cell_type": "code",
   "execution_count": 11,
   "id": "a5aeae2b",
   "metadata": {
    "execution": {
     "iopub.execute_input": "2022-06-26T07:45:02.029844Z",
     "iopub.status.busy": "2022-06-26T07:45:02.028436Z",
     "iopub.status.idle": "2022-06-26T07:45:02.138665Z",
     "shell.execute_reply": "2022-06-26T07:45:02.137812Z"
    },
    "papermill": {
     "duration": 0.124637,
     "end_time": "2022-06-26T07:45:02.140488",
     "exception": false,
     "start_time": "2022-06-26T07:45:02.015851",
     "status": "completed"
    },
    "tags": []
   },
   "outputs": [
    {
     "data": {
      "text/plain": [
       "<AxesSubplot:>"
      ]
     },
     "execution_count": 11,
     "metadata": {},
     "output_type": "execute_result"
    },
    {
     "data": {
      "image/png": "[encoded data removed]",
      "text/plain": [
       "<Figure size 432x288 with 1 Axes>"
      ]
     },
     "metadata": {},
     "output_type": "display_data"
    }
   ],
   "source": [
    "sns.boxplot(data=train.loc[:, ['X', 'Y']])"
   ]
  },
  {
   "cell_type": "code",
   "execution_count": 12,
   "id": "ef8a97d1",
   "metadata": {
    "execution": {
     "iopub.execute_input": "2022-06-26T07:45:02.168234Z",
     "iopub.status.busy": "2022-06-26T07:45:02.167835Z",
     "iopub.status.idle": "2022-06-26T07:45:02.343433Z",
     "shell.execute_reply": "2022-06-26T07:45:02.342348Z"
    },
    "papermill": {
     "duration": 0.192157,
     "end_time": "2022-06-26T07:45:02.345722",
     "exception": false,
     "start_time": "2022-06-26T07:45:02.153565",
     "status": "completed"
    },
    "tags": []
   },
   "outputs": [
    {
     "data": {
      "text/plain": [
       "<AxesSubplot:xlabel='Y'>"
      ]
     },
     "execution_count": 12,
     "metadata": {},
     "output_type": "execute_result"
    },
    {
     "data": {
      "image/png": "[encoded data removed]",
      "text/plain": [
       "<Figure size 432x288 with 1 Axes>"
      ]
     },
     "metadata": {},
     "output_type": "display_data"
    }
   ],
   "source": [
    "#4. Violin Plot for both X,Y variable \n",
    "\n",
    "sns.violinplot(x=train[\"X\"], color='red')\n",
    "sns.violinplot(x=train[\"Y\"], color='yellow')"
   ]
  },
  {
   "cell_type": "markdown",
   "id": "cdfa664b",
   "metadata": {
    "papermill": {
     "duration": 0.015148,
     "end_time": "2022-06-26T07:45:02.376484",
     "exception": false,
     "start_time": "2022-06-26T07:45:02.361336",
     "status": "completed"
    },
    "tags": []
   },
   "source": [
    "# **Creating a Train Test Split**\n",
    "1. Train-Test split is 70:30 with random-state keeping as 33"
   ]
  },
  {
   "cell_type": "code",
   "execution_count": 13,
   "id": "d0700e6f",
   "metadata": {
    "execution": {
     "iopub.execute_input": "2022-06-26T07:45:02.409326Z",
     "iopub.status.busy": "2022-06-26T07:45:02.408994Z",
     "iopub.status.idle": "2022-06-26T07:45:02.586544Z",
     "shell.execute_reply": "2022-06-26T07:45:02.585912Z"
    },
    "papermill": {
     "duration": 0.196047,
     "end_time": "2022-06-26T07:45:02.588222",
     "exception": false,
     "start_time": "2022-06-26T07:45:02.392175",
     "status": "completed"
    },
    "tags": []
   },
   "outputs": [
    {
     "name": "stdout",
     "output_type": "stream",
     "text": [
      "245 105 245 105\n"
     ]
    }
   ],
   "source": [
    "from sklearn.model_selection import train_test_split\n",
    "\n",
    "Xtrain,Xtest,ytrain,ytest = train_test_split(train[['X']], train[['Y']], test_size=0.3, random_state=33)\n",
    "\n",
    "print(Xtrain.size, Xtest.size,  ytrain.size, ytest.size)"
   ]
  },
  {
   "cell_type": "markdown",
   "id": "618c287f",
   "metadata": {
    "papermill": {
     "duration": 0.009669,
     "end_time": "2022-06-26T07:45:02.607856",
     "exception": false,
     "start_time": "2022-06-26T07:45:02.598187",
     "status": "completed"
    },
    "tags": []
   },
   "source": [
    "# **Model-1 Linear Regression**"
   ]
  },
  {
   "cell_type": "code",
   "execution_count": 14,
   "id": "403c6d99",
   "metadata": {
    "execution": {
     "iopub.execute_input": "2022-06-26T07:45:02.629287Z",
     "iopub.status.busy": "2022-06-26T07:45:02.628805Z",
     "iopub.status.idle": "2022-06-26T07:45:02.712192Z",
     "shell.execute_reply": "2022-06-26T07:45:02.711001Z"
    },
    "papermill": {
     "duration": 0.096163,
     "end_time": "2022-06-26T07:45:02.713909",
     "exception": false,
     "start_time": "2022-06-26T07:45:02.617746",
     "status": "completed"
    },
    "tags": []
   },
   "outputs": [
    {
     "name": "stdout",
     "output_type": "stream",
     "text": [
      "5.26592749598083\n"
     ]
    }
   ],
   "source": [
    "#Linear Regression Model Training and Validation\n",
    "from sklearn.linear_model import LinearRegression\n",
    "from sklearn.metrics import mean_squared_error as mse\n",
    "\n",
    "m1 = LinearRegression(fit_intercept=True, normalize='deprecated', copy_X=True, \n",
    "                      n_jobs=5, positive=False)\n",
    "m1.fit(Xtrain,ytrain)\n",
    "ypred = m1.predict(Xtest)\n",
    "\n",
    "s1 = (np.sqrt(mse(ytest, ypred)))\n",
    "print(s1)"
   ]
  },
  {
   "cell_type": "code",
   "execution_count": 15,
   "id": "7f8fc6c0",
   "metadata": {
    "execution": {
     "iopub.execute_input": "2022-06-26T07:45:02.735724Z",
     "iopub.status.busy": "2022-06-26T07:45:02.735365Z",
     "iopub.status.idle": "2022-06-26T07:45:02.751529Z",
     "shell.execute_reply": "2022-06-26T07:45:02.750651Z"
    },
    "papermill": {
     "duration": 0.029227,
     "end_time": "2022-06-26T07:45:02.753261",
     "exception": false,
     "start_time": "2022-06-26T07:45:02.724034",
     "status": "completed"
    },
    "tags": []
   },
   "outputs": [
    {
     "data": {
      "text/html": [
       "<a href='sub1.csv' target='_blank'>sub1.csv</a><br>"
      ],
      "text/plain": [
       "/kaggle/working/sub1.csv"
      ]
     },
     "execution_count": 15,
     "metadata": {},
     "output_type": "execute_result"
    }
   ],
   "source": [
    "#Linear Regression Model prediction on Test dataset. \n",
    "pred = m1.predict(test[['X']])\n",
    "\n",
    "sub1 = pd.DataFrame()\n",
    "sub1['X'] = test['X']\n",
    "sub1['Y'] = pred\n",
    "\n",
    "sub1.to_csv('sub1.csv', index=False)\n",
    "\n",
    "os.chdir(r'../working')\n",
    "from IPython.display import FileLink\n",
    "FileLink(r'sub1.csv')"
   ]
  },
  {
   "cell_type": "markdown",
   "id": "b88afe18",
   "metadata": {
    "papermill": {
     "duration": 0.00993,
     "end_time": "2022-06-26T07:45:02.773643",
     "exception": false,
     "start_time": "2022-06-26T07:45:02.763713",
     "status": "completed"
    },
    "tags": []
   },
   "source": [
    "# **Model-2 Random Forest Regressor**"
   ]
  },
  {
   "cell_type": "code",
   "execution_count": 16,
   "id": "fc5e3997",
   "metadata": {
    "execution": {
     "iopub.execute_input": "2022-06-26T07:45:02.795784Z",
     "iopub.status.busy": "2022-06-26T07:45:02.795293Z",
     "iopub.status.idle": "2022-06-26T07:45:05.426132Z",
     "shell.execute_reply": "2022-06-26T07:45:05.424854Z"
    },
    "papermill": {
     "duration": 2.644272,
     "end_time": "2022-06-26T07:45:05.428119",
     "exception": false,
     "start_time": "2022-06-26T07:45:02.783847",
     "status": "completed"
    },
    "tags": []
   },
   "outputs": [
    {
     "name": "stderr",
     "output_type": "stream",
     "text": [
      "/opt/conda/lib/python3.7/site-packages/ipykernel_launcher.py:8: DataConversionWarning: A column-vector y was passed when a 1d array was expected. Please change the shape of y to (n_samples,), for example using ravel().\n",
      "  \n"
     ]
    },
    {
     "name": "stdout",
     "output_type": "stream",
     "text": [
      "5.3485357636748265\n"
     ]
    }
   ],
   "source": [
    "from sklearn.ensemble import RandomForestRegressor\n",
    "\n",
    "m2 = RandomForestRegressor(n_estimators=1550, criterion='squared_error', max_depth=33, \n",
    "                           min_samples_split=7, min_samples_leaf=7, min_weight_fraction_leaf=0.0, \n",
    "                           max_features=1.0, max_leaf_nodes=3, min_impurity_decrease=0.0, \n",
    "                           bootstrap=True, oob_score=False, n_jobs=3, random_state=33, \n",
    "                           verbose=0, warm_start=True, ccp_alpha=0.0, max_samples=1)\n",
    "m2.fit(Xtrain,ytrain)\n",
    "ypred = m2.predict(Xtest)\n",
    "\n",
    "s2 = (np.sqrt(mse(ytest, ypred)))\n",
    "print(s2)"
   ]
  },
  {
   "cell_type": "code",
   "execution_count": 17,
   "id": "89705f1a",
   "metadata": {
    "execution": {
     "iopub.execute_input": "2022-06-26T07:45:05.451259Z",
     "iopub.status.busy": "2022-06-26T07:45:05.449956Z",
     "iopub.status.idle": "2022-06-26T07:45:05.666824Z",
     "shell.execute_reply": "2022-06-26T07:45:05.666077Z"
    },
    "papermill": {
     "duration": 0.230228,
     "end_time": "2022-06-26T07:45:05.668875",
     "exception": false,
     "start_time": "2022-06-26T07:45:05.438647",
     "status": "completed"
    },
    "tags": []
   },
   "outputs": [
    {
     "data": {
      "text/html": [
       "<a href='sub2.csv' target='_blank'>sub2.csv</a><br>"
      ],
      "text/plain": [
       "/kaggle/working/sub2.csv"
      ]
     },
     "execution_count": 17,
     "metadata": {},
     "output_type": "execute_result"
    }
   ],
   "source": [
    "#Random Forest Model prediction on Test dataset. \n",
    "pred = m2.predict(test[['X']])\n",
    "\n",
    "sub2 = pd.DataFrame()\n",
    "sub2['X'] = test['X']\n",
    "sub2['Y'] = pred\n",
    "\n",
    "sub2.to_csv('sub2.csv', index=False)\n",
    "\n",
    "os.chdir(r'../working')\n",
    "from IPython.display import FileLink\n",
    "FileLink(r'sub2.csv')"
   ]
  },
  {
   "cell_type": "markdown",
   "id": "cd440076",
   "metadata": {
    "papermill": {
     "duration": 0.010351,
     "end_time": "2022-06-26T07:45:05.690086",
     "exception": false,
     "start_time": "2022-06-26T07:45:05.679735",
     "status": "completed"
    },
    "tags": []
   },
   "source": [
    "# **Model-3 LightGBM Regressor**"
   ]
  },
  {
   "cell_type": "code",
   "execution_count": 18,
   "id": "fc96e98d",
   "metadata": {
    "execution": {
     "iopub.execute_input": "2022-06-26T07:45:05.712309Z",
     "iopub.status.busy": "2022-06-26T07:45:05.711943Z",
     "iopub.status.idle": "2022-06-26T07:45:06.827034Z",
     "shell.execute_reply": "2022-06-26T07:45:06.825601Z"
    },
    "papermill": {
     "duration": 1.12966,
     "end_time": "2022-06-26T07:45:06.830147",
     "exception": false,
     "start_time": "2022-06-26T07:45:05.700487",
     "status": "completed"
    },
    "tags": []
   },
   "outputs": [
    {
     "data": {
      "text/html": [
       "<style type='text/css'>\n",
       ".datatable table.frame { margin-bottom: 0; }\n",
       ".datatable table.frame thead { border-bottom: none; }\n",
       ".datatable table.frame tr.coltypes td {  color: #FFFFFF;  line-height: 6px;  padding: 0 0.5em;}\n",
       ".datatable .bool    { background: #DDDD99; }\n",
       ".datatable .object  { background: #565656; }\n",
       ".datatable .int     { background: #5D9E5D; }\n",
       ".datatable .float   { background: #4040CC; }\n",
       ".datatable .str     { background: #CC4040; }\n",
       ".datatable .time    { background: #40CC40; }\n",
       ".datatable .row_index {  background: var(--jp-border-color3);  border-right: 1px solid var(--jp-border-color0);  color: var(--jp-ui-font-color3);  font-size: 9px;}\n",
       ".datatable .frame tbody td { text-align: left; }\n",
       ".datatable .frame tr.coltypes .row_index {  background: var(--jp-border-color0);}\n",
       ".datatable th:nth-child(2) { padding-left: 12px; }\n",
       ".datatable .hellipsis {  color: var(--jp-cell-editor-border-color);}\n",
       ".datatable .vellipsis {  background: var(--jp-layout-color0);  color: var(--jp-cell-editor-border-color);}\n",
       ".datatable .na {  color: var(--jp-cell-editor-border-color);  font-size: 80%;}\n",
       ".datatable .sp {  opacity: 0.25;}\n",
       ".datatable .footer { font-size: 9px; }\n",
       ".datatable .frame_dimensions {  background: var(--jp-border-color3);  border-top: 1px solid var(--jp-border-color0);  color: var(--jp-ui-font-color3);  display: inline-block;  opacity: 0.6;  padding: 1px 10px 1px 5px;}\n",
       "</style>\n"
      ],
      "text/plain": [
       "<IPython.core.display.HTML object>"
      ]
     },
     "metadata": {},
     "output_type": "display_data"
    },
    {
     "name": "stdout",
     "output_type": "stream",
     "text": [
      "5.492376981530925\n"
     ]
    }
   ],
   "source": [
    "from lightgbm import LGBMRegressor\n",
    "\n",
    "m3 = LGBMRegressor(boosting_type='gbdt', num_leaves=6, max_depth=None, learning_rate=0.0017, \n",
    "                   n_estimators=1200, subsample_for_bin=200000, objective='regression', \n",
    "                   class_weight=None, min_split_gain=0.0, min_child_weight=0.001, min_child_samples=20, \n",
    "                   subsample=1.0, subsample_freq=0, colsample_bytree=1.0, reg_alpha=0.0, \n",
    "                   reg_lambda=0.0, random_state=33, n_jobs=3, importance_type='split')\n",
    "\n",
    "m3.fit(Xtrain,ytrain)\n",
    "ypred = m3.predict(Xtest)\n",
    "\n",
    "s3 = (np.sqrt(mse(ytest, ypred)))\n",
    "print(s3)"
   ]
  },
  {
   "cell_type": "code",
   "execution_count": 19,
   "id": "4bcb1c61",
   "metadata": {
    "execution": {
     "iopub.execute_input": "2022-06-26T07:45:06.865760Z",
     "iopub.status.busy": "2022-06-26T07:45:06.865458Z",
     "iopub.status.idle": "2022-06-26T07:45:07.079939Z",
     "shell.execute_reply": "2022-06-26T07:45:07.079021Z"
    },
    "papermill": {
     "duration": 0.23464,
     "end_time": "2022-06-26T07:45:07.082174",
     "exception": false,
     "start_time": "2022-06-26T07:45:06.847534",
     "status": "completed"
    },
    "tags": []
   },
   "outputs": [
    {
     "data": {
      "text/html": [
       "<a href='sub3.csv' target='_blank'>sub3.csv</a><br>"
      ],
      "text/plain": [
       "/kaggle/working/sub3.csv"
      ]
     },
     "execution_count": 19,
     "metadata": {},
     "output_type": "execute_result"
    }
   ],
   "source": [
    "#LGBM Regressor Model prediction on Test dataset. \n",
    "pred = m2.predict(test[['X']])\n",
    "\n",
    "sub3 = pd.DataFrame()\n",
    "sub3['X'] = test['X']\n",
    "sub3['Y'] = pred\n",
    "\n",
    "sub3.to_csv('sub3.csv', index=False)\n",
    "\n",
    "os.chdir(r'../working')\n",
    "from IPython.display import FileLink\n",
    "FileLink(r'sub3.csv')"
   ]
  },
  {
   "cell_type": "markdown",
   "id": "66e90ba4",
   "metadata": {
    "papermill": {
     "duration": 0.0168,
     "end_time": "2022-06-26T07:45:07.115737",
     "exception": false,
     "start_time": "2022-06-26T07:45:07.098937",
     "status": "completed"
    },
    "tags": []
   },
   "source": [
    "# **Model-4 GradientBoostingRegressor**"
   ]
  },
  {
   "cell_type": "code",
   "execution_count": 20,
   "id": "16c8ec19",
   "metadata": {
    "execution": {
     "iopub.execute_input": "2022-06-26T07:45:07.151638Z",
     "iopub.status.busy": "2022-06-26T07:45:07.150846Z",
     "iopub.status.idle": "2022-06-26T07:45:07.434018Z",
     "shell.execute_reply": "2022-06-26T07:45:07.432698Z"
    },
    "papermill": {
     "duration": 0.303942,
     "end_time": "2022-06-26T07:45:07.436730",
     "exception": false,
     "start_time": "2022-06-26T07:45:07.132788",
     "status": "completed"
    },
    "tags": []
   },
   "outputs": [
    {
     "name": "stderr",
     "output_type": "stream",
     "text": [
      "/opt/conda/lib/python3.7/site-packages/sklearn/ensemble/_gb.py:494: DataConversionWarning: A column-vector y was passed when a 1d array was expected. Please change the shape of y to (n_samples, ), for example using ravel().\n",
      "  y = column_or_1d(y, warn=True)\n"
     ]
    },
    {
     "name": "stdout",
     "output_type": "stream",
     "text": [
      "5.610986778592632\n"
     ]
    }
   ],
   "source": [
    "from sklearn.ensemble import GradientBoostingRegressor\n",
    "\n",
    "m4 = GradientBoostingRegressor(loss='squared_error', learning_rate=0.017, n_estimators=1400, \n",
    "                               subsample=1.0, criterion='friedman_mse', min_samples_split=2, \n",
    "                               min_samples_leaf=1, min_weight_fraction_leaf=0.0, max_depth=33, \n",
    "                               min_impurity_decrease=0.0, init=None, random_state=None, \n",
    "                               max_features=None, alpha=0.9, verbose=0, max_leaf_nodes=None, \n",
    "                               warm_start=False, validation_fraction=0.1, n_iter_no_change=None, \n",
    "                               tol=0.0001, ccp_alpha=0.0)\n",
    "\n",
    "m4.fit(Xtrain,ytrain)\n",
    "ypred = m4.predict(Xtest)\n",
    "\n",
    "s4 = (np.sqrt(mse(ytest, ypred)))\n",
    "print(s4)"
   ]
  },
  {
   "cell_type": "code",
   "execution_count": 21,
   "id": "d365cd9f",
   "metadata": {
    "execution": {
     "iopub.execute_input": "2022-06-26T07:45:07.472832Z",
     "iopub.status.busy": "2022-06-26T07:45:07.472517Z",
     "iopub.status.idle": "2022-06-26T07:45:07.489186Z",
     "shell.execute_reply": "2022-06-26T07:45:07.488241Z"
    },
    "papermill": {
     "duration": 0.037421,
     "end_time": "2022-06-26T07:45:07.491237",
     "exception": false,
     "start_time": "2022-06-26T07:45:07.453816",
     "status": "completed"
    },
    "tags": []
   },
   "outputs": [
    {
     "data": {
      "text/html": [
       "<a href='sub4.csv' target='_blank'>sub4.csv</a><br>"
      ],
      "text/plain": [
       "/kaggle/working/sub4.csv"
      ]
     },
     "execution_count": 21,
     "metadata": {},
     "output_type": "execute_result"
    }
   ],
   "source": [
    "#Gradient Boosting predictions\n",
    "pred = m4.predict(test[['X']])\n",
    "\n",
    "sub4 = pd.DataFrame()\n",
    "sub4['X'] = test['X']\n",
    "sub4['Y'] = pred\n",
    "\n",
    "sub4.to_csv('sub4.csv', index=False)\n",
    "\n",
    "os.chdir(r'../working')\n",
    "from IPython.display import FileLink\n",
    "FileLink(r'sub4.csv')"
   ]
  },
  {
   "cell_type": "markdown",
   "id": "341dc949",
   "metadata": {
    "papermill": {
     "duration": 0.010483,
     "end_time": "2022-06-26T07:45:07.512735",
     "exception": false,
     "start_time": "2022-06-26T07:45:07.502252",
     "status": "completed"
    },
    "tags": []
   },
   "source": [
    "# **Model-5 RANSAC Model**"
   ]
  },
  {
   "cell_type": "code",
   "execution_count": 22,
   "id": "9d43ed9e",
   "metadata": {
    "execution": {
     "iopub.execute_input": "2022-06-26T07:45:07.535836Z",
     "iopub.status.busy": "2022-06-26T07:45:07.535329Z",
     "iopub.status.idle": "2022-06-26T07:45:07.558047Z",
     "shell.execute_reply": "2022-06-26T07:45:07.556708Z"
    },
    "papermill": {
     "duration": 0.036352,
     "end_time": "2022-06-26T07:45:07.559622",
     "exception": false,
     "start_time": "2022-06-26T07:45:07.523270",
     "status": "completed"
    },
    "tags": []
   },
   "outputs": [
    {
     "name": "stdout",
     "output_type": "stream",
     "text": [
      "5.374011028023093\n"
     ]
    }
   ],
   "source": [
    "from sklearn.linear_model import RANSACRegressor\n",
    "\n",
    "m5 = RANSACRegressor(base_estimator=None, min_samples=None, residual_threshold=None, is_data_valid=None, is_model_valid=None, \n",
    "                     max_trials=1000, max_skips=np.inf, stop_n_inliers=np.inf, stop_score=np.inf, stop_probability=0.99, \n",
    "                     loss=\"absolute_error\", random_state=33)\n",
    "\n",
    "m5.fit(Xtrain,ytrain)\n",
    "ypred = m5.predict(Xtest)\n",
    "\n",
    "s5 = (np.sqrt(mse(ytest, ypred)))\n",
    "print(s5)"
   ]
  },
  {
   "cell_type": "code",
   "execution_count": 23,
   "id": "9df750ce",
   "metadata": {
    "execution": {
     "iopub.execute_input": "2022-06-26T07:45:07.583253Z",
     "iopub.status.busy": "2022-06-26T07:45:07.582721Z",
     "iopub.status.idle": "2022-06-26T07:45:07.594981Z",
     "shell.execute_reply": "2022-06-26T07:45:07.594288Z"
    },
    "papermill": {
     "duration": 0.026321,
     "end_time": "2022-06-26T07:45:07.596932",
     "exception": false,
     "start_time": "2022-06-26T07:45:07.570611",
     "status": "completed"
    },
    "tags": []
   },
   "outputs": [
    {
     "data": {
      "text/html": [
       "<a href='sub5.csv' target='_blank'>sub5.csv</a><br>"
      ],
      "text/plain": [
       "/kaggle/working/sub5.csv"
      ]
     },
     "execution_count": 23,
     "metadata": {},
     "output_type": "execute_result"
    }
   ],
   "source": [
    "#RANSAC predictions\n",
    "pred = m5.predict(test[['X']])\n",
    "\n",
    "sub5 = pd.DataFrame()\n",
    "sub5['X'] = test['X']\n",
    "sub5['Y'] = pred\n",
    "\n",
    "sub4.to_csv('sub5.csv', index=False)\n",
    "\n",
    "os.chdir(r'../working')\n",
    "from IPython.display import FileLink\n",
    "FileLink(r'sub5.csv')"
   ]
  },
  {
   "cell_type": "markdown",
   "id": "d320b408",
   "metadata": {
    "papermill": {
     "duration": 0.011267,
     "end_time": "2022-06-26T07:45:07.619408",
     "exception": false,
     "start_time": "2022-06-26T07:45:07.608141",
     "status": "completed"
    },
    "tags": []
   },
   "source": [
    "# **Results Summary of all the Models above**"
   ]
  },
  {
   "cell_type": "code",
   "execution_count": 24,
   "id": "81789a78",
   "metadata": {
    "execution": {
     "iopub.execute_input": "2022-06-26T07:45:07.643661Z",
     "iopub.status.busy": "2022-06-26T07:45:07.642616Z",
     "iopub.status.idle": "2022-06-26T07:45:07.662860Z",
     "shell.execute_reply": "2022-06-26T07:45:07.661598Z"
    },
    "papermill": {
     "duration": 0.03434,
     "end_time": "2022-06-26T07:45:07.664918",
     "exception": false,
     "start_time": "2022-06-26T07:45:07.630578",
     "status": "completed"
    },
    "tags": []
   },
   "outputs": [
    {
     "data": {
      "text/html": [
       "<div>\n",
       "<style scoped>\n",
       "    .dataframe tbody tr th:only-of-type {\n",
       "        vertical-align: middle;\n",
       "    }\n",
       "\n",
       "    .dataframe tbody tr th {\n",
       "        vertical-align: top;\n",
       "    }\n",
       "\n",
       "    .dataframe thead th {\n",
       "        text-align: right;\n",
       "    }\n",
       "</style>\n",
       "<table border=\"1\" class=\"dataframe\">\n",
       "  <thead>\n",
       "    <tr style=\"text-align: right;\">\n",
       "      <th></th>\n",
       "      <th>Algorithm</th>\n",
       "      <th>RMSE_Score</th>\n",
       "      <th>submission_file</th>\n",
       "    </tr>\n",
       "  </thead>\n",
       "  <tbody>\n",
       "    <tr>\n",
       "      <th>0</th>\n",
       "      <td>Linear Regression</td>\n",
       "      <td>5.265927</td>\n",
       "      <td>/kaggle/working/sub1.csv</td>\n",
       "    </tr>\n",
       "    <tr>\n",
       "      <th>1</th>\n",
       "      <td>Random Forest</td>\n",
       "      <td>5.348536</td>\n",
       "      <td>/kaggle/working/sub2.csv</td>\n",
       "    </tr>\n",
       "    <tr>\n",
       "      <th>2</th>\n",
       "      <td>LightGBM</td>\n",
       "      <td>5.492377</td>\n",
       "      <td>/kaggle/working/sub3.csv</td>\n",
       "    </tr>\n",
       "    <tr>\n",
       "      <th>3</th>\n",
       "      <td>GradientBoosting</td>\n",
       "      <td>5.610987</td>\n",
       "      <td>/kaggle/working/sub4.csv</td>\n",
       "    </tr>\n",
       "    <tr>\n",
       "      <th>4</th>\n",
       "      <td>RANSAC</td>\n",
       "      <td>5.374011</td>\n",
       "      <td>/kaggle/working/sub5.csv</td>\n",
       "    </tr>\n",
       "  </tbody>\n",
       "</table>\n",
       "</div>"
      ],
      "text/plain": [
       "           Algorithm  RMSE_Score           submission_file\n",
       "0  Linear Regression    5.265927  /kaggle/working/sub1.csv\n",
       "1      Random Forest    5.348536  /kaggle/working/sub2.csv\n",
       "2           LightGBM    5.492377  /kaggle/working/sub3.csv\n",
       "3   GradientBoosting    5.610987  /kaggle/working/sub4.csv\n",
       "4             RANSAC    5.374011  /kaggle/working/sub5.csv"
      ]
     },
     "metadata": {},
     "output_type": "display_data"
    },
    {
     "name": "stdout",
     "output_type": "stream",
     "text": [
      " \n",
      " \n",
      "******* Winner Model *******\n",
      " \n",
      " \n"
     ]
    },
    {
     "data": {
      "text/html": [
       "<div>\n",
       "<style scoped>\n",
       "    .dataframe tbody tr th:only-of-type {\n",
       "        vertical-align: middle;\n",
       "    }\n",
       "\n",
       "    .dataframe tbody tr th {\n",
       "        vertical-align: top;\n",
       "    }\n",
       "\n",
       "    .dataframe thead th {\n",
       "        text-align: right;\n",
       "    }\n",
       "</style>\n",
       "<table border=\"1\" class=\"dataframe\">\n",
       "  <thead>\n",
       "    <tr style=\"text-align: right;\">\n",
       "      <th></th>\n",
       "      <th>Algorithm</th>\n",
       "      <th>RMSE_Score</th>\n",
       "      <th>submission_file</th>\n",
       "    </tr>\n",
       "  </thead>\n",
       "  <tbody>\n",
       "    <tr>\n",
       "      <th>0</th>\n",
       "      <td>Linear Regression</td>\n",
       "      <td>5.265927</td>\n",
       "      <td>/kaggle/working/sub1.csv</td>\n",
       "    </tr>\n",
       "  </tbody>\n",
       "</table>\n",
       "</div>"
      ],
      "text/plain": [
       "           Algorithm  RMSE_Score           submission_file\n",
       "0  Linear Regression    5.265927  /kaggle/working/sub1.csv"
      ]
     },
     "metadata": {},
     "output_type": "display_data"
    }
   ],
   "source": [
    "#Result Evaluation\n",
    "scores = pd.DataFrame()\n",
    "scores['Algorithm'] = ['Linear Regression', 'Random Forest', 'LightGBM', 'GradientBoosting', 'RANSAC']\n",
    "scores['RMSE_Score'] = [s1,s2,s3,s4,s5]\n",
    "scores['submission_file'] = [FileLink(r'sub1.csv'),FileLink(r'sub2.csv'),FileLink(r'sub3.csv'),\n",
    "                             FileLink(r'sub4.csv'), FileLink(r'sub5.csv')] #prediction on test data\n",
    "\n",
    "display(scores)\n",
    "\n",
    "print(\" \")\n",
    "print(\" \")\n",
    "print(\"******* Winner Model *******\")\n",
    "print(\" \")\n",
    "print(\" \")\n",
    "\n",
    "display(scores[scores['RMSE_Score'] == min(scores['RMSE_Score'])])"
   ]
  },
  {
   "cell_type": "code",
   "execution_count": 25,
   "id": "3637bbc6",
   "metadata": {
    "execution": {
     "iopub.execute_input": "2022-06-26T07:45:07.689112Z",
     "iopub.status.busy": "2022-06-26T07:45:07.688752Z",
     "iopub.status.idle": "2022-06-26T07:45:07.694238Z",
     "shell.execute_reply": "2022-06-26T07:45:07.693289Z"
    },
    "papermill": {
     "duration": 0.019748,
     "end_time": "2022-06-26T07:45:07.696074",
     "exception": false,
     "start_time": "2022-06-26T07:45:07.676326",
     "status": "completed"
    },
    "tags": []
   },
   "outputs": [],
   "source": [
    "winner = scores[scores['RMSE_Score'] == min(scores['RMSE_Score'])]['submission_file']"
   ]
  },
  {
   "cell_type": "code",
   "execution_count": 26,
   "id": "2b622af8",
   "metadata": {
    "execution": {
     "iopub.execute_input": "2022-06-26T07:45:07.720233Z",
     "iopub.status.busy": "2022-06-26T07:45:07.719905Z",
     "iopub.status.idle": "2022-06-26T07:45:07.726184Z",
     "shell.execute_reply": "2022-06-26T07:45:07.725570Z"
    },
    "papermill": {
     "duration": 0.020798,
     "end_time": "2022-06-26T07:45:07.728211",
     "exception": false,
     "start_time": "2022-06-26T07:45:07.707413",
     "status": "completed"
    },
    "tags": []
   },
   "outputs": [],
   "source": [
    "plot_df = pd.read_csv(\"/kaggle/working/\"+winner.values[0].path)"
   ]
  },
  {
   "cell_type": "code",
   "execution_count": 27,
   "id": "22ab93e0",
   "metadata": {
    "execution": {
     "iopub.execute_input": "2022-06-26T07:45:07.765996Z",
     "iopub.status.busy": "2022-06-26T07:45:07.764843Z",
     "iopub.status.idle": "2022-06-26T07:45:08.147307Z",
     "shell.execute_reply": "2022-06-26T07:45:08.146391Z"
    },
    "papermill": {
     "duration": 0.403422,
     "end_time": "2022-06-26T07:45:08.149501",
     "exception": false,
     "start_time": "2022-06-26T07:45:07.746079",
     "status": "completed"
    },
    "tags": []
   },
   "outputs": [
    {
     "data": {
      "image/png": "[encoded data removed]",
      "text/plain": [
       "<Figure size 432x288 with 1 Axes>"
      ]
     },
     "metadata": {},
     "output_type": "display_data"
    }
   ],
   "source": [
    "sns.lineplot(x = \"X\",\n",
    "             y = \"Y\",\n",
    "             data = plot_df, color='red');"
   ]
  },
  {
   "cell_type": "code",
   "execution_count": null,
   "id": "427fad04",
   "metadata": {
    "papermill": {
     "duration": 0.017801,
     "end_time": "2022-06-26T07:45:08.185548",
     "exception": false,
     "start_time": "2022-06-26T07:45:08.167747",
     "status": "completed"
    },
    "tags": []
   },
   "outputs": [],
   "source": []
  }
 ],
 "metadata": {
  "kernelspec": {
   "display_name": "Python 3",
   "language": "python",
   "name": "python3"
  },
  "language_info": {
   "codemirror_mode": {
    "name": "ipython",
    "version": 3
   },
   "file_extension": ".py",
   "mimetype": "text/x-python",
   "name": "python",
   "nbconvert_exporter": "python",
   "pygments_lexer": "ipython3",
   "version": "3.7.12"
  },
  "papermill": {
   "default_parameters": {},
   "duration": 26.308717,
   "end_time": "2022-06-26T07:45:09.223902",
   "environment_variables": {},
   "exception": null,
   "input_path": "__notebook__.ipynb",
   "output_path": "__notebook__.ipynb",
   "parameters": {},
   "start_time": "2022-06-26T07:44:42.915185",
   "version": "2.3.4"
  },
  "widgets": {
   "application/vnd.jupyter.widget-state+json": {
    "state": {
     "906b08f96dcb48e098bdf99efba36a2a": {
      "model_module": "@jupyter-widgets/output",
      "model_module_version": "1.0.0",
      "model_name": "OutputModel",
      "state": {
       "_dom_classes": [],
       "_model_module": "@jupyter-widgets/output",
       "_model_module_version": "1.0.0",
       "_model_name": "OutputModel",
       "_view_count": null,
       "_view_module": "@jupyter-widgets/output",
       "_view_module_version": "1.0.0",
       "_view_name": "OutputView",
       "layout": "IPY_MODEL_9ae034a2950e40519f14e0bab09bc0a1",
       "msg_id": "",
       "outputs": [
        {
         "data": {
          "text/html": "<pre style=\"white-space:pre;overflow-x:auto;line-height:normal;font-family:Menlo,'DejaVu Sans Mono',consolas,'Courier New',monospace\">     <span style=\"color: #f92672; text-decoration-color: #f92672\">━━━━━━━━━━━━━━━━━━━━━━━━━━━━━━━━━━━━━━╸</span><span style=\"color: #3a3a3a; text-decoration-color: #3a3a3a\">━</span> <span style=\"color: #008000; text-decoration-color: #008000\">235.5/242.1 kB</span> <span style=\"color: #800000; text-decoration-color: #800000\">7.6 MB/s</span> eta <span style=\"color: #008080; text-decoration-color: #008080\">0:00:01</span>\n</pre>\n",
          "text/plain": "     \u001b[38;2;249;38;114m━━━━━━━━━━━━━━━━━━━━━━━━━━━━━━━━━━━━━━\u001b[0m\u001b[38;2;249;38;114m╸\u001b[0m\u001b[38;5;237m━\u001b[0m \u001b[32m235.5/242.1 kB\u001b[0m \u001b[31m7.6 MB/s\u001b[0m eta \u001b[36m0:00:01\u001b[0m\n"
         },
         "metadata": {},
         "output_type": "display_data"
        }
       ]
      }
     },
     "9ae034a2950e40519f14e0bab09bc0a1": {
      "model_module": "@jupyter-widgets/base",
      "model_module_version": "1.2.0",
      "model_name": "LayoutModel",
      "state": {
       "_model_module": "@jupyter-widgets/base",
       "_model_module_version": "1.2.0",
       "_model_name": "LayoutModel",
       "_view_count": null,
       "_view_module": "@jupyter-widgets/base",
       "_view_module_version": "1.2.0",
       "_view_name": "LayoutView",
       "align_content": null,
       "align_items": null,
       "align_self": null,
       "border": null,
       "bottom": null,
       "display": null,
       "flex": null,
       "flex_flow": null,
       "grid_area": null,
       "grid_auto_columns": null,
       "grid_auto_flow": null,
       "grid_auto_rows": null,
       "grid_column": null,
       "grid_gap": null,
       "grid_row": null,
       "grid_template_areas": null,
       "grid_template_columns": null,
       "grid_template_rows": null,
       "height": null,
       "justify_content": null,
       "justify_items": null,
       "left": null,
       "margin": null,
       "max_height": null,
       "max_width": null,
       "min_height": null,
       "min_width": null,
       "object_fit": null,
       "object_position": null,
       "order": null,
       "overflow": null,
       "overflow_x": null,
       "overflow_y": null,
       "padding": null,
       "right": null,
       "top": null,
       "visibility": null,
       "width": null
      }
     }
    },
    "version_major": 2,
    "version_minor": 0
   }
  }
 },
 "nbformat": 4,
 "nbformat_minor": 5
}
