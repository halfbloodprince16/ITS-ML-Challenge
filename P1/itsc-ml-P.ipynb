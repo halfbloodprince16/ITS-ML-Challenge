{
 "cells": [
  {
   "cell_type": "code",
   "execution_count": 1,
   "id": "18c17eb3",
   "metadata": {
    "_cell_guid": "b1076dfc-b9ad-4769-8c92-a6c4dae69d19",
    "_uuid": "8f2839f25d086af736a60e9eeb907d3b93b6e0e5",
    "execution": {
     "iopub.execute_input": "2022-06-26T07:40:33.817853Z",
     "iopub.status.busy": "2022-06-26T07:40:33.817255Z",
     "iopub.status.idle": "2022-06-26T07:40:33.839920Z",
     "shell.execute_reply": "2022-06-26T07:40:33.838661Z"
    },
    "papermill": {
     "duration": 0.035467,
     "end_time": "2022-06-26T07:40:33.842853",
     "exception": false,
     "start_time": "2022-06-26T07:40:33.807386",
     "status": "completed"
    },
    "tags": []
   },
   "outputs": [
    {
     "name": "stdout",
     "output_type": "stream",
     "text": [
      "/kaggle/input/itsc-ml-challenge-26jun/DATA_R.xlsx\n",
      "/kaggle/input/itsc-ml-challenge-26jun/DATA_P.xlsx\n"
     ]
    }
   ],
   "source": [
    "import numpy as np # linear algebra\n",
    "import pandas as pd # data processing, CSV file I/O (e.g. pd.read_csv)\n",
    "\n",
    "import os\n",
    "for dirname, _, filenames in os.walk('/kaggle/input'):\n",
    "    for filename in filenames:\n",
    "        print(os.path.join(dirname, filename))"
   ]
  },
  {
   "cell_type": "code",
   "execution_count": 2,
   "id": "b0fbfaa7",
   "metadata": {
    "execution": {
     "iopub.execute_input": "2022-06-26T07:40:33.859378Z",
     "iopub.status.busy": "2022-06-26T07:40:33.859026Z",
     "iopub.status.idle": "2022-06-26T07:40:34.979555Z",
     "shell.execute_reply": "2022-06-26T07:40:34.978414Z"
    },
    "papermill": {
     "duration": 1.132043,
     "end_time": "2022-06-26T07:40:34.982242",
     "exception": false,
     "start_time": "2022-06-26T07:40:33.850199",
     "status": "completed"
    },
    "tags": []
   },
   "outputs": [],
   "source": [
    "import seaborn as sns\n",
    "import matplotlib.pyplot as plt\n",
    "import numpy as np\n",
    "sns.set_style('darkgrid')\n",
    "sns.set(font_scale=1.3)"
   ]
  },
  {
   "cell_type": "code",
   "execution_count": 3,
   "id": "3de8b33d",
   "metadata": {
    "execution": {
     "iopub.execute_input": "2022-06-26T07:40:34.998329Z",
     "iopub.status.busy": "2022-06-26T07:40:34.997558Z",
     "iopub.status.idle": "2022-06-26T07:40:45.159716Z",
     "shell.execute_reply": "2022-06-26T07:40:45.158420Z"
    },
    "papermill": {
     "duration": 10.175505,
     "end_time": "2022-06-26T07:40:45.164683",
     "exception": false,
     "start_time": "2022-06-26T07:40:34.989178",
     "status": "completed"
    },
    "tags": []
   },
   "outputs": [
    {
     "name": "stderr",
     "output_type": "stream",
     "text": [
      "WARNING: pip is being invoked by an old script wrapper. This will fail in a future version of pip.\n",
      "Please see https://github.com/pypa/pip/issues/5599 for advice on fixing the underlying issue.\n",
      "To avoid this problem you can invoke Python with '-m pip' instead of running pip directly.\n"
     ]
    },
    {
     "data": {
      "text/html": [
       "<pre style=\"white-space:pre;overflow-x:auto;line-height:normal;font-family:Menlo,'DejaVu Sans Mono',consolas,'Courier New',monospace\">Collecting openpyxl\n",
       "</pre>\n"
      ],
      "text/plain": [
       "Collecting openpyxl\n"
      ]
     },
     "metadata": {},
     "output_type": "display_data"
    },
    {
     "data": {
      "text/html": [
       "<pre style=\"white-space:pre;overflow-x:auto;line-height:normal;font-family:Menlo,'DejaVu Sans Mono',consolas,'Courier New',monospace\">  Downloading openpyxl-3.0.10-py2.py3-none-any.whl (242 kB)\n",
       "</pre>\n"
      ],
      "text/plain": [
       "  Downloading openpyxl-3.0.10-py2.py3-none-any.whl (242 kB)\n"
      ]
     },
     "metadata": {},
     "output_type": "display_data"
    },
    {
     "data": {
      "application/vnd.jupyter.widget-view+json": {
       "model_id": "73a92a82776d4a4cbbf35c4ecb05fae2",
       "version_major": 2,
       "version_minor": 0
      },
      "text/plain": [
       "Output()"
      ]
     },
     "metadata": {},
     "output_type": "display_data"
    },
    {
     "data": {
      "text/html": [
       "<pre style=\"white-space:pre;overflow-x:auto;line-height:normal;font-family:Menlo,'DejaVu Sans Mono',consolas,'Courier New',monospace\"></pre>\n"
      ],
      "text/plain": []
     },
     "metadata": {},
     "output_type": "display_data"
    },
    {
     "data": {
      "text/html": [
       "<pre style=\"white-space:pre;overflow-x:auto;line-height:normal;font-family:Menlo,'DejaVu Sans Mono',consolas,'Courier New',monospace\">\n",
       "</pre>\n"
      ],
      "text/plain": [
       "\n"
      ]
     },
     "metadata": {},
     "output_type": "display_data"
    },
    {
     "data": {
      "text/html": [
       "<pre style=\"white-space:pre;overflow-x:auto;line-height:normal;font-family:Menlo,'DejaVu Sans Mono',consolas,'Courier New',monospace\">Collecting et-xmlfile\n",
       "</pre>\n"
      ],
      "text/plain": [
       "Collecting et-xmlfile\n"
      ]
     },
     "metadata": {},
     "output_type": "display_data"
    },
    {
     "data": {
      "text/html": [
       "<pre style=\"white-space:pre;overflow-x:auto;line-height:normal;font-family:Menlo,'DejaVu Sans Mono',consolas,'Courier New',monospace\">  Downloading et_xmlfile-1.1.0-py3-none-any.whl (4.7 kB)\n",
       "</pre>\n"
      ],
      "text/plain": [
       "  Downloading et_xmlfile-1.1.0-py3-none-any.whl (4.7 kB)\n"
      ]
     },
     "metadata": {},
     "output_type": "display_data"
    },
    {
     "data": {
      "text/html": [
       "<pre style=\"white-space:pre;overflow-x:auto;line-height:normal;font-family:Menlo,'DejaVu Sans Mono',consolas,'Courier New',monospace\">Installing collected packages: et-xmlfile, openpyxl\n",
       "</pre>\n"
      ],
      "text/plain": [
       "Installing collected packages: et-xmlfile, openpyxl\n"
      ]
     },
     "metadata": {},
     "output_type": "display_data"
    },
    {
     "data": {
      "text/html": [
       "<pre style=\"white-space:pre;overflow-x:auto;line-height:normal;font-family:Menlo,'DejaVu Sans Mono',consolas,'Courier New',monospace\">Successfully installed et-xmlfile-1.1.0 openpyxl-3.0.10\n",
       "</pre>\n"
      ],
      "text/plain": [
       "Successfully installed et-xmlfile-1.1.0 openpyxl-3.0.10\n"
      ]
     },
     "metadata": {},
     "output_type": "display_data"
    },
    {
     "data": {
      "text/html": [
       "<pre style=\"white-space:pre;overflow-x:auto;line-height:normal;font-family:Menlo,'DejaVu Sans Mono',consolas,'Courier New',monospace\"><span style=\"color: #808000; text-decoration-color: #808000\">WARNING: Running pip as the 'root' user can result in broken permissions and conflicting behaviour with the system package manager. It is recommended to use a virtual environment instead: https://pip.pypa.io/warnings/venv\n",
       "</span></pre>\n"
      ],
      "text/plain": [
       "\u001b[33mWARNING: Running pip as the 'root' user can result in broken permissions and conflicting behaviour with the system package manager. It is recommended to use a virtual environment instead: https://pip.pypa.io/warnings/venv\u001b[0m\u001b[33m\n",
       "\u001b[0m"
      ]
     },
     "metadata": {},
     "output_type": "display_data"
    },
    {
     "data": {
      "text/plain": [
       "0"
      ]
     },
     "execution_count": 3,
     "metadata": {},
     "output_type": "execute_result"
    }
   ],
   "source": [
    "import pip\n",
    "pip.main([\"install\", \"openpyxl\"])"
   ]
  },
  {
   "cell_type": "markdown",
   "id": "41e49dbc",
   "metadata": {
    "papermill": {
     "duration": 0.007687,
     "end_time": "2022-06-26T07:40:45.182180",
     "exception": false,
     "start_time": "2022-06-26T07:40:45.174493",
     "status": "completed"
    },
    "tags": []
   },
   "source": [
    "## **Read the Dataset**\n",
    "1. Dataset consist of two columns, X and Y.\n",
    "2. First 350 records are for training the model and remaining unlabelled data is for test purpose. "
   ]
  },
  {
   "cell_type": "code",
   "execution_count": 4,
   "id": "f65d60d9",
   "metadata": {
    "execution": {
     "iopub.execute_input": "2022-06-26T07:40:45.202252Z",
     "iopub.status.busy": "2022-06-26T07:40:45.201333Z",
     "iopub.status.idle": "2022-06-26T07:40:45.466096Z",
     "shell.execute_reply": "2022-06-26T07:40:45.465151Z"
    },
    "papermill": {
     "duration": 0.27879,
     "end_time": "2022-06-26T07:40:45.469329",
     "exception": false,
     "start_time": "2022-06-26T07:40:45.190539",
     "status": "completed"
    },
    "tags": []
   },
   "outputs": [],
   "source": [
    "df = pd.read_excel(\"/kaggle/input/itsc-ml-challenge-26jun/DATA_P.xlsx\")\n",
    "\n",
    "train = df.iloc[:350,1:] #segregate first 350 records as training data.\n",
    "test = df.iloc[350:,1:] #remaining data to be treated as test."
   ]
  },
  {
   "cell_type": "code",
   "execution_count": 5,
   "id": "71c577cd",
   "metadata": {
    "execution": {
     "iopub.execute_input": "2022-06-26T07:40:45.497498Z",
     "iopub.status.busy": "2022-06-26T07:40:45.496492Z",
     "iopub.status.idle": "2022-06-26T07:40:45.522368Z",
     "shell.execute_reply": "2022-06-26T07:40:45.520899Z"
    },
    "papermill": {
     "duration": 0.040458,
     "end_time": "2022-06-26T07:40:45.524438",
     "exception": false,
     "start_time": "2022-06-26T07:40:45.483980",
     "status": "completed"
    },
    "tags": []
   },
   "outputs": [
    {
     "name": "stdout",
     "output_type": "stream",
     "text": [
      "<class 'pandas.core.frame.DataFrame'>\n",
      "RangeIndex: 350 entries, 0 to 349\n",
      "Data columns (total 2 columns):\n",
      " #   Column  Non-Null Count  Dtype  \n",
      "---  ------  --------------  -----  \n",
      " 0   X       350 non-null    float64\n",
      " 1   Y       350 non-null    float64\n",
      "dtypes: float64(2)\n",
      "memory usage: 5.6 KB\n"
     ]
    },
    {
     "data": {
      "text/plain": [
       "None"
      ]
     },
     "metadata": {},
     "output_type": "display_data"
    }
   ],
   "source": [
    "display(train.info())"
   ]
  },
  {
   "cell_type": "code",
   "execution_count": 6,
   "id": "804c03a6",
   "metadata": {
    "execution": {
     "iopub.execute_input": "2022-06-26T07:40:45.542926Z",
     "iopub.status.busy": "2022-06-26T07:40:45.542288Z",
     "iopub.status.idle": "2022-06-26T07:40:45.563224Z",
     "shell.execute_reply": "2022-06-26T07:40:45.562077Z"
    },
    "papermill": {
     "duration": 0.032916,
     "end_time": "2022-06-26T07:40:45.565799",
     "exception": false,
     "start_time": "2022-06-26T07:40:45.532883",
     "status": "completed"
    },
    "tags": []
   },
   "outputs": [
    {
     "data": {
      "text/html": [
       "<div>\n",
       "<style scoped>\n",
       "    .dataframe tbody tr th:only-of-type {\n",
       "        vertical-align: middle;\n",
       "    }\n",
       "\n",
       "    .dataframe tbody tr th {\n",
       "        vertical-align: top;\n",
       "    }\n",
       "\n",
       "    .dataframe thead th {\n",
       "        text-align: right;\n",
       "    }\n",
       "</style>\n",
       "<table border=\"1\" class=\"dataframe\">\n",
       "  <thead>\n",
       "    <tr style=\"text-align: right;\">\n",
       "      <th></th>\n",
       "      <th>X</th>\n",
       "      <th>Y</th>\n",
       "    </tr>\n",
       "  </thead>\n",
       "  <tbody>\n",
       "    <tr>\n",
       "      <th>count</th>\n",
       "      <td>350.000000</td>\n",
       "      <td>350.000000</td>\n",
       "    </tr>\n",
       "    <tr>\n",
       "      <th>mean</th>\n",
       "      <td>63.912880</td>\n",
       "      <td>69.001553</td>\n",
       "    </tr>\n",
       "    <tr>\n",
       "      <th>std</th>\n",
       "      <td>11.855688</td>\n",
       "      <td>7.494282</td>\n",
       "    </tr>\n",
       "    <tr>\n",
       "      <th>min</th>\n",
       "      <td>0.000000</td>\n",
       "      <td>35.000000</td>\n",
       "    </tr>\n",
       "    <tr>\n",
       "      <th>25%</th>\n",
       "      <td>57.500000</td>\n",
       "      <td>65.511811</td>\n",
       "    </tr>\n",
       "    <tr>\n",
       "      <th>50%</th>\n",
       "      <td>65.039370</td>\n",
       "      <td>69.921260</td>\n",
       "    </tr>\n",
       "    <tr>\n",
       "      <th>75%</th>\n",
       "      <td>72.500000</td>\n",
       "      <td>73.385827</td>\n",
       "    </tr>\n",
       "    <tr>\n",
       "      <th>max</th>\n",
       "      <td>87.500000</td>\n",
       "      <td>90.000000</td>\n",
       "    </tr>\n",
       "  </tbody>\n",
       "</table>\n",
       "</div>"
      ],
      "text/plain": [
       "                X           Y\n",
       "count  350.000000  350.000000\n",
       "mean    63.912880   69.001553\n",
       "std     11.855688    7.494282\n",
       "min      0.000000   35.000000\n",
       "25%     57.500000   65.511811\n",
       "50%     65.039370   69.921260\n",
       "75%     72.500000   73.385827\n",
       "max     87.500000   90.000000"
      ]
     },
     "execution_count": 6,
     "metadata": {},
     "output_type": "execute_result"
    }
   ],
   "source": [
    "train.describe()"
   ]
  },
  {
   "cell_type": "markdown",
   "id": "48ab4b6c",
   "metadata": {
    "papermill": {
     "duration": 0.00796,
     "end_time": "2022-06-26T07:40:45.582316",
     "exception": false,
     "start_time": "2022-06-26T07:40:45.574356",
     "status": "completed"
    },
    "tags": []
   },
   "source": [
    "# **Exploratory Data Analysis**\n",
    "1. The EDA is performed on both the independent variable and dependent variable, based on which we will analyse the data and check if any outliers are there or not. \n",
    "2. EDA will help us to select our model based on visualizations ie whether to pick tree based model or linear models."
   ]
  },
  {
   "cell_type": "code",
   "execution_count": 7,
   "id": "d9d26018",
   "metadata": {
    "execution": {
     "iopub.execute_input": "2022-06-26T07:40:45.601197Z",
     "iopub.status.busy": "2022-06-26T07:40:45.600781Z",
     "iopub.status.idle": "2022-06-26T07:40:45.911390Z",
     "shell.execute_reply": "2022-06-26T07:40:45.910211Z"
    },
    "papermill": {
     "duration": 0.322942,
     "end_time": "2022-06-26T07:40:45.914308",
     "exception": false,
     "start_time": "2022-06-26T07:40:45.591366",
     "status": "completed"
    },
    "tags": []
   },
   "outputs": [
    {
     "data": {
      "image/png": "[encoded data removed]",
      "text/plain": [
       "<Figure size 432x288 with 1 Axes>"
      ]
     },
     "metadata": {},
     "output_type": "display_data"
    }
   ],
   "source": [
    "#1. Histogram Plot\n",
    "sns.histplot(x='X', data=train);"
   ]
  },
  {
   "cell_type": "code",
   "execution_count": 8,
   "id": "4b3e6fe8",
   "metadata": {
    "execution": {
     "iopub.execute_input": "2022-06-26T07:40:45.933671Z",
     "iopub.status.busy": "2022-06-26T07:40:45.932594Z",
     "iopub.status.idle": "2022-06-26T07:40:46.456612Z",
     "shell.execute_reply": "2022-06-26T07:40:46.455482Z"
    },
    "papermill": {
     "duration": 0.536121,
     "end_time": "2022-06-26T07:40:46.458839",
     "exception": false,
     "start_time": "2022-06-26T07:40:45.922718",
     "status": "completed"
    },
    "tags": []
   },
   "outputs": [
    {
     "data": {
      "image/png": "[encoded data removed]",
      "text/plain": [
       "<Figure size 1080x1080 with 2 Axes>"
      ]
     },
     "metadata": {},
     "output_type": "display_data"
    }
   ],
   "source": [
    "#2. Comparing both X, Y columns on Histogram plot. \n",
    "\n",
    "cols = 3\n",
    "rows = 3\n",
    "num_cols = train.select_dtypes(exclude='object').columns\n",
    "fig = plt.figure( figsize=(cols*5, rows*5))\n",
    "for i, col in enumerate(num_cols):\n",
    "    \n",
    "    ax=fig.add_subplot(rows,cols,i+1)\n",
    "    \n",
    "    sns.histplot(x = train[col], ax = ax)\n",
    "    \n",
    "fig.tight_layout()  \n",
    "plt.show()"
   ]
  },
  {
   "cell_type": "code",
   "execution_count": 9,
   "id": "82571f10",
   "metadata": {
    "execution": {
     "iopub.execute_input": "2022-06-26T07:40:46.478822Z",
     "iopub.status.busy": "2022-06-26T07:40:46.477651Z",
     "iopub.status.idle": "2022-06-26T07:40:46.692874Z",
     "shell.execute_reply": "2022-06-26T07:40:46.691456Z"
    },
    "papermill": {
     "duration": 0.22769,
     "end_time": "2022-06-26T07:40:46.695423",
     "exception": false,
     "start_time": "2022-06-26T07:40:46.467733",
     "status": "completed"
    },
    "tags": []
   },
   "outputs": [
    {
     "data": {
      "text/plain": [
       "<AxesSubplot:>"
      ]
     },
     "execution_count": 9,
     "metadata": {},
     "output_type": "execute_result"
    },
    {
     "data": {
      "image/png": "[encoded data removed]",
      "text/plain": [
       "<Figure size 432x288 with 2 Axes>"
      ]
     },
     "metadata": {},
     "output_type": "display_data"
    }
   ],
   "source": [
    "sns.heatmap(train.corr(), annot=True)"
   ]
  },
  {
   "cell_type": "code",
   "execution_count": 10,
   "id": "706895e8",
   "metadata": {
    "execution": {
     "iopub.execute_input": "2022-06-26T07:40:46.715882Z",
     "iopub.status.busy": "2022-06-26T07:40:46.715444Z",
     "iopub.status.idle": "2022-06-26T07:40:46.900919Z",
     "shell.execute_reply": "2022-06-26T07:40:46.899885Z"
    },
    "papermill": {
     "duration": 0.198717,
     "end_time": "2022-06-26T07:40:46.903504",
     "exception": false,
     "start_time": "2022-06-26T07:40:46.704787",
     "status": "completed"
    },
    "tags": []
   },
   "outputs": [
    {
     "data": {
      "text/plain": [
       "<AxesSubplot:xlabel='X'>"
      ]
     },
     "execution_count": 10,
     "metadata": {},
     "output_type": "execute_result"
    },
    {
     "data": {
      "image/png": "[encoded data removed]",
      "text/plain": [
       "<Figure size 432x288 with 1 Axes>"
      ]
     },
     "metadata": {},
     "output_type": "display_data"
    }
   ],
   "source": [
    "#3. This represents the box plot.\n",
    "\n",
    "sns.boxplot(x=train['X'])"
   ]
  },
  {
   "cell_type": "code",
   "execution_count": 11,
   "id": "442c0f9f",
   "metadata": {
    "execution": {
     "iopub.execute_input": "2022-06-26T07:40:46.923902Z",
     "iopub.status.busy": "2022-06-26T07:40:46.923526Z",
     "iopub.status.idle": "2022-06-26T07:40:47.096763Z",
     "shell.execute_reply": "2022-06-26T07:40:47.095406Z"
    },
    "papermill": {
     "duration": 0.186692,
     "end_time": "2022-06-26T07:40:47.099399",
     "exception": false,
     "start_time": "2022-06-26T07:40:46.912707",
     "status": "completed"
    },
    "tags": []
   },
   "outputs": [
    {
     "data": {
      "text/plain": [
       "<AxesSubplot:>"
      ]
     },
     "execution_count": 11,
     "metadata": {},
     "output_type": "execute_result"
    },
    {
     "data": {
      "image/png": "[encoded data removed]",
      "text/plain": [
       "<Figure size 432x288 with 1 Axes>"
      ]
     },
     "metadata": {},
     "output_type": "display_data"
    }
   ],
   "source": [
    "sns.boxplot(data=train.loc[:, ['X', 'Y']])"
   ]
  },
  {
   "cell_type": "code",
   "execution_count": 12,
   "id": "77f8fe0c",
   "metadata": {
    "execution": {
     "iopub.execute_input": "2022-06-26T07:40:47.121855Z",
     "iopub.status.busy": "2022-06-26T07:40:47.121434Z",
     "iopub.status.idle": "2022-06-26T07:40:47.341783Z",
     "shell.execute_reply": "2022-06-26T07:40:47.340994Z"
    },
    "papermill": {
     "duration": 0.23406,
     "end_time": "2022-06-26T07:40:47.343853",
     "exception": false,
     "start_time": "2022-06-26T07:40:47.109793",
     "status": "completed"
    },
    "tags": []
   },
   "outputs": [
    {
     "data": {
      "text/plain": [
       "<AxesSubplot:xlabel='Y'>"
      ]
     },
     "execution_count": 12,
     "metadata": {},
     "output_type": "execute_result"
    },
    {
     "data": {
      "image/png": "[encoded data removed]",
      "text/plain": [
       "<Figure size 432x288 with 1 Axes>"
      ]
     },
     "metadata": {},
     "output_type": "display_data"
    }
   ],
   "source": [
    "#4. Violin Plot for both X,Y variable \n",
    "\n",
    "sns.violinplot(x=train[\"X\"], color='red')\n",
    "sns.violinplot(x=train[\"Y\"], color='yellow')"
   ]
  },
  {
   "cell_type": "markdown",
   "id": "878a3895",
   "metadata": {
    "papermill": {
     "duration": 0.009997,
     "end_time": "2022-06-26T07:40:47.364013",
     "exception": false,
     "start_time": "2022-06-26T07:40:47.354016",
     "status": "completed"
    },
    "tags": []
   },
   "source": [
    "# **Creating a Train Test Split**\n",
    "1. Train-Test split is 70:30 with random-state keeping as 33"
   ]
  },
  {
   "cell_type": "code",
   "execution_count": 13,
   "id": "3a045647",
   "metadata": {
    "execution": {
     "iopub.execute_input": "2022-06-26T07:40:47.386437Z",
     "iopub.status.busy": "2022-06-26T07:40:47.385848Z",
     "iopub.status.idle": "2022-06-26T07:40:47.596905Z",
     "shell.execute_reply": "2022-06-26T07:40:47.595951Z"
    },
    "papermill": {
     "duration": 0.225032,
     "end_time": "2022-06-26T07:40:47.599381",
     "exception": false,
     "start_time": "2022-06-26T07:40:47.374349",
     "status": "completed"
    },
    "tags": []
   },
   "outputs": [
    {
     "name": "stdout",
     "output_type": "stream",
     "text": [
      "245 105 245 105\n"
     ]
    }
   ],
   "source": [
    "from sklearn.model_selection import train_test_split\n",
    "\n",
    "Xtrain,Xtest,ytrain,ytest = train_test_split(train[['X']], train[['Y']], test_size=0.3, random_state=33)\n",
    "\n",
    "print(Xtrain.size, Xtest.size,  ytrain.size, ytest.size)"
   ]
  },
  {
   "cell_type": "markdown",
   "id": "c823d1bc",
   "metadata": {
    "papermill": {
     "duration": 0.009767,
     "end_time": "2022-06-26T07:40:47.619468",
     "exception": false,
     "start_time": "2022-06-26T07:40:47.609701",
     "status": "completed"
    },
    "tags": []
   },
   "source": [
    "# **Model-1 Linear Regression**"
   ]
  },
  {
   "cell_type": "code",
   "execution_count": 14,
   "id": "3f829361",
   "metadata": {
    "execution": {
     "iopub.execute_input": "2022-06-26T07:40:47.643940Z",
     "iopub.status.busy": "2022-06-26T07:40:47.643427Z",
     "iopub.status.idle": "2022-06-26T07:40:47.743853Z",
     "shell.execute_reply": "2022-06-26T07:40:47.742510Z"
    },
    "papermill": {
     "duration": 0.116389,
     "end_time": "2022-06-26T07:40:47.746312",
     "exception": false,
     "start_time": "2022-06-26T07:40:47.629923",
     "status": "completed"
    },
    "tags": []
   },
   "outputs": [
    {
     "name": "stdout",
     "output_type": "stream",
     "text": [
      "8.086784970871678\n"
     ]
    }
   ],
   "source": [
    "#Linear Regression Model Training and Validation\n",
    "from sklearn.linear_model import LinearRegression\n",
    "from sklearn.metrics import mean_squared_error as mse\n",
    "\n",
    "m1 = LinearRegression(fit_intercept=True, normalize='deprecated', copy_X=True, \n",
    "                      n_jobs=5, positive=False)\n",
    "m1.fit(Xtrain,ytrain)\n",
    "ypred = m1.predict(Xtest)\n",
    "\n",
    "s1 = (np.sqrt(mse(ytest, ypred)))\n",
    "print(s1)"
   ]
  },
  {
   "cell_type": "code",
   "execution_count": 15,
   "id": "e8f166ae",
   "metadata": {
    "execution": {
     "iopub.execute_input": "2022-06-26T07:40:47.768227Z",
     "iopub.status.busy": "2022-06-26T07:40:47.767839Z",
     "iopub.status.idle": "2022-06-26T07:40:47.784045Z",
     "shell.execute_reply": "2022-06-26T07:40:47.782813Z"
    },
    "papermill": {
     "duration": 0.030204,
     "end_time": "2022-06-26T07:40:47.786588",
     "exception": false,
     "start_time": "2022-06-26T07:40:47.756384",
     "status": "completed"
    },
    "tags": []
   },
   "outputs": [
    {
     "data": {
      "text/html": [
       "<a href='sub1.csv' target='_blank'>sub1.csv</a><br>"
      ],
      "text/plain": [
       "/kaggle/working/sub1.csv"
      ]
     },
     "execution_count": 15,
     "metadata": {},
     "output_type": "execute_result"
    }
   ],
   "source": [
    "#Linear Regression Model prediction on Test dataset. \n",
    "pred = m1.predict(test[['X']])\n",
    "\n",
    "sub1 = pd.DataFrame()\n",
    "sub1['X'] = test['X']\n",
    "sub1['Y'] = pred\n",
    "\n",
    "sub1.to_csv('sub1.csv', index=False)\n",
    "\n",
    "os.chdir(r'../working')\n",
    "from IPython.display import FileLink\n",
    "FileLink(r'sub1.csv')"
   ]
  },
  {
   "cell_type": "markdown",
   "id": "f03a96d7",
   "metadata": {
    "papermill": {
     "duration": 0.009859,
     "end_time": "2022-06-26T07:40:47.806889",
     "exception": false,
     "start_time": "2022-06-26T07:40:47.797030",
     "status": "completed"
    },
    "tags": []
   },
   "source": [
    "# **Model-2 Random Forest Regressor**"
   ]
  },
  {
   "cell_type": "code",
   "execution_count": 16,
   "id": "c83b32dc",
   "metadata": {
    "execution": {
     "iopub.execute_input": "2022-06-26T07:40:47.829358Z",
     "iopub.status.busy": "2022-06-26T07:40:47.828715Z",
     "iopub.status.idle": "2022-06-26T07:40:50.765328Z",
     "shell.execute_reply": "2022-06-26T07:40:50.763574Z"
    },
    "papermill": {
     "duration": 2.952101,
     "end_time": "2022-06-26T07:40:50.769167",
     "exception": false,
     "start_time": "2022-06-26T07:40:47.817066",
     "status": "completed"
    },
    "tags": []
   },
   "outputs": [
    {
     "name": "stderr",
     "output_type": "stream",
     "text": [
      "/opt/conda/lib/python3.7/site-packages/ipykernel_launcher.py:8: DataConversionWarning: A column-vector y was passed when a 1d array was expected. Please change the shape of y to (n_samples,), for example using ravel().\n",
      "  \n"
     ]
    },
    {
     "name": "stdout",
     "output_type": "stream",
     "text": [
      "8.024946067788054\n"
     ]
    }
   ],
   "source": [
    "from sklearn.ensemble import RandomForestRegressor\n",
    "\n",
    "m2 = RandomForestRegressor(n_estimators=1550, criterion='squared_error', max_depth=33, \n",
    "                           min_samples_split=7, min_samples_leaf=7, min_weight_fraction_leaf=0.0, \n",
    "                           max_features=1.0, max_leaf_nodes=3, min_impurity_decrease=0.0, \n",
    "                           bootstrap=True, oob_score=False, n_jobs=3, random_state=33, \n",
    "                           verbose=0, warm_start=True, ccp_alpha=0.0, max_samples=1)\n",
    "m2.fit(Xtrain,ytrain)\n",
    "ypred = m2.predict(Xtest)\n",
    "\n",
    "s2 = (np.sqrt(mse(ytest, ypred)))\n",
    "print(s2)"
   ]
  },
  {
   "cell_type": "code",
   "execution_count": 17,
   "id": "56b51243",
   "metadata": {
    "execution": {
     "iopub.execute_input": "2022-06-26T07:40:50.792206Z",
     "iopub.status.busy": "2022-06-26T07:40:50.791850Z",
     "iopub.status.idle": "2022-06-26T07:40:51.109821Z",
     "shell.execute_reply": "2022-06-26T07:40:51.108542Z"
    },
    "papermill": {
     "duration": 0.332411,
     "end_time": "2022-06-26T07:40:51.112610",
     "exception": false,
     "start_time": "2022-06-26T07:40:50.780199",
     "status": "completed"
    },
    "tags": []
   },
   "outputs": [
    {
     "data": {
      "text/html": [
       "<a href='sub2.csv' target='_blank'>sub2.csv</a><br>"
      ],
      "text/plain": [
       "/kaggle/working/sub2.csv"
      ]
     },
     "execution_count": 17,
     "metadata": {},
     "output_type": "execute_result"
    }
   ],
   "source": [
    "#Random Forest Model prediction on Test dataset. \n",
    "pred = m2.predict(test[['X']])\n",
    "\n",
    "sub2 = pd.DataFrame()\n",
    "sub2['X'] = test['X']\n",
    "sub2['Y'] = pred\n",
    "\n",
    "sub2.to_csv('sub2.csv', index=False)\n",
    "\n",
    "os.chdir(r'../working')\n",
    "from IPython.display import FileLink\n",
    "FileLink(r'sub2.csv')"
   ]
  },
  {
   "cell_type": "markdown",
   "id": "5bf680f0",
   "metadata": {
    "papermill": {
     "duration": 0.010311,
     "end_time": "2022-06-26T07:40:51.133780",
     "exception": false,
     "start_time": "2022-06-26T07:40:51.123469",
     "status": "completed"
    },
    "tags": []
   },
   "source": [
    "# **Model-3 LightGBM Regressor**"
   ]
  },
  {
   "cell_type": "code",
   "execution_count": 18,
   "id": "3facd67a",
   "metadata": {
    "execution": {
     "iopub.execute_input": "2022-06-26T07:40:51.158119Z",
     "iopub.status.busy": "2022-06-26T07:40:51.156844Z",
     "iopub.status.idle": "2022-06-26T07:40:52.313232Z",
     "shell.execute_reply": "2022-06-26T07:40:52.310809Z"
    },
    "papermill": {
     "duration": 1.17165,
     "end_time": "2022-06-26T07:40:52.315817",
     "exception": false,
     "start_time": "2022-06-26T07:40:51.144167",
     "status": "completed"
    },
    "tags": []
   },
   "outputs": [
    {
     "data": {
      "text/html": [
       "<style type='text/css'>\n",
       ".datatable table.frame { margin-bottom: 0; }\n",
       ".datatable table.frame thead { border-bottom: none; }\n",
       ".datatable table.frame tr.coltypes td {  color: #FFFFFF;  line-height: 6px;  padding: 0 0.5em;}\n",
       ".datatable .bool    { background: #DDDD99; }\n",
       ".datatable .object  { background: #565656; }\n",
       ".datatable .int     { background: #5D9E5D; }\n",
       ".datatable .float   { background: #4040CC; }\n",
       ".datatable .str     { background: #CC4040; }\n",
       ".datatable .time    { background: #40CC40; }\n",
       ".datatable .row_index {  background: var(--jp-border-color3);  border-right: 1px solid var(--jp-border-color0);  color: var(--jp-ui-font-color3);  font-size: 9px;}\n",
       ".datatable .frame tbody td { text-align: left; }\n",
       ".datatable .frame tr.coltypes .row_index {  background: var(--jp-border-color0);}\n",
       ".datatable th:nth-child(2) { padding-left: 12px; }\n",
       ".datatable .hellipsis {  color: var(--jp-cell-editor-border-color);}\n",
       ".datatable .vellipsis {  background: var(--jp-layout-color0);  color: var(--jp-cell-editor-border-color);}\n",
       ".datatable .na {  color: var(--jp-cell-editor-border-color);  font-size: 80%;}\n",
       ".datatable .sp {  opacity: 0.25;}\n",
       ".datatable .footer { font-size: 9px; }\n",
       ".datatable .frame_dimensions {  background: var(--jp-border-color3);  border-top: 1px solid var(--jp-border-color0);  color: var(--jp-ui-font-color3);  display: inline-block;  opacity: 0.6;  padding: 1px 10px 1px 5px;}\n",
       "</style>\n"
      ],
      "text/plain": [
       "<IPython.core.display.HTML object>"
      ]
     },
     "metadata": {},
     "output_type": "display_data"
    },
    {
     "name": "stdout",
     "output_type": "stream",
     "text": [
      "8.217615936706158\n"
     ]
    }
   ],
   "source": [
    "from lightgbm import LGBMRegressor\n",
    "\n",
    "m3 = LGBMRegressor(boosting_type='gbdt', num_leaves=6, max_depth=None, learning_rate=0.0017, \n",
    "                   n_estimators=1200, subsample_for_bin=200000, objective='regression', \n",
    "                   class_weight=None, min_split_gain=0.0, min_child_weight=0.001, min_child_samples=20, \n",
    "                   subsample=1.0, subsample_freq=0, colsample_bytree=1.0, reg_alpha=0.0, \n",
    "                   reg_lambda=0.0, random_state=33, n_jobs=3, importance_type='split')\n",
    "\n",
    "m3.fit(Xtrain,ytrain)\n",
    "ypred = m3.predict(Xtest)\n",
    "\n",
    "s3 = (np.sqrt(mse(ytest, ypred)))\n",
    "print(s3)"
   ]
  },
  {
   "cell_type": "code",
   "execution_count": 19,
   "id": "48a77a89",
   "metadata": {
    "execution": {
     "iopub.execute_input": "2022-06-26T07:40:52.339841Z",
     "iopub.status.busy": "2022-06-26T07:40:52.339444Z",
     "iopub.status.idle": "2022-06-26T07:40:52.658988Z",
     "shell.execute_reply": "2022-06-26T07:40:52.657820Z"
    },
    "papermill": {
     "duration": 0.334139,
     "end_time": "2022-06-26T07:40:52.661248",
     "exception": false,
     "start_time": "2022-06-26T07:40:52.327109",
     "status": "completed"
    },
    "tags": []
   },
   "outputs": [
    {
     "data": {
      "text/html": [
       "<a href='sub3.csv' target='_blank'>sub3.csv</a><br>"
      ],
      "text/plain": [
       "/kaggle/working/sub3.csv"
      ]
     },
     "execution_count": 19,
     "metadata": {},
     "output_type": "execute_result"
    }
   ],
   "source": [
    "#LGBM Regressor Model prediction on Test dataset. \n",
    "pred = m2.predict(test[['X']])\n",
    "\n",
    "sub3 = pd.DataFrame()\n",
    "sub3['X'] = test['X']\n",
    "sub3['Y'] = pred\n",
    "\n",
    "sub3.to_csv('sub3.csv', index=False)\n",
    "\n",
    "os.chdir(r'../working')\n",
    "from IPython.display import FileLink\n",
    "FileLink(r'sub3.csv')"
   ]
  },
  {
   "cell_type": "markdown",
   "id": "82a3645b",
   "metadata": {
    "papermill": {
     "duration": 0.010517,
     "end_time": "2022-06-26T07:40:52.682509",
     "exception": false,
     "start_time": "2022-06-26T07:40:52.671992",
     "status": "completed"
    },
    "tags": []
   },
   "source": [
    "# **Model-4 GradientBoostingRegressor**"
   ]
  },
  {
   "cell_type": "code",
   "execution_count": 20,
   "id": "357a2234",
   "metadata": {
    "execution": {
     "iopub.execute_input": "2022-06-26T07:40:52.705840Z",
     "iopub.status.busy": "2022-06-26T07:40:52.705445Z",
     "iopub.status.idle": "2022-06-26T07:40:53.229105Z",
     "shell.execute_reply": "2022-06-26T07:40:53.228048Z"
    },
    "papermill": {
     "duration": 0.538157,
     "end_time": "2022-06-26T07:40:53.231413",
     "exception": false,
     "start_time": "2022-06-26T07:40:52.693256",
     "status": "completed"
    },
    "tags": []
   },
   "outputs": [
    {
     "name": "stderr",
     "output_type": "stream",
     "text": [
      "/opt/conda/lib/python3.7/site-packages/sklearn/ensemble/_gb.py:494: DataConversionWarning: A column-vector y was passed when a 1d array was expected. Please change the shape of y to (n_samples, ), for example using ravel().\n",
      "  y = column_or_1d(y, warn=True)\n"
     ]
    },
    {
     "name": "stdout",
     "output_type": "stream",
     "text": [
      "9.89787582027334\n"
     ]
    }
   ],
   "source": [
    "from sklearn.ensemble import GradientBoostingRegressor\n",
    "\n",
    "m4 = GradientBoostingRegressor(loss='squared_error', learning_rate=0.017, n_estimators=1400, \n",
    "                               subsample=1.0, criterion='friedman_mse', min_samples_split=2, \n",
    "                               min_samples_leaf=1, min_weight_fraction_leaf=0.0, max_depth=33, \n",
    "                               min_impurity_decrease=0.0, init=None, random_state=None, \n",
    "                               max_features=None, alpha=0.9, verbose=0, max_leaf_nodes=None, \n",
    "                               warm_start=False, validation_fraction=0.1, n_iter_no_change=None, \n",
    "                               tol=0.0001, ccp_alpha=0.0)\n",
    "\n",
    "m4.fit(Xtrain,ytrain)\n",
    "ypred = m4.predict(Xtest)\n",
    "\n",
    "s4 = (np.sqrt(mse(ytest, ypred)))\n",
    "print(s4)"
   ]
  },
  {
   "cell_type": "code",
   "execution_count": 21,
   "id": "8c80cb79",
   "metadata": {
    "execution": {
     "iopub.execute_input": "2022-06-26T07:40:53.254653Z",
     "iopub.status.busy": "2022-06-26T07:40:53.254276Z",
     "iopub.status.idle": "2022-06-26T07:40:53.274003Z",
     "shell.execute_reply": "2022-06-26T07:40:53.272959Z"
    },
    "papermill": {
     "duration": 0.03375,
     "end_time": "2022-06-26T07:40:53.276102",
     "exception": false,
     "start_time": "2022-06-26T07:40:53.242352",
     "status": "completed"
    },
    "tags": []
   },
   "outputs": [
    {
     "data": {
      "text/html": [
       "<a href='sub4.csv' target='_blank'>sub4.csv</a><br>"
      ],
      "text/plain": [
       "/kaggle/working/sub4.csv"
      ]
     },
     "execution_count": 21,
     "metadata": {},
     "output_type": "execute_result"
    }
   ],
   "source": [
    "#Gradient Boosting predictions\n",
    "pred = m4.predict(test[['X']])\n",
    "\n",
    "sub4 = pd.DataFrame()\n",
    "sub4['X'] = test['X']\n",
    "sub4['Y'] = pred\n",
    "\n",
    "sub4.to_csv('sub4.csv', index=False)\n",
    "\n",
    "os.chdir(r'../working')\n",
    "from IPython.display import FileLink\n",
    "FileLink(r'sub4.csv')"
   ]
  },
  {
   "cell_type": "markdown",
   "id": "16cd3a1d",
   "metadata": {
    "papermill": {
     "duration": 0.011149,
     "end_time": "2022-06-26T07:40:53.298360",
     "exception": false,
     "start_time": "2022-06-26T07:40:53.287211",
     "status": "completed"
    },
    "tags": []
   },
   "source": [
    "# **Model-5 RANSAC Model**"
   ]
  },
  {
   "cell_type": "code",
   "execution_count": 22,
   "id": "12431a5d",
   "metadata": {
    "execution": {
     "iopub.execute_input": "2022-06-26T07:40:53.321979Z",
     "iopub.status.busy": "2022-06-26T07:40:53.321232Z",
     "iopub.status.idle": "2022-06-26T07:40:53.345317Z",
     "shell.execute_reply": "2022-06-26T07:40:53.343915Z"
    },
    "papermill": {
     "duration": 0.038635,
     "end_time": "2022-06-26T07:40:53.347833",
     "exception": false,
     "start_time": "2022-06-26T07:40:53.309198",
     "status": "completed"
    },
    "tags": []
   },
   "outputs": [
    {
     "name": "stdout",
     "output_type": "stream",
     "text": [
      "7.824255268592003\n"
     ]
    }
   ],
   "source": [
    "from sklearn.linear_model import RANSACRegressor\n",
    "\n",
    "m5 = RANSACRegressor(base_estimator=None, min_samples=None, residual_threshold=None, is_data_valid=None, is_model_valid=None, \n",
    "                     max_trials=1000, max_skips=np.inf, stop_n_inliers=np.inf, stop_score=np.inf, stop_probability=0.99, \n",
    "                     loss=\"absolute_error\", random_state=33)\n",
    "\n",
    "m5.fit(Xtrain,ytrain)\n",
    "ypred = m5.predict(Xtest)\n",
    "\n",
    "s5 = (np.sqrt(mse(ytest, ypred)))\n",
    "print(s5)"
   ]
  },
  {
   "cell_type": "code",
   "execution_count": 23,
   "id": "215a3dc5",
   "metadata": {
    "execution": {
     "iopub.execute_input": "2022-06-26T07:40:53.371642Z",
     "iopub.status.busy": "2022-06-26T07:40:53.370908Z",
     "iopub.status.idle": "2022-06-26T07:40:53.384965Z",
     "shell.execute_reply": "2022-06-26T07:40:53.383818Z"
    },
    "papermill": {
     "duration": 0.028432,
     "end_time": "2022-06-26T07:40:53.387300",
     "exception": false,
     "start_time": "2022-06-26T07:40:53.358868",
     "status": "completed"
    },
    "tags": []
   },
   "outputs": [
    {
     "data": {
      "text/html": [
       "<a href='sub5.csv' target='_blank'>sub5.csv</a><br>"
      ],
      "text/plain": [
       "/kaggle/working/sub5.csv"
      ]
     },
     "execution_count": 23,
     "metadata": {},
     "output_type": "execute_result"
    }
   ],
   "source": [
    "#RANSAC predictions\n",
    "pred = m5.predict(test[['X']])\n",
    "\n",
    "sub5 = pd.DataFrame()\n",
    "sub5['X'] = test['X']\n",
    "sub5['Y'] = pred\n",
    "\n",
    "sub4.to_csv('sub5.csv', index=False)\n",
    "\n",
    "os.chdir(r'../working')\n",
    "from IPython.display import FileLink\n",
    "FileLink(r'sub5.csv')"
   ]
  },
  {
   "cell_type": "markdown",
   "id": "aad37dfd",
   "metadata": {
    "papermill": {
     "duration": 0.01082,
     "end_time": "2022-06-26T07:40:53.409186",
     "exception": false,
     "start_time": "2022-06-26T07:40:53.398366",
     "status": "completed"
    },
    "tags": []
   },
   "source": [
    "# **Results Summary of all the Models above**"
   ]
  },
  {
   "cell_type": "code",
   "execution_count": 24,
   "id": "5097a80c",
   "metadata": {
    "execution": {
     "iopub.execute_input": "2022-06-26T07:40:53.437230Z",
     "iopub.status.busy": "2022-06-26T07:40:53.436200Z",
     "iopub.status.idle": "2022-06-26T07:40:53.459412Z",
     "shell.execute_reply": "2022-06-26T07:40:53.458314Z"
    },
    "papermill": {
     "duration": 0.038447,
     "end_time": "2022-06-26T07:40:53.461539",
     "exception": false,
     "start_time": "2022-06-26T07:40:53.423092",
     "status": "completed"
    },
    "tags": []
   },
   "outputs": [
    {
     "data": {
      "text/html": [
       "<div>\n",
       "<style scoped>\n",
       "    .dataframe tbody tr th:only-of-type {\n",
       "        vertical-align: middle;\n",
       "    }\n",
       "\n",
       "    .dataframe tbody tr th {\n",
       "        vertical-align: top;\n",
       "    }\n",
       "\n",
       "    .dataframe thead th {\n",
       "        text-align: right;\n",
       "    }\n",
       "</style>\n",
       "<table border=\"1\" class=\"dataframe\">\n",
       "  <thead>\n",
       "    <tr style=\"text-align: right;\">\n",
       "      <th></th>\n",
       "      <th>Algorithm</th>\n",
       "      <th>RMSE_Score</th>\n",
       "      <th>submission_file</th>\n",
       "    </tr>\n",
       "  </thead>\n",
       "  <tbody>\n",
       "    <tr>\n",
       "      <th>0</th>\n",
       "      <td>Linear Regression</td>\n",
       "      <td>8.086785</td>\n",
       "      <td>/kaggle/working/sub1.csv</td>\n",
       "    </tr>\n",
       "    <tr>\n",
       "      <th>1</th>\n",
       "      <td>Random Forest</td>\n",
       "      <td>8.024946</td>\n",
       "      <td>/kaggle/working/sub2.csv</td>\n",
       "    </tr>\n",
       "    <tr>\n",
       "      <th>2</th>\n",
       "      <td>LightGBM</td>\n",
       "      <td>8.217616</td>\n",
       "      <td>/kaggle/working/sub3.csv</td>\n",
       "    </tr>\n",
       "    <tr>\n",
       "      <th>3</th>\n",
       "      <td>GradientBoosting</td>\n",
       "      <td>9.897876</td>\n",
       "      <td>/kaggle/working/sub4.csv</td>\n",
       "    </tr>\n",
       "    <tr>\n",
       "      <th>4</th>\n",
       "      <td>RANSAC</td>\n",
       "      <td>7.824255</td>\n",
       "      <td>/kaggle/working/sub5.csv</td>\n",
       "    </tr>\n",
       "  </tbody>\n",
       "</table>\n",
       "</div>"
      ],
      "text/plain": [
       "           Algorithm  RMSE_Score           submission_file\n",
       "0  Linear Regression    8.086785  /kaggle/working/sub1.csv\n",
       "1      Random Forest    8.024946  /kaggle/working/sub2.csv\n",
       "2           LightGBM    8.217616  /kaggle/working/sub3.csv\n",
       "3   GradientBoosting    9.897876  /kaggle/working/sub4.csv\n",
       "4             RANSAC    7.824255  /kaggle/working/sub5.csv"
      ]
     },
     "metadata": {},
     "output_type": "display_data"
    },
    {
     "name": "stdout",
     "output_type": "stream",
     "text": [
      " \n",
      " \n",
      "******* Winner Model *******\n",
      " \n",
      " \n"
     ]
    },
    {
     "data": {
      "text/html": [
       "<div>\n",
       "<style scoped>\n",
       "    .dataframe tbody tr th:only-of-type {\n",
       "        vertical-align: middle;\n",
       "    }\n",
       "\n",
       "    .dataframe tbody tr th {\n",
       "        vertical-align: top;\n",
       "    }\n",
       "\n",
       "    .dataframe thead th {\n",
       "        text-align: right;\n",
       "    }\n",
       "</style>\n",
       "<table border=\"1\" class=\"dataframe\">\n",
       "  <thead>\n",
       "    <tr style=\"text-align: right;\">\n",
       "      <th></th>\n",
       "      <th>Algorithm</th>\n",
       "      <th>RMSE_Score</th>\n",
       "      <th>submission_file</th>\n",
       "    </tr>\n",
       "  </thead>\n",
       "  <tbody>\n",
       "    <tr>\n",
       "      <th>4</th>\n",
       "      <td>RANSAC</td>\n",
       "      <td>7.824255</td>\n",
       "      <td>/kaggle/working/sub5.csv</td>\n",
       "    </tr>\n",
       "  </tbody>\n",
       "</table>\n",
       "</div>"
      ],
      "text/plain": [
       "  Algorithm  RMSE_Score           submission_file\n",
       "4    RANSAC    7.824255  /kaggle/working/sub5.csv"
      ]
     },
     "metadata": {},
     "output_type": "display_data"
    }
   ],
   "source": [
    "#Result Evaluation\n",
    "scores = pd.DataFrame()\n",
    "scores['Algorithm'] = ['Linear Regression', 'Random Forest', 'LightGBM', 'GradientBoosting', 'RANSAC']\n",
    "scores['RMSE_Score'] = [s1,s2,s3,s4,s5]\n",
    "scores['submission_file'] = [FileLink(r'sub1.csv'),FileLink(r'sub2.csv'),FileLink(r'sub3.csv'),\n",
    "                             FileLink(r'sub4.csv'), FileLink(r'sub5.csv')] #prediction on test data\n",
    "\n",
    "display(scores)\n",
    "\n",
    "print(\" \")\n",
    "print(\" \")\n",
    "print(\"******* Winner Model *******\")\n",
    "print(\" \")\n",
    "print(\" \")\n",
    "\n",
    "display(scores[scores['RMSE_Score'] == min(scores['RMSE_Score'])])"
   ]
  },
  {
   "cell_type": "code",
   "execution_count": 25,
   "id": "95dbaa21",
   "metadata": {
    "execution": {
     "iopub.execute_input": "2022-06-26T07:40:53.487027Z",
     "iopub.status.busy": "2022-06-26T07:40:53.486213Z",
     "iopub.status.idle": "2022-06-26T07:40:53.492417Z",
     "shell.execute_reply": "2022-06-26T07:40:53.491335Z"
    },
    "papermill": {
     "duration": 0.021711,
     "end_time": "2022-06-26T07:40:53.494630",
     "exception": false,
     "start_time": "2022-06-26T07:40:53.472919",
     "status": "completed"
    },
    "tags": []
   },
   "outputs": [],
   "source": [
    "winner = scores[scores['RMSE_Score'] == min(scores['RMSE_Score'])]['submission_file']"
   ]
  },
  {
   "cell_type": "code",
   "execution_count": 26,
   "id": "72b059f4",
   "metadata": {
    "execution": {
     "iopub.execute_input": "2022-06-26T07:40:53.521317Z",
     "iopub.status.busy": "2022-06-26T07:40:53.520947Z",
     "iopub.status.idle": "2022-06-26T07:40:53.529312Z",
     "shell.execute_reply": "2022-06-26T07:40:53.528038Z"
    },
    "papermill": {
     "duration": 0.027249,
     "end_time": "2022-06-26T07:40:53.533276",
     "exception": false,
     "start_time": "2022-06-26T07:40:53.506027",
     "status": "completed"
    },
    "tags": []
   },
   "outputs": [],
   "source": [
    "plot_df = pd.read_csv(\"/kaggle/working/\"+winner.values[0].path)"
   ]
  },
  {
   "cell_type": "code",
   "execution_count": 27,
   "id": "a77b11dc",
   "metadata": {
    "execution": {
     "iopub.execute_input": "2022-06-26T07:40:53.560764Z",
     "iopub.status.busy": "2022-06-26T07:40:53.560366Z",
     "iopub.status.idle": "2022-06-26T07:40:54.159385Z",
     "shell.execute_reply": "2022-06-26T07:40:54.158409Z"
    },
    "papermill": {
     "duration": 0.614438,
     "end_time": "2022-06-26T07:40:54.161787",
     "exception": false,
     "start_time": "2022-06-26T07:40:53.547349",
     "status": "completed"
    },
    "tags": []
   },
   "outputs": [
    {
     "data": {
      "image/png": "[encoded data removed]",
      "text/plain": [
       "<Figure size 432x288 with 1 Axes>"
      ]
     },
     "metadata": {},
     "output_type": "display_data"
    }
   ],
   "source": [
    "sns.lineplot(x = \"X\",\n",
    "             y = \"Y\",\n",
    "             data = plot_df, color='red');"
   ]
  },
  {
   "cell_type": "code",
   "execution_count": null,
   "id": "5980aa1a",
   "metadata": {
    "papermill": {
     "duration": 0.011489,
     "end_time": "2022-06-26T07:40:54.184960",
     "exception": false,
     "start_time": "2022-06-26T07:40:54.173471",
     "status": "completed"
    },
    "tags": []
   },
   "outputs": [],
   "source": []
  }
 ],
 "metadata": {
  "kernelspec": {
   "display_name": "Python 3",
   "language": "python",
   "name": "python3"
  },
  "language_info": {
   "codemirror_mode": {
    "name": "ipython",
    "version": 3
   },
   "file_extension": ".py",
   "mimetype": "text/x-python",
   "name": "python",
   "nbconvert_exporter": "python",
   "pygments_lexer": "ipython3",
   "version": "3.7.12"
  },
  "papermill": {
   "default_parameters": {},
   "duration": 30.32885,
   "end_time": "2022-06-26T07:40:55.420559",
   "environment_variables": {},
   "exception": null,
   "input_path": "__notebook__.ipynb",
   "output_path": "__notebook__.ipynb",
   "parameters": {},
   "start_time": "2022-06-26T07:40:25.091709",
   "version": "2.3.4"
  },
  "widgets": {
   "application/vnd.jupyter.widget-state+json": {
    "state": {
     "73a92a82776d4a4cbbf35c4ecb05fae2": {
      "model_module": "@jupyter-widgets/output",
      "model_module_version": "1.0.0",
      "model_name": "OutputModel",
      "state": {
       "_dom_classes": [],
       "_model_module": "@jupyter-widgets/output",
       "_model_module_version": "1.0.0",
       "_model_name": "OutputModel",
       "_view_count": null,
       "_view_module": "@jupyter-widgets/output",
       "_view_module_version": "1.0.0",
       "_view_name": "OutputView",
       "layout": "IPY_MODEL_77868c6a8f054ee1a8246cd8202033f6",
       "msg_id": "",
       "outputs": [
        {
         "data": {
          "text/html": "<pre style=\"white-space:pre;overflow-x:auto;line-height:normal;font-family:Menlo,'DejaVu Sans Mono',consolas,'Courier New',monospace\">     <span style=\"color: #f92672; text-decoration-color: #f92672\">━━━━━━━━━━━━━━━━━━━━━━━━━━━━━━━━━━━━━━╸</span><span style=\"color: #3a3a3a; text-decoration-color: #3a3a3a\">━</span> <span style=\"color: #008000; text-decoration-color: #008000\">235.5/242.1 kB</span> <span style=\"color: #800000; text-decoration-color: #800000\">7.1 MB/s</span> eta <span style=\"color: #008080; text-decoration-color: #008080\">0:00:01</span>\n</pre>\n",
          "text/plain": "     \u001b[38;2;249;38;114m━━━━━━━━━━━━━━━━━━━━━━━━━━━━━━━━━━━━━━\u001b[0m\u001b[38;2;249;38;114m╸\u001b[0m\u001b[38;5;237m━\u001b[0m \u001b[32m235.5/242.1 kB\u001b[0m \u001b[31m7.1 MB/s\u001b[0m eta \u001b[36m0:00:01\u001b[0m\n"
         },
         "metadata": {},
         "output_type": "display_data"
        }
       ]
      }
     },
     "77868c6a8f054ee1a8246cd8202033f6": {
      "model_module": "@jupyter-widgets/base",
      "model_module_version": "1.2.0",
      "model_name": "LayoutModel",
      "state": {
       "_model_module": "@jupyter-widgets/base",
       "_model_module_version": "1.2.0",
       "_model_name": "LayoutModel",
       "_view_count": null,
       "_view_module": "@jupyter-widgets/base",
       "_view_module_version": "1.2.0",
       "_view_name": "LayoutView",
       "align_content": null,
       "align_items": null,
       "align_self": null,
       "border": null,
       "bottom": null,
       "display": null,
       "flex": null,
       "flex_flow": null,
       "grid_area": null,
       "grid_auto_columns": null,
       "grid_auto_flow": null,
       "grid_auto_rows": null,
       "grid_column": null,
       "grid_gap": null,
       "grid_row": null,
       "grid_template_areas": null,
       "grid_template_columns": null,
       "grid_template_rows": null,
       "height": null,
       "justify_content": null,
       "justify_items": null,
       "left": null,
       "margin": null,
       "max_height": null,
       "max_width": null,
       "min_height": null,
       "min_width": null,
       "object_fit": null,
       "object_position": null,
       "order": null,
       "overflow": null,
       "overflow_x": null,
       "overflow_y": null,
       "padding": null,
       "right": null,
       "top": null,
       "visibility": null,
       "width": null
      }
     }
    },
    "version_major": 2,
    "version_minor": 0
   }
  }
 },
 "nbformat": 4,
 "nbformat_minor": 5
}
