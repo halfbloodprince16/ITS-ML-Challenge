{
 "cells": [
  {
   "cell_type": "code",
   "execution_count": 1,
   "id": "5de133c2",
   "metadata": {
    "_cell_guid": "b1076dfc-b9ad-4769-8c92-a6c4dae69d19",
    "_uuid": "8f2839f25d086af736a60e9eeb907d3b93b6e0e5",
    "execution": {
     "iopub.execute_input": "2022-06-29T06:58:29.015142Z",
     "iopub.status.busy": "2022-06-29T06:58:29.014704Z",
     "iopub.status.idle": "2022-06-29T06:58:29.040812Z",
     "shell.execute_reply": "2022-06-29T06:58:29.039533Z"
    },
    "papermill": {
     "duration": 0.043755,
     "end_time": "2022-06-29T06:58:29.043679",
     "exception": false,
     "start_time": "2022-06-29T06:58:28.999924",
     "status": "completed"
    },
    "tags": []
   },
   "outputs": [
    {
     "name": "stdout",
     "output_type": "stream",
     "text": [
      "/kaggle/input/itsc-ml-challenge-26jun-model-performance/Randomised_DATA_P.xlsx\n",
      "/kaggle/input/itsc-ml-challenge-26jun-model-performance/Randomised_DATA_R.xlsx\n",
      "/kaggle/input/itsc-ml-challenge-26jun/DATA_R.xlsx\n",
      "/kaggle/input/itsc-ml-challenge-26jun/DATA_P.xlsx\n"
     ]
    }
   ],
   "source": [
    "import numpy as np # linear algebra\n",
    "import pandas as pd # data processing, CSV file I/O (e.g. pd.read_csv)\n",
    "\n",
    "import os\n",
    "for dirname, _, filenames in os.walk('/kaggle/input'):\n",
    "    for filename in filenames:\n",
    "        print(os.path.join(dirname, filename))"
   ]
  },
  {
   "cell_type": "code",
   "execution_count": 2,
   "id": "77df53ed",
   "metadata": {
    "execution": {
     "iopub.execute_input": "2022-06-29T06:58:29.065872Z",
     "iopub.status.busy": "2022-06-29T06:58:29.065179Z",
     "iopub.status.idle": "2022-06-29T06:58:30.327075Z",
     "shell.execute_reply": "2022-06-29T06:58:30.325954Z"
    },
    "papermill": {
     "duration": 1.275836,
     "end_time": "2022-06-29T06:58:30.329867",
     "exception": false,
     "start_time": "2022-06-29T06:58:29.054031",
     "status": "completed"
    },
    "tags": []
   },
   "outputs": [],
   "source": [
    "import seaborn as sns\n",
    "import matplotlib.pyplot as plt\n",
    "import numpy as np\n",
    "sns.set_style('darkgrid')\n",
    "sns.set(font_scale=1.3)"
   ]
  },
  {
   "cell_type": "code",
   "execution_count": 3,
   "id": "45e06dd2",
   "metadata": {
    "execution": {
     "iopub.execute_input": "2022-06-29T06:58:30.352823Z",
     "iopub.status.busy": "2022-06-29T06:58:30.352023Z",
     "iopub.status.idle": "2022-06-29T06:58:42.163947Z",
     "shell.execute_reply": "2022-06-29T06:58:42.162922Z"
    },
    "papermill": {
     "duration": 11.825792,
     "end_time": "2022-06-29T06:58:42.166371",
     "exception": false,
     "start_time": "2022-06-29T06:58:30.340579",
     "status": "completed"
    },
    "tags": []
   },
   "outputs": [
    {
     "name": "stderr",
     "output_type": "stream",
     "text": [
      "WARNING: pip is being invoked by an old script wrapper. This will fail in a future version of pip.\n",
      "Please see https://github.com/pypa/pip/issues/5599 for advice on fixing the underlying issue.\n",
      "To avoid this problem you can invoke Python with '-m pip' instead of running pip directly.\n"
     ]
    },
    {
     "data": {
      "text/html": [
       "<pre style=\"white-space:pre;overflow-x:auto;line-height:normal;font-family:Menlo,'DejaVu Sans Mono',consolas,'Courier New',monospace\">Collecting openpyxl\n",
       "</pre>\n"
      ],
      "text/plain": [
       "Collecting openpyxl\n"
      ]
     },
     "metadata": {},
     "output_type": "display_data"
    },
    {
     "data": {
      "text/html": [
       "<pre style=\"white-space:pre;overflow-x:auto;line-height:normal;font-family:Menlo,'DejaVu Sans Mono',consolas,'Courier New',monospace\">  Downloading openpyxl-3.0.10-py2.py3-none-any.whl (242 kB)\n",
       "</pre>\n"
      ],
      "text/plain": [
       "  Downloading openpyxl-3.0.10-py2.py3-none-any.whl (242 kB)\n"
      ]
     },
     "metadata": {},
     "output_type": "display_data"
    },
    {
     "data": {
      "application/vnd.jupyter.widget-view+json": {
       "model_id": "ce7454b92bf64058a17bf702403cc65e",
       "version_major": 2,
       "version_minor": 0
      },
      "text/plain": [
       "Output()"
      ]
     },
     "metadata": {},
     "output_type": "display_data"
    },
    {
     "data": {
      "text/html": [
       "<pre style=\"white-space:pre;overflow-x:auto;line-height:normal;font-family:Menlo,'DejaVu Sans Mono',consolas,'Courier New',monospace\"></pre>\n"
      ],
      "text/plain": []
     },
     "metadata": {},
     "output_type": "display_data"
    },
    {
     "data": {
      "text/html": [
       "<pre style=\"white-space:pre;overflow-x:auto;line-height:normal;font-family:Menlo,'DejaVu Sans Mono',consolas,'Courier New',monospace\">\n",
       "</pre>\n"
      ],
      "text/plain": [
       "\n"
      ]
     },
     "metadata": {},
     "output_type": "display_data"
    },
    {
     "data": {
      "text/html": [
       "<pre style=\"white-space:pre;overflow-x:auto;line-height:normal;font-family:Menlo,'DejaVu Sans Mono',consolas,'Courier New',monospace\">Collecting et-xmlfile\n",
       "</pre>\n"
      ],
      "text/plain": [
       "Collecting et-xmlfile\n"
      ]
     },
     "metadata": {},
     "output_type": "display_data"
    },
    {
     "data": {
      "text/html": [
       "<pre style=\"white-space:pre;overflow-x:auto;line-height:normal;font-family:Menlo,'DejaVu Sans Mono',consolas,'Courier New',monospace\">  Downloading et_xmlfile-1.1.0-py3-none-any.whl (4.7 kB)\n",
       "</pre>\n"
      ],
      "text/plain": [
       "  Downloading et_xmlfile-1.1.0-py3-none-any.whl (4.7 kB)\n"
      ]
     },
     "metadata": {},
     "output_type": "display_data"
    },
    {
     "data": {
      "text/html": [
       "<pre style=\"white-space:pre;overflow-x:auto;line-height:normal;font-family:Menlo,'DejaVu Sans Mono',consolas,'Courier New',monospace\">Installing collected packages: et-xmlfile, openpyxl\n",
       "</pre>\n"
      ],
      "text/plain": [
       "Installing collected packages: et-xmlfile, openpyxl\n"
      ]
     },
     "metadata": {},
     "output_type": "display_data"
    },
    {
     "data": {
      "text/html": [
       "<pre style=\"white-space:pre;overflow-x:auto;line-height:normal;font-family:Menlo,'DejaVu Sans Mono',consolas,'Courier New',monospace\">Successfully installed et-xmlfile-1.1.0 openpyxl-3.0.10\n",
       "</pre>\n"
      ],
      "text/plain": [
       "Successfully installed et-xmlfile-1.1.0 openpyxl-3.0.10\n"
      ]
     },
     "metadata": {},
     "output_type": "display_data"
    },
    {
     "data": {
      "text/html": [
       "<pre style=\"white-space:pre;overflow-x:auto;line-height:normal;font-family:Menlo,'DejaVu Sans Mono',consolas,'Courier New',monospace\"><span style=\"color: #808000; text-decoration-color: #808000\">WARNING: Running pip as the 'root' user can result in broken permissions and conflicting behaviour with the system package manager. It is recommended to use a virtual environment instead: https://pip.pypa.io/warnings/venv\n",
       "</span></pre>\n"
      ],
      "text/plain": [
       "\u001b[33mWARNING: Running pip as the 'root' user can result in broken permissions and conflicting behaviour with the system package manager. It is recommended to use a virtual environment instead: https://pip.pypa.io/warnings/venv\u001b[0m\u001b[33m\n",
       "\u001b[0m"
      ]
     },
     "metadata": {},
     "output_type": "display_data"
    },
    {
     "data": {
      "text/plain": [
       "0"
      ]
     },
     "execution_count": 3,
     "metadata": {},
     "output_type": "execute_result"
    }
   ],
   "source": [
    "import pip\n",
    "pip.main([\"install\", \"openpyxl\"])"
   ]
  },
  {
   "cell_type": "markdown",
   "id": "17ad3eaf",
   "metadata": {
    "papermill": {
     "duration": 0.011227,
     "end_time": "2022-06-29T06:58:42.189824",
     "exception": false,
     "start_time": "2022-06-29T06:58:42.178597",
     "status": "completed"
    },
    "tags": []
   },
   "source": [
    "## **Read the Dataset**\n",
    "1. Dataset consist of two columns, X and Y.\n",
    "2. First 350 records are for training the model and remaining unlabelled data is for test purpose. "
   ]
  },
  {
   "cell_type": "code",
   "execution_count": 4,
   "id": "d55df501",
   "metadata": {
    "execution": {
     "iopub.execute_input": "2022-06-29T06:58:42.214738Z",
     "iopub.status.busy": "2022-06-29T06:58:42.214339Z",
     "iopub.status.idle": "2022-06-29T06:58:42.491190Z",
     "shell.execute_reply": "2022-06-29T06:58:42.490133Z"
    },
    "papermill": {
     "duration": 0.292516,
     "end_time": "2022-06-29T06:58:42.494038",
     "exception": false,
     "start_time": "2022-06-29T06:58:42.201522",
     "status": "completed"
    },
    "tags": []
   },
   "outputs": [],
   "source": [
    "df = pd.read_excel(\"/kaggle/input/itsc-ml-challenge-26jun-model-performance/Randomised_DATA_P.xlsx\")\n",
    "\n",
    "train = df.iloc[:350,1:] #segregate first 350 records as training data.\n",
    "test = df.iloc[350:,1:] #remaining data to be treated as test."
   ]
  },
  {
   "cell_type": "code",
   "execution_count": 5,
   "id": "293666eb",
   "metadata": {
    "execution": {
     "iopub.execute_input": "2022-06-29T06:58:42.519532Z",
     "iopub.status.busy": "2022-06-29T06:58:42.519143Z",
     "iopub.status.idle": "2022-06-29T06:58:42.546486Z",
     "shell.execute_reply": "2022-06-29T06:58:42.544455Z"
    },
    "papermill": {
     "duration": 0.043647,
     "end_time": "2022-06-29T06:58:42.549444",
     "exception": false,
     "start_time": "2022-06-29T06:58:42.505797",
     "status": "completed"
    },
    "tags": []
   },
   "outputs": [
    {
     "name": "stdout",
     "output_type": "stream",
     "text": [
      "<class 'pandas.core.frame.DataFrame'>\n",
      "RangeIndex: 350 entries, 0 to 349\n",
      "Data columns (total 2 columns):\n",
      " #   Column  Non-Null Count  Dtype  \n",
      "---  ------  --------------  -----  \n",
      " 0   X       350 non-null    float64\n",
      " 1   Y       350 non-null    float64\n",
      "dtypes: float64(2)\n",
      "memory usage: 5.6 KB\n"
     ]
    },
    {
     "data": {
      "text/plain": [
       "None"
      ]
     },
     "metadata": {},
     "output_type": "display_data"
    }
   ],
   "source": [
    "display(train.info())"
   ]
  },
  {
   "cell_type": "code",
   "execution_count": 6,
   "id": "e9170449",
   "metadata": {
    "execution": {
     "iopub.execute_input": "2022-06-29T06:58:42.575148Z",
     "iopub.status.busy": "2022-06-29T06:58:42.574324Z",
     "iopub.status.idle": "2022-06-29T06:58:42.598040Z",
     "shell.execute_reply": "2022-06-29T06:58:42.596794Z"
    },
    "papermill": {
     "duration": 0.039194,
     "end_time": "2022-06-29T06:58:42.600688",
     "exception": false,
     "start_time": "2022-06-29T06:58:42.561494",
     "status": "completed"
    },
    "tags": []
   },
   "outputs": [
    {
     "data": {
      "text/html": [
       "<div>\n",
       "<style scoped>\n",
       "    .dataframe tbody tr th:only-of-type {\n",
       "        vertical-align: middle;\n",
       "    }\n",
       "\n",
       "    .dataframe tbody tr th {\n",
       "        vertical-align: top;\n",
       "    }\n",
       "\n",
       "    .dataframe thead th {\n",
       "        text-align: right;\n",
       "    }\n",
       "</style>\n",
       "<table border=\"1\" class=\"dataframe\">\n",
       "  <thead>\n",
       "    <tr style=\"text-align: right;\">\n",
       "      <th></th>\n",
       "      <th>X</th>\n",
       "      <th>Y</th>\n",
       "    </tr>\n",
       "  </thead>\n",
       "  <tbody>\n",
       "    <tr>\n",
       "      <th>count</th>\n",
       "      <td>350.000000</td>\n",
       "      <td>350.000000</td>\n",
       "    </tr>\n",
       "    <tr>\n",
       "      <th>mean</th>\n",
       "      <td>63.912880</td>\n",
       "      <td>69.001553</td>\n",
       "    </tr>\n",
       "    <tr>\n",
       "      <th>std</th>\n",
       "      <td>11.855688</td>\n",
       "      <td>7.494282</td>\n",
       "    </tr>\n",
       "    <tr>\n",
       "      <th>min</th>\n",
       "      <td>0.000000</td>\n",
       "      <td>35.000000</td>\n",
       "    </tr>\n",
       "    <tr>\n",
       "      <th>25%</th>\n",
       "      <td>57.500000</td>\n",
       "      <td>65.511811</td>\n",
       "    </tr>\n",
       "    <tr>\n",
       "      <th>50%</th>\n",
       "      <td>65.039370</td>\n",
       "      <td>69.921260</td>\n",
       "    </tr>\n",
       "    <tr>\n",
       "      <th>75%</th>\n",
       "      <td>72.500000</td>\n",
       "      <td>73.385827</td>\n",
       "    </tr>\n",
       "    <tr>\n",
       "      <th>max</th>\n",
       "      <td>87.500000</td>\n",
       "      <td>90.000000</td>\n",
       "    </tr>\n",
       "  </tbody>\n",
       "</table>\n",
       "</div>"
      ],
      "text/plain": [
       "                X           Y\n",
       "count  350.000000  350.000000\n",
       "mean    63.912880   69.001553\n",
       "std     11.855688    7.494282\n",
       "min      0.000000   35.000000\n",
       "25%     57.500000   65.511811\n",
       "50%     65.039370   69.921260\n",
       "75%     72.500000   73.385827\n",
       "max     87.500000   90.000000"
      ]
     },
     "execution_count": 6,
     "metadata": {},
     "output_type": "execute_result"
    }
   ],
   "source": [
    "train.describe()"
   ]
  },
  {
   "cell_type": "markdown",
   "id": "3b4405e5",
   "metadata": {
    "papermill": {
     "duration": 0.011638,
     "end_time": "2022-06-29T06:58:42.624631",
     "exception": false,
     "start_time": "2022-06-29T06:58:42.612993",
     "status": "completed"
    },
    "tags": []
   },
   "source": [
    "# **Exploratory Data Analysis**\n",
    "1. The EDA is performed on both the independent variable and dependent variable, based on which we will analyse the data and check if any outliers are there or not. \n",
    "2. EDA will help us to select our model based on visualizations ie whether to pick tree based model or linear models."
   ]
  },
  {
   "cell_type": "code",
   "execution_count": 7,
   "id": "26d5bb6b",
   "metadata": {
    "execution": {
     "iopub.execute_input": "2022-06-29T06:58:42.649850Z",
     "iopub.status.busy": "2022-06-29T06:58:42.649484Z",
     "iopub.status.idle": "2022-06-29T06:58:42.950427Z",
     "shell.execute_reply": "2022-06-29T06:58:42.949625Z"
    },
    "papermill": {
     "duration": 0.31627,
     "end_time": "2022-06-29T06:58:42.952612",
     "exception": false,
     "start_time": "2022-06-29T06:58:42.636342",
     "status": "completed"
    },
    "tags": []
   },
   "outputs": [
    {
     "data": {
      "image/png": "[encoded data removed]",
      "text/plain": [
       "<Figure size 432x288 with 1 Axes>"
      ]
     },
     "metadata": {},
     "output_type": "display_data"
    }
   ],
   "source": [
    "#1. Histogram Plot\n",
    "sns.histplot(x='X', data=train);"
   ]
  },
  {
   "cell_type": "code",
   "execution_count": 8,
   "id": "0b8452e5",
   "metadata": {
    "execution": {
     "iopub.execute_input": "2022-06-29T06:58:42.979075Z",
     "iopub.status.busy": "2022-06-29T06:58:42.978502Z",
     "iopub.status.idle": "2022-06-29T06:58:43.538583Z",
     "shell.execute_reply": "2022-06-29T06:58:43.537121Z"
    },
    "papermill": {
     "duration": 0.576821,
     "end_time": "2022-06-29T06:58:43.541656",
     "exception": false,
     "start_time": "2022-06-29T06:58:42.964835",
     "status": "completed"
    },
    "tags": []
   },
   "outputs": [
    {
     "data": {
      "image/png": "[encoded data removed]",
      "text/plain": [
       "<Figure size 1080x1080 with 2 Axes>"
      ]
     },
     "metadata": {},
     "output_type": "display_data"
    }
   ],
   "source": [
    "#2. Comparing both X, Y columns on Histogram plot. \n",
    "\n",
    "cols = 3\n",
    "rows = 3\n",
    "num_cols = train.select_dtypes(exclude='object').columns\n",
    "fig = plt.figure( figsize=(cols*5, rows*5))\n",
    "for i, col in enumerate(num_cols):\n",
    "    \n",
    "    ax=fig.add_subplot(rows,cols,i+1)\n",
    "    \n",
    "    sns.histplot(x = train[col], ax = ax)\n",
    "    \n",
    "fig.tight_layout()  \n",
    "plt.show()"
   ]
  },
  {
   "cell_type": "code",
   "execution_count": 9,
   "id": "51914758",
   "metadata": {
    "execution": {
     "iopub.execute_input": "2022-06-29T06:58:43.572858Z",
     "iopub.status.busy": "2022-06-29T06:58:43.572326Z",
     "iopub.status.idle": "2022-06-29T06:58:43.819271Z",
     "shell.execute_reply": "2022-06-29T06:58:43.818025Z"
    },
    "papermill": {
     "duration": 0.263811,
     "end_time": "2022-06-29T06:58:43.821875",
     "exception": false,
     "start_time": "2022-06-29T06:58:43.558064",
     "status": "completed"
    },
    "tags": []
   },
   "outputs": [
    {
     "data": {
      "text/plain": [
       "<AxesSubplot:>"
      ]
     },
     "execution_count": 9,
     "metadata": {},
     "output_type": "execute_result"
    },
    {
     "data": {
      "image/png": "[encoded data removed]",
      "text/plain": [
       "<Figure size 432x288 with 2 Axes>"
      ]
     },
     "metadata": {},
     "output_type": "display_data"
    }
   ],
   "source": [
    "sns.heatmap(train.corr(), annot=True)"
   ]
  },
  {
   "cell_type": "code",
   "execution_count": 10,
   "id": "d5016f81",
   "metadata": {
    "execution": {
     "iopub.execute_input": "2022-06-29T06:58:43.849765Z",
     "iopub.status.busy": "2022-06-29T06:58:43.849356Z",
     "iopub.status.idle": "2022-06-29T06:58:44.039759Z",
     "shell.execute_reply": "2022-06-29T06:58:44.038987Z"
    },
    "papermill": {
     "duration": 0.206986,
     "end_time": "2022-06-29T06:58:44.042068",
     "exception": false,
     "start_time": "2022-06-29T06:58:43.835082",
     "status": "completed"
    },
    "tags": []
   },
   "outputs": [
    {
     "data": {
      "text/plain": [
       "<AxesSubplot:xlabel='X'>"
      ]
     },
     "execution_count": 10,
     "metadata": {},
     "output_type": "execute_result"
    },
    {
     "data": {
      "image/png": "[encoded data removed]",
      "text/plain": [
       "<Figure size 432x288 with 1 Axes>"
      ]
     },
     "metadata": {},
     "output_type": "display_data"
    }
   ],
   "source": [
    "#3. This represents the box plot.\n",
    "\n",
    "sns.boxplot(x=train['X'])"
   ]
  },
  {
   "cell_type": "code",
   "execution_count": 11,
   "id": "dddcca23",
   "metadata": {
    "execution": {
     "iopub.execute_input": "2022-06-29T06:58:44.071161Z",
     "iopub.status.busy": "2022-06-29T06:58:44.070106Z",
     "iopub.status.idle": "2022-06-29T06:58:44.247665Z",
     "shell.execute_reply": "2022-06-29T06:58:44.246495Z"
    },
    "papermill": {
     "duration": 0.195039,
     "end_time": "2022-06-29T06:58:44.250040",
     "exception": false,
     "start_time": "2022-06-29T06:58:44.055001",
     "status": "completed"
    },
    "tags": []
   },
   "outputs": [
    {
     "data": {
      "text/plain": [
       "<AxesSubplot:>"
      ]
     },
     "execution_count": 11,
     "metadata": {},
     "output_type": "execute_result"
    },
    {
     "data": {
      "image/png": "[encoded data removed]",
      "text/plain": [
       "<Figure size 432x288 with 1 Axes>"
      ]
     },
     "metadata": {},
     "output_type": "display_data"
    }
   ],
   "source": [
    "sns.boxplot(data=train.loc[:, ['X', 'Y']])"
   ]
  },
  {
   "cell_type": "code",
   "execution_count": 12,
   "id": "a8deddfa",
   "metadata": {
    "execution": {
     "iopub.execute_input": "2022-06-29T06:58:44.278958Z",
     "iopub.status.busy": "2022-06-29T06:58:44.278239Z",
     "iopub.status.idle": "2022-06-29T06:58:44.512428Z",
     "shell.execute_reply": "2022-06-29T06:58:44.511267Z"
    },
    "papermill": {
     "duration": 0.251378,
     "end_time": "2022-06-29T06:58:44.514870",
     "exception": false,
     "start_time": "2022-06-29T06:58:44.263492",
     "status": "completed"
    },
    "tags": []
   },
   "outputs": [
    {
     "data": {
      "text/plain": [
       "<AxesSubplot:xlabel='Y'>"
      ]
     },
     "execution_count": 12,
     "metadata": {},
     "output_type": "execute_result"
    },
    {
     "data": {
      "image/png": "[encoded data removed]",
      "text/plain": [
       "<Figure size 432x288 with 1 Axes>"
      ]
     },
     "metadata": {},
     "output_type": "display_data"
    }
   ],
   "source": [
    "#4. Violin Plot for both X,Y variable \n",
    "\n",
    "sns.violinplot(x=train[\"X\"], color='red')\n",
    "sns.violinplot(x=train[\"Y\"], color='yellow')"
   ]
  },
  {
   "cell_type": "markdown",
   "id": "12f84f0b",
   "metadata": {
    "papermill": {
     "duration": 0.01415,
     "end_time": "2022-06-29T06:58:44.542938",
     "exception": false,
     "start_time": "2022-06-29T06:58:44.528788",
     "status": "completed"
    },
    "tags": []
   },
   "source": [
    "# **Creating a Train Test Split**\n",
    "1. Train-Test split is 70:30 with random-state keeping as 33"
   ]
  },
  {
   "cell_type": "code",
   "execution_count": 13,
   "id": "62041658",
   "metadata": {
    "execution": {
     "iopub.execute_input": "2022-06-29T06:58:44.573482Z",
     "iopub.status.busy": "2022-06-29T06:58:44.572277Z",
     "iopub.status.idle": "2022-06-29T06:58:44.794325Z",
     "shell.execute_reply": "2022-06-29T06:58:44.792927Z"
    },
    "papermill": {
     "duration": 0.240332,
     "end_time": "2022-06-29T06:58:44.797129",
     "exception": false,
     "start_time": "2022-06-29T06:58:44.556797",
     "status": "completed"
    },
    "tags": []
   },
   "outputs": [
    {
     "name": "stdout",
     "output_type": "stream",
     "text": [
      "245 105 245 105\n"
     ]
    }
   ],
   "source": [
    "from sklearn.model_selection import train_test_split\n",
    "\n",
    "Xtrain,Xtest,ytrain,ytest = train_test_split(train[['X']], train[['Y']], test_size=0.3, random_state=33)\n",
    "\n",
    "print(Xtrain.size, Xtest.size,  ytrain.size, ytest.size)"
   ]
  },
  {
   "cell_type": "markdown",
   "id": "c115808b",
   "metadata": {
    "papermill": {
     "duration": 0.01365,
     "end_time": "2022-06-29T06:58:44.824873",
     "exception": false,
     "start_time": "2022-06-29T06:58:44.811223",
     "status": "completed"
    },
    "tags": []
   },
   "source": [
    "# **Model-1 Linear Regression**"
   ]
  },
  {
   "cell_type": "code",
   "execution_count": 14,
   "id": "02dd799e",
   "metadata": {
    "execution": {
     "iopub.execute_input": "2022-06-29T06:58:44.854899Z",
     "iopub.status.busy": "2022-06-29T06:58:44.853979Z",
     "iopub.status.idle": "2022-06-29T06:58:44.961839Z",
     "shell.execute_reply": "2022-06-29T06:58:44.960905Z"
    },
    "papermill": {
     "duration": 0.125534,
     "end_time": "2022-06-29T06:58:44.964385",
     "exception": false,
     "start_time": "2022-06-29T06:58:44.838851",
     "status": "completed"
    },
    "tags": []
   },
   "outputs": [
    {
     "name": "stdout",
     "output_type": "stream",
     "text": [
      "8.086784970871678\n"
     ]
    }
   ],
   "source": [
    "#Linear Regression Model Training and Validation\n",
    "from sklearn.linear_model import LinearRegression\n",
    "from sklearn.metrics import mean_squared_error as mse\n",
    "\n",
    "m1 = LinearRegression(fit_intercept=True, normalize='deprecated', copy_X=True, \n",
    "                      n_jobs=5, positive=False)\n",
    "m1.fit(Xtrain,ytrain)\n",
    "ypred = m1.predict(Xtest)\n",
    "\n",
    "#Linear Regression Model Validation on Test dataset.\n",
    "\n",
    "s1 = (np.sqrt(mse(ytest, ypred)))\n",
    "print(s1)"
   ]
  },
  {
   "cell_type": "code",
   "execution_count": 15,
   "id": "fb48ec44",
   "metadata": {
    "execution": {
     "iopub.execute_input": "2022-06-29T06:58:44.994079Z",
     "iopub.status.busy": "2022-06-29T06:58:44.993668Z",
     "iopub.status.idle": "2022-06-29T06:58:45.014362Z",
     "shell.execute_reply": "2022-06-29T06:58:45.012734Z"
    },
    "papermill": {
     "duration": 0.03888,
     "end_time": "2022-06-29T06:58:45.017409",
     "exception": false,
     "start_time": "2022-06-29T06:58:44.978529",
     "status": "completed"
    },
    "tags": []
   },
   "outputs": [
    {
     "name": "stdout",
     "output_type": "stream",
     "text": [
      "7.695102360456468\n",
      "\n"
     ]
    },
    {
     "data": {
      "text/html": [
       "<a href='sub1_.csv' target='_blank'>sub1_.csv</a><br>"
      ],
      "text/plain": [
       "/kaggle/working/sub1_.csv"
      ]
     },
     "execution_count": 15,
     "metadata": {},
     "output_type": "execute_result"
    }
   ],
   "source": [
    "#Linear Regression Model Performance on Test dataset.\n",
    "pred = m1.predict(test[['X']])\n",
    "\n",
    "sub1_ = pd.DataFrame()\n",
    "sub1_['X'] = test['X']\n",
    "sub1_['Y_predicted'] = pred\n",
    "sub1_['Y_actual'] = test['Y']\n",
    "\n",
    "s1_ = (np.sqrt(mse(sub1_['Y_predicted'], sub1_['Y_actual'])))\n",
    "print(s1_)\n",
    "print()\n",
    "\n",
    "\n",
    "sub1_.to_csv('sub1_.csv', index=False)\n",
    "\n",
    "os.chdir(r'../working')\n",
    "from IPython.display import FileLink\n",
    "FileLink(r'sub1_.csv')"
   ]
  },
  {
   "cell_type": "markdown",
   "id": "e3912cbd",
   "metadata": {
    "papermill": {
     "duration": 0.013927,
     "end_time": "2022-06-29T06:58:45.045845",
     "exception": false,
     "start_time": "2022-06-29T06:58:45.031918",
     "status": "completed"
    },
    "tags": []
   },
   "source": [
    "# **Model-2 Random Forest Regressor**"
   ]
  },
  {
   "cell_type": "code",
   "execution_count": 16,
   "id": "6bbc10b7",
   "metadata": {
    "execution": {
     "iopub.execute_input": "2022-06-29T06:58:45.075803Z",
     "iopub.status.busy": "2022-06-29T06:58:45.075374Z",
     "iopub.status.idle": "2022-06-29T06:58:48.605576Z",
     "shell.execute_reply": "2022-06-29T06:58:48.604096Z"
    },
    "papermill": {
     "duration": 3.548453,
     "end_time": "2022-06-29T06:58:48.608381",
     "exception": false,
     "start_time": "2022-06-29T06:58:45.059928",
     "status": "completed"
    },
    "tags": []
   },
   "outputs": [
    {
     "name": "stderr",
     "output_type": "stream",
     "text": [
      "/opt/conda/lib/python3.7/site-packages/ipykernel_launcher.py:8: DataConversionWarning: A column-vector y was passed when a 1d array was expected. Please change the shape of y to (n_samples,), for example using ravel().\n",
      "  \n"
     ]
    },
    {
     "name": "stdout",
     "output_type": "stream",
     "text": [
      "8.024946067788054\n"
     ]
    }
   ],
   "source": [
    "from sklearn.ensemble import RandomForestRegressor\n",
    "\n",
    "m2 = RandomForestRegressor(n_estimators=1550, criterion='squared_error', max_depth=33, \n",
    "                           min_samples_split=7, min_samples_leaf=7, min_weight_fraction_leaf=0.0, \n",
    "                           max_features=1.0, max_leaf_nodes=3, min_impurity_decrease=0.0, \n",
    "                           bootstrap=True, oob_score=False, n_jobs=3, random_state=33, \n",
    "                           verbose=0, warm_start=True, ccp_alpha=0.0, max_samples=1)\n",
    "m2.fit(Xtrain,ytrain)\n",
    "ypred = m2.predict(Xtest)\n",
    "\n",
    "s2 = (np.sqrt(mse(ytest, ypred)))\n",
    "print(s2)"
   ]
  },
  {
   "cell_type": "code",
   "execution_count": 17,
   "id": "921e2f66",
   "metadata": {
    "execution": {
     "iopub.execute_input": "2022-06-29T06:58:48.640873Z",
     "iopub.status.busy": "2022-06-29T06:58:48.639714Z",
     "iopub.status.idle": "2022-06-29T06:58:48.961447Z",
     "shell.execute_reply": "2022-06-29T06:58:48.960043Z"
    },
    "papermill": {
     "duration": 0.341343,
     "end_time": "2022-06-29T06:58:48.964131",
     "exception": false,
     "start_time": "2022-06-29T06:58:48.622788",
     "status": "completed"
    },
    "tags": []
   },
   "outputs": [
    {
     "name": "stdout",
     "output_type": "stream",
     "text": [
      "7.697824806580164\n",
      "\n"
     ]
    },
    {
     "data": {
      "text/html": [
       "<a href='sub2_.csv' target='_blank'>sub2_.csv</a><br>"
      ],
      "text/plain": [
       "/kaggle/working/sub2_.csv"
      ]
     },
     "execution_count": 17,
     "metadata": {},
     "output_type": "execute_result"
    }
   ],
   "source": [
    "#Random Forest Model Performance on Test dataset. \n",
    "pred = m2.predict(test[['X']])\n",
    "\n",
    "sub2_ = pd.DataFrame()\n",
    "sub2_['X'] = test['X']\n",
    "sub2_['Y_predicted'] = pred\n",
    "sub2_['Y_actual'] = test['Y']\n",
    "\n",
    "s2_ = (np.sqrt(mse(sub2_['Y_predicted'], sub2_['Y_actual'])))\n",
    "print(s2_)\n",
    "print()\n",
    "\n",
    "\n",
    "sub2_.to_csv('sub2_.csv', index=False)\n",
    "\n",
    "os.chdir(r'../working')\n",
    "from IPython.display import FileLink\n",
    "FileLink(r'sub2_.csv')"
   ]
  },
  {
   "cell_type": "markdown",
   "id": "89fb3b00",
   "metadata": {
    "papermill": {
     "duration": 0.014105,
     "end_time": "2022-06-29T06:58:48.993306",
     "exception": false,
     "start_time": "2022-06-29T06:58:48.979201",
     "status": "completed"
    },
    "tags": []
   },
   "source": [
    "# **Model-3 LightGBM Regressor**"
   ]
  },
  {
   "cell_type": "code",
   "execution_count": 18,
   "id": "1fd5441b",
   "metadata": {
    "execution": {
     "iopub.execute_input": "2022-06-29T06:58:49.024435Z",
     "iopub.status.busy": "2022-06-29T06:58:49.023973Z",
     "iopub.status.idle": "2022-06-29T06:58:50.258934Z",
     "shell.execute_reply": "2022-06-29T06:58:50.257984Z"
    },
    "papermill": {
     "duration": 1.25395,
     "end_time": "2022-06-29T06:58:50.261780",
     "exception": false,
     "start_time": "2022-06-29T06:58:49.007830",
     "status": "completed"
    },
    "tags": []
   },
   "outputs": [
    {
     "data": {
      "text/html": [
       "<style type='text/css'>\n",
       ".datatable table.frame { margin-bottom: 0; }\n",
       ".datatable table.frame thead { border-bottom: none; }\n",
       ".datatable table.frame tr.coltypes td {  color: #FFFFFF;  line-height: 6px;  padding: 0 0.5em;}\n",
       ".datatable .bool    { background: #DDDD99; }\n",
       ".datatable .object  { background: #565656; }\n",
       ".datatable .int     { background: #5D9E5D; }\n",
       ".datatable .float   { background: #4040CC; }\n",
       ".datatable .str     { background: #CC4040; }\n",
       ".datatable .time    { background: #40CC40; }\n",
       ".datatable .row_index {  background: var(--jp-border-color3);  border-right: 1px solid var(--jp-border-color0);  color: var(--jp-ui-font-color3);  font-size: 9px;}\n",
       ".datatable .frame tbody td { text-align: left; }\n",
       ".datatable .frame tr.coltypes .row_index {  background: var(--jp-border-color0);}\n",
       ".datatable th:nth-child(2) { padding-left: 12px; }\n",
       ".datatable .hellipsis {  color: var(--jp-cell-editor-border-color);}\n",
       ".datatable .vellipsis {  background: var(--jp-layout-color0);  color: var(--jp-cell-editor-border-color);}\n",
       ".datatable .na {  color: var(--jp-cell-editor-border-color);  font-size: 80%;}\n",
       ".datatable .sp {  opacity: 0.25;}\n",
       ".datatable .footer { font-size: 9px; }\n",
       ".datatable .frame_dimensions {  background: var(--jp-border-color3);  border-top: 1px solid var(--jp-border-color0);  color: var(--jp-ui-font-color3);  display: inline-block;  opacity: 0.6;  padding: 1px 10px 1px 5px;}\n",
       "</style>\n"
      ],
      "text/plain": [
       "<IPython.core.display.HTML object>"
      ]
     },
     "metadata": {},
     "output_type": "display_data"
    },
    {
     "name": "stdout",
     "output_type": "stream",
     "text": [
      "8.217615936706158\n"
     ]
    }
   ],
   "source": [
    "from lightgbm import LGBMRegressor\n",
    "\n",
    "m3 = LGBMRegressor(boosting_type='gbdt', num_leaves=6, max_depth=None, learning_rate=0.0017, \n",
    "                   n_estimators=1200, subsample_for_bin=200000, objective='regression', \n",
    "                   class_weight=None, min_split_gain=0.0, min_child_weight=0.001, min_child_samples=20, \n",
    "                   subsample=1.0, subsample_freq=0, colsample_bytree=1.0, reg_alpha=0.0, \n",
    "                   reg_lambda=0.0, random_state=33, n_jobs=3, importance_type='split')\n",
    "\n",
    "m3.fit(Xtrain,ytrain)\n",
    "ypred = m3.predict(Xtest)\n",
    "\n",
    "s3 = (np.sqrt(mse(ytest, ypred)))\n",
    "print(s3)"
   ]
  },
  {
   "cell_type": "code",
   "execution_count": 19,
   "id": "19bdc236",
   "metadata": {
    "execution": {
     "iopub.execute_input": "2022-06-29T06:58:50.295956Z",
     "iopub.status.busy": "2022-06-29T06:58:50.294712Z",
     "iopub.status.idle": "2022-06-29T06:58:50.317408Z",
     "shell.execute_reply": "2022-06-29T06:58:50.315793Z"
    },
    "papermill": {
     "duration": 0.041508,
     "end_time": "2022-06-29T06:58:50.319943",
     "exception": false,
     "start_time": "2022-06-29T06:58:50.278435",
     "status": "completed"
    },
    "tags": []
   },
   "outputs": [
    {
     "name": "stdout",
     "output_type": "stream",
     "text": [
      "7.523122197700375\n"
     ]
    },
    {
     "data": {
      "text/html": [
       "<a href='sub3_.csv' target='_blank'>sub3_.csv</a><br>"
      ],
      "text/plain": [
       "/kaggle/working/sub3_.csv"
      ]
     },
     "execution_count": 19,
     "metadata": {},
     "output_type": "execute_result"
    }
   ],
   "source": [
    "#LGBM Regressor Model prediction on Test dataset. \n",
    "pred = m3.predict(test[['X']])\n",
    "\n",
    "sub3_ = pd.DataFrame()\n",
    "sub3_['X'] = test['X']\n",
    "sub3_['Y_predicted'] = pred\n",
    "sub3_['Y_actual'] = test['Y']\n",
    "\n",
    "s3_ = (np.sqrt(mse(sub3_['Y_predicted'], sub3_['Y_actual'])))\n",
    "print(s3_)\n",
    "\n",
    "\n",
    "sub3_.to_csv('sub3_.csv', index=False)\n",
    "\n",
    "os.chdir(r'../working')\n",
    "from IPython.display import FileLink\n",
    "FileLink(r'sub3_.csv')"
   ]
  },
  {
   "cell_type": "markdown",
   "id": "ec0b05a9",
   "metadata": {
    "papermill": {
     "duration": 0.014702,
     "end_time": "2022-06-29T06:58:50.350304",
     "exception": false,
     "start_time": "2022-06-29T06:58:50.335602",
     "status": "completed"
    },
    "tags": []
   },
   "source": [
    "# **Model-4 GradientBoostingRegressor**"
   ]
  },
  {
   "cell_type": "code",
   "execution_count": 20,
   "id": "14ccf752",
   "metadata": {
    "execution": {
     "iopub.execute_input": "2022-06-29T06:58:50.383080Z",
     "iopub.status.busy": "2022-06-29T06:58:50.382120Z",
     "iopub.status.idle": "2022-06-29T06:58:50.992842Z",
     "shell.execute_reply": "2022-06-29T06:58:50.991311Z"
    },
    "papermill": {
     "duration": 0.629921,
     "end_time": "2022-06-29T06:58:50.995724",
     "exception": false,
     "start_time": "2022-06-29T06:58:50.365803",
     "status": "completed"
    },
    "tags": []
   },
   "outputs": [
    {
     "name": "stderr",
     "output_type": "stream",
     "text": [
      "/opt/conda/lib/python3.7/site-packages/sklearn/ensemble/_gb.py:494: DataConversionWarning: A column-vector y was passed when a 1d array was expected. Please change the shape of y to (n_samples, ), for example using ravel().\n",
      "  y = column_or_1d(y, warn=True)\n"
     ]
    },
    {
     "name": "stdout",
     "output_type": "stream",
     "text": [
      "9.89787582027334\n"
     ]
    }
   ],
   "source": [
    "from sklearn.ensemble import GradientBoostingRegressor\n",
    "\n",
    "m4 = GradientBoostingRegressor(loss='squared_error', learning_rate=0.017, n_estimators=1400, \n",
    "                               subsample=1.0, criterion='friedman_mse', min_samples_split=2, \n",
    "                               min_samples_leaf=1, min_weight_fraction_leaf=0.0, max_depth=33, \n",
    "                               min_impurity_decrease=0.0, init=None, random_state=None, \n",
    "                               max_features=None, alpha=0.9, verbose=0, max_leaf_nodes=None, \n",
    "                               warm_start=False, validation_fraction=0.1, n_iter_no_change=None, \n",
    "                               tol=0.0001, ccp_alpha=0.0)\n",
    "\n",
    "m4.fit(Xtrain,ytrain)\n",
    "ypred = m4.predict(Xtest)\n",
    "\n",
    "s4 = (np.sqrt(mse(ytest, ypred)))\n",
    "print(s4)"
   ]
  },
  {
   "cell_type": "code",
   "execution_count": 21,
   "id": "173d87d5",
   "metadata": {
    "execution": {
     "iopub.execute_input": "2022-06-29T06:58:51.029642Z",
     "iopub.status.busy": "2022-06-29T06:58:51.029234Z",
     "iopub.status.idle": "2022-06-29T06:58:51.055981Z",
     "shell.execute_reply": "2022-06-29T06:58:51.054605Z"
    },
    "papermill": {
     "duration": 0.047035,
     "end_time": "2022-06-29T06:58:51.058916",
     "exception": false,
     "start_time": "2022-06-29T06:58:51.011881",
     "status": "completed"
    },
    "tags": []
   },
   "outputs": [
    {
     "name": "stdout",
     "output_type": "stream",
     "text": [
      "8.191966460691889\n"
     ]
    },
    {
     "data": {
      "text/html": [
       "<a href='sub4_.csv' target='_blank'>sub4_.csv</a><br>"
      ],
      "text/plain": [
       "/kaggle/working/sub4_.csv"
      ]
     },
     "execution_count": 21,
     "metadata": {},
     "output_type": "execute_result"
    }
   ],
   "source": [
    "#Gradient Boosting predictions\n",
    "pred = m4.predict(test[['X']])\n",
    "\n",
    "sub4_ = pd.DataFrame()\n",
    "sub4_['X'] = test['X']\n",
    "sub4_['Y_predicted'] = pred\n",
    "sub4_['Y_actual'] = test['Y']\n",
    "\n",
    "s4_ = (np.sqrt(mse(sub4_['Y_predicted'], sub4_['Y_actual'])))\n",
    "print(s4_)\n",
    "\n",
    "\n",
    "sub4_.to_csv('sub4_.csv', index=False)\n",
    "\n",
    "os.chdir(r'../working')\n",
    "from IPython.display import FileLink\n",
    "FileLink(r'sub4_.csv')"
   ]
  },
  {
   "cell_type": "markdown",
   "id": "dd206f9f",
   "metadata": {
    "papermill": {
     "duration": 0.014953,
     "end_time": "2022-06-29T06:58:51.089498",
     "exception": false,
     "start_time": "2022-06-29T06:58:51.074545",
     "status": "completed"
    },
    "tags": []
   },
   "source": [
    "# **Model-5 RANSAC Model**"
   ]
  },
  {
   "cell_type": "code",
   "execution_count": 22,
   "id": "5109c480",
   "metadata": {
    "execution": {
     "iopub.execute_input": "2022-06-29T06:58:51.123122Z",
     "iopub.status.busy": "2022-06-29T06:58:51.122589Z",
     "iopub.status.idle": "2022-06-29T06:58:51.150357Z",
     "shell.execute_reply": "2022-06-29T06:58:51.148502Z"
    },
    "papermill": {
     "duration": 0.048288,
     "end_time": "2022-06-29T06:58:51.153391",
     "exception": false,
     "start_time": "2022-06-29T06:58:51.105103",
     "status": "completed"
    },
    "tags": []
   },
   "outputs": [
    {
     "name": "stdout",
     "output_type": "stream",
     "text": [
      "7.824255268592003\n"
     ]
    }
   ],
   "source": [
    "from sklearn.linear_model import RANSACRegressor\n",
    "\n",
    "m5 = RANSACRegressor(base_estimator=None, min_samples=None, residual_threshold=None, is_data_valid=None, is_model_valid=None, \n",
    "                     max_trials=1000, max_skips=np.inf, stop_n_inliers=np.inf, stop_score=np.inf, stop_probability=0.99, \n",
    "                     loss=\"absolute_error\", random_state=33)\n",
    "\n",
    "m5.fit(Xtrain,ytrain)\n",
    "ypred = m5.predict(Xtest)\n",
    "\n",
    "s5 = (np.sqrt(mse(ytest, ypred)))\n",
    "print(s5)"
   ]
  },
  {
   "cell_type": "code",
   "execution_count": 23,
   "id": "6c6e87d1",
   "metadata": {
    "execution": {
     "iopub.execute_input": "2022-06-29T06:58:51.186459Z",
     "iopub.status.busy": "2022-06-29T06:58:51.185779Z",
     "iopub.status.idle": "2022-06-29T06:58:51.206265Z",
     "shell.execute_reply": "2022-06-29T06:58:51.205158Z"
    },
    "papermill": {
     "duration": 0.039542,
     "end_time": "2022-06-29T06:58:51.208516",
     "exception": false,
     "start_time": "2022-06-29T06:58:51.168974",
     "status": "completed"
    },
    "tags": []
   },
   "outputs": [
    {
     "name": "stdout",
     "output_type": "stream",
     "text": [
      "7.635156441320937\n"
     ]
    },
    {
     "data": {
      "text/html": [
       "<a href='sub5_.csv' target='_blank'>sub5_.csv</a><br>"
      ],
      "text/plain": [
       "/kaggle/working/sub5_.csv"
      ]
     },
     "execution_count": 23,
     "metadata": {},
     "output_type": "execute_result"
    }
   ],
   "source": [
    "#RANSAC predictions\n",
    "pred = m5.predict(test[['X']])\n",
    "\n",
    "sub5_= pd.DataFrame()\n",
    "sub5_['X'] = test['X']\n",
    "sub5_['Y_predicted'] = pred\n",
    "sub5_['Y_actual'] = test['Y']\n",
    "\n",
    "s5_= (np.sqrt(mse(sub5_['Y_predicted'], sub5_['Y_actual'])))\n",
    "print(s5_)\n",
    "\n",
    "\n",
    "sub5_.to_csv('sub5_.csv', index=False)\n",
    "\n",
    "os.chdir(r'../working')\n",
    "from IPython.display import FileLink\n",
    "FileLink(r'sub5_.csv')"
   ]
  },
  {
   "cell_type": "markdown",
   "id": "7428a0cf",
   "metadata": {
    "papermill": {
     "duration": 0.015677,
     "end_time": "2022-06-29T06:58:51.240228",
     "exception": false,
     "start_time": "2022-06-29T06:58:51.224551",
     "status": "completed"
    },
    "tags": []
   },
   "source": [
    "# **Results Summary of all the Models Validations above**"
   ]
  },
  {
   "cell_type": "code",
   "execution_count": 24,
   "id": "6919315f",
   "metadata": {
    "execution": {
     "iopub.execute_input": "2022-06-29T06:58:51.273108Z",
     "iopub.status.busy": "2022-06-29T06:58:51.272740Z",
     "iopub.status.idle": "2022-06-29T06:58:51.296735Z",
     "shell.execute_reply": "2022-06-29T06:58:51.295524Z"
    },
    "papermill": {
     "duration": 0.043057,
     "end_time": "2022-06-29T06:58:51.299095",
     "exception": false,
     "start_time": "2022-06-29T06:58:51.256038",
     "status": "completed"
    },
    "tags": []
   },
   "outputs": [
    {
     "data": {
      "text/html": [
       "<div>\n",
       "<style scoped>\n",
       "    .dataframe tbody tr th:only-of-type {\n",
       "        vertical-align: middle;\n",
       "    }\n",
       "\n",
       "    .dataframe tbody tr th {\n",
       "        vertical-align: top;\n",
       "    }\n",
       "\n",
       "    .dataframe thead th {\n",
       "        text-align: right;\n",
       "    }\n",
       "</style>\n",
       "<table border=\"1\" class=\"dataframe\">\n",
       "  <thead>\n",
       "    <tr style=\"text-align: right;\">\n",
       "      <th></th>\n",
       "      <th>Algorithm</th>\n",
       "      <th>RMSE_Score</th>\n",
       "      <th>submission_file</th>\n",
       "    </tr>\n",
       "  </thead>\n",
       "  <tbody>\n",
       "    <tr>\n",
       "      <th>0</th>\n",
       "      <td>Linear Regression</td>\n",
       "      <td>8.086785</td>\n",
       "      <td>/kaggle/working/sub1.csv</td>\n",
       "    </tr>\n",
       "    <tr>\n",
       "      <th>1</th>\n",
       "      <td>Random Forest</td>\n",
       "      <td>8.024946</td>\n",
       "      <td>/kaggle/working/sub2.csv</td>\n",
       "    </tr>\n",
       "    <tr>\n",
       "      <th>2</th>\n",
       "      <td>LightGBM</td>\n",
       "      <td>8.217616</td>\n",
       "      <td>/kaggle/working/sub3.csv</td>\n",
       "    </tr>\n",
       "    <tr>\n",
       "      <th>3</th>\n",
       "      <td>GradientBoosting</td>\n",
       "      <td>9.897876</td>\n",
       "      <td>/kaggle/working/sub4.csv</td>\n",
       "    </tr>\n",
       "    <tr>\n",
       "      <th>4</th>\n",
       "      <td>RANSAC</td>\n",
       "      <td>7.824255</td>\n",
       "      <td>/kaggle/working/sub5.csv</td>\n",
       "    </tr>\n",
       "  </tbody>\n",
       "</table>\n",
       "</div>"
      ],
      "text/plain": [
       "           Algorithm  RMSE_Score           submission_file\n",
       "0  Linear Regression    8.086785  /kaggle/working/sub1.csv\n",
       "1      Random Forest    8.024946  /kaggle/working/sub2.csv\n",
       "2           LightGBM    8.217616  /kaggle/working/sub3.csv\n",
       "3   GradientBoosting    9.897876  /kaggle/working/sub4.csv\n",
       "4             RANSAC    7.824255  /kaggle/working/sub5.csv"
      ]
     },
     "metadata": {},
     "output_type": "display_data"
    },
    {
     "name": "stdout",
     "output_type": "stream",
     "text": [
      " \n",
      " \n",
      "******* Winner Model *******\n",
      " \n",
      " \n"
     ]
    },
    {
     "data": {
      "text/html": [
       "<div>\n",
       "<style scoped>\n",
       "    .dataframe tbody tr th:only-of-type {\n",
       "        vertical-align: middle;\n",
       "    }\n",
       "\n",
       "    .dataframe tbody tr th {\n",
       "        vertical-align: top;\n",
       "    }\n",
       "\n",
       "    .dataframe thead th {\n",
       "        text-align: right;\n",
       "    }\n",
       "</style>\n",
       "<table border=\"1\" class=\"dataframe\">\n",
       "  <thead>\n",
       "    <tr style=\"text-align: right;\">\n",
       "      <th></th>\n",
       "      <th>Algorithm</th>\n",
       "      <th>RMSE_Score</th>\n",
       "      <th>submission_file</th>\n",
       "    </tr>\n",
       "  </thead>\n",
       "  <tbody>\n",
       "    <tr>\n",
       "      <th>4</th>\n",
       "      <td>RANSAC</td>\n",
       "      <td>7.824255</td>\n",
       "      <td>/kaggle/working/sub5.csv</td>\n",
       "    </tr>\n",
       "  </tbody>\n",
       "</table>\n",
       "</div>"
      ],
      "text/plain": [
       "  Algorithm  RMSE_Score           submission_file\n",
       "4    RANSAC    7.824255  /kaggle/working/sub5.csv"
      ]
     },
     "metadata": {},
     "output_type": "display_data"
    }
   ],
   "source": [
    "#Result Evaluation\n",
    "scores = pd.DataFrame()\n",
    "scores['Algorithm'] = ['Linear Regression', 'Random Forest', 'LightGBM', 'GradientBoosting', 'RANSAC']\n",
    "scores['RMSE_Score'] = [s1,s2,s3,s4,s5]\n",
    "scores['submission_file'] = [FileLink(r'sub1.csv'),FileLink(r'sub2.csv'),FileLink(r'sub3.csv'),\n",
    "                             FileLink(r'sub4.csv'), FileLink(r'sub5.csv')] #prediction on test data\n",
    "\n",
    "display(scores)\n",
    "\n",
    "print(\" \")\n",
    "print(\" \")\n",
    "print(\"******* Winner Model *******\")\n",
    "print(\" \")\n",
    "print(\" \")\n",
    "\n",
    "display(scores[scores['RMSE_Score'] == min(scores['RMSE_Score'])])"
   ]
  },
  {
   "cell_type": "markdown",
   "id": "dad70b6a",
   "metadata": {
    "papermill": {
     "duration": 0.015633,
     "end_time": "2022-06-29T06:58:51.330983",
     "exception": false,
     "start_time": "2022-06-29T06:58:51.315350",
     "status": "completed"
    },
    "tags": []
   },
   "source": [
    "# **Results Summary of all the Models Performace above**"
   ]
  },
  {
   "cell_type": "code",
   "execution_count": 25,
   "id": "3963d82a",
   "metadata": {
    "execution": {
     "iopub.execute_input": "2022-06-29T06:58:51.364696Z",
     "iopub.status.busy": "2022-06-29T06:58:51.364318Z",
     "iopub.status.idle": "2022-06-29T06:58:51.387949Z",
     "shell.execute_reply": "2022-06-29T06:58:51.386535Z"
    },
    "papermill": {
     "duration": 0.042967,
     "end_time": "2022-06-29T06:58:51.390279",
     "exception": false,
     "start_time": "2022-06-29T06:58:51.347312",
     "status": "completed"
    },
    "tags": []
   },
   "outputs": [
    {
     "data": {
      "text/html": [
       "<div>\n",
       "<style scoped>\n",
       "    .dataframe tbody tr th:only-of-type {\n",
       "        vertical-align: middle;\n",
       "    }\n",
       "\n",
       "    .dataframe tbody tr th {\n",
       "        vertical-align: top;\n",
       "    }\n",
       "\n",
       "    .dataframe thead th {\n",
       "        text-align: right;\n",
       "    }\n",
       "</style>\n",
       "<table border=\"1\" class=\"dataframe\">\n",
       "  <thead>\n",
       "    <tr style=\"text-align: right;\">\n",
       "      <th></th>\n",
       "      <th>Algorithm</th>\n",
       "      <th>RMSE_Score</th>\n",
       "      <th>submission_file</th>\n",
       "    </tr>\n",
       "  </thead>\n",
       "  <tbody>\n",
       "    <tr>\n",
       "      <th>0</th>\n",
       "      <td>Linear Regression</td>\n",
       "      <td>7.695102</td>\n",
       "      <td>/kaggle/working/sub1_.csv</td>\n",
       "    </tr>\n",
       "    <tr>\n",
       "      <th>1</th>\n",
       "      <td>Random Forest</td>\n",
       "      <td>7.697825</td>\n",
       "      <td>/kaggle/working/sub2_.csv</td>\n",
       "    </tr>\n",
       "    <tr>\n",
       "      <th>2</th>\n",
       "      <td>LightGBM</td>\n",
       "      <td>7.523122</td>\n",
       "      <td>/kaggle/working/sub3_.csv</td>\n",
       "    </tr>\n",
       "    <tr>\n",
       "      <th>3</th>\n",
       "      <td>GradientBoosting</td>\n",
       "      <td>8.191966</td>\n",
       "      <td>/kaggle/working/sub4_.csv</td>\n",
       "    </tr>\n",
       "    <tr>\n",
       "      <th>4</th>\n",
       "      <td>RANSAC</td>\n",
       "      <td>7.635156</td>\n",
       "      <td>/kaggle/working/sub5_.csv</td>\n",
       "    </tr>\n",
       "  </tbody>\n",
       "</table>\n",
       "</div>"
      ],
      "text/plain": [
       "           Algorithm  RMSE_Score            submission_file\n",
       "0  Linear Regression    7.695102  /kaggle/working/sub1_.csv\n",
       "1      Random Forest    7.697825  /kaggle/working/sub2_.csv\n",
       "2           LightGBM    7.523122  /kaggle/working/sub3_.csv\n",
       "3   GradientBoosting    8.191966  /kaggle/working/sub4_.csv\n",
       "4             RANSAC    7.635156  /kaggle/working/sub5_.csv"
      ]
     },
     "metadata": {},
     "output_type": "display_data"
    },
    {
     "name": "stdout",
     "output_type": "stream",
     "text": [
      " \n",
      " \n",
      "******* Winner Model *******\n",
      " \n",
      " \n"
     ]
    },
    {
     "data": {
      "text/html": [
       "<div>\n",
       "<style scoped>\n",
       "    .dataframe tbody tr th:only-of-type {\n",
       "        vertical-align: middle;\n",
       "    }\n",
       "\n",
       "    .dataframe tbody tr th {\n",
       "        vertical-align: top;\n",
       "    }\n",
       "\n",
       "    .dataframe thead th {\n",
       "        text-align: right;\n",
       "    }\n",
       "</style>\n",
       "<table border=\"1\" class=\"dataframe\">\n",
       "  <thead>\n",
       "    <tr style=\"text-align: right;\">\n",
       "      <th></th>\n",
       "      <th>Algorithm</th>\n",
       "      <th>RMSE_Score</th>\n",
       "      <th>submission_file</th>\n",
       "    </tr>\n",
       "  </thead>\n",
       "  <tbody>\n",
       "    <tr>\n",
       "      <th>2</th>\n",
       "      <td>LightGBM</td>\n",
       "      <td>7.523122</td>\n",
       "      <td>/kaggle/working/sub3_.csv</td>\n",
       "    </tr>\n",
       "  </tbody>\n",
       "</table>\n",
       "</div>"
      ],
      "text/plain": [
       "  Algorithm  RMSE_Score            submission_file\n",
       "2  LightGBM    7.523122  /kaggle/working/sub3_.csv"
      ]
     },
     "metadata": {},
     "output_type": "display_data"
    }
   ],
   "source": [
    "#Result Evaluation\n",
    "scores = pd.DataFrame()\n",
    "scores['Algorithm'] = ['Linear Regression', 'Random Forest', 'LightGBM', 'GradientBoosting', 'RANSAC']\n",
    "scores['RMSE_Score'] = [s1_,s2_,s3_,s4_,s5_]\n",
    "scores['submission_file'] = [FileLink(r'sub1_.csv'),FileLink(r'sub2_.csv'),FileLink(r'sub3_.csv'),\n",
    "                             FileLink(r'sub4_.csv'), FileLink(r'sub5_.csv')] #prediction on test data\n",
    "\n",
    "display(scores)\n",
    "\n",
    "print(\" \")\n",
    "print(\" \")\n",
    "print(\"******* Winner Model *******\")\n",
    "print(\" \")\n",
    "print(\" \")\n",
    "\n",
    "display(scores[scores['RMSE_Score'] == min(scores['RMSE_Score'])])"
   ]
  },
  {
   "cell_type": "code",
   "execution_count": 26,
   "id": "32ff028e",
   "metadata": {
    "execution": {
     "iopub.execute_input": "2022-06-29T06:58:51.425438Z",
     "iopub.status.busy": "2022-06-29T06:58:51.424397Z",
     "iopub.status.idle": "2022-06-29T06:58:51.431685Z",
     "shell.execute_reply": "2022-06-29T06:58:51.430250Z"
    },
    "papermill": {
     "duration": 0.02745,
     "end_time": "2022-06-29T06:58:51.434128",
     "exception": false,
     "start_time": "2022-06-29T06:58:51.406678",
     "status": "completed"
    },
    "tags": []
   },
   "outputs": [
    {
     "name": "stdout",
     "output_type": "stream",
     "text": [
      "/kaggle/working/sub3_.csv\n"
     ]
    }
   ],
   "source": [
    "winner = scores[scores['RMSE_Score'] == min(scores['RMSE_Score'])]['submission_file']\n",
    "print(\"/kaggle/working/\"+winner.values[0].path)"
   ]
  },
  {
   "cell_type": "code",
   "execution_count": 27,
   "id": "92a6b06a",
   "metadata": {
    "execution": {
     "iopub.execute_input": "2022-06-29T06:58:51.469751Z",
     "iopub.status.busy": "2022-06-29T06:58:51.468561Z",
     "iopub.status.idle": "2022-06-29T06:58:51.486081Z",
     "shell.execute_reply": "2022-06-29T06:58:51.485304Z"
    },
    "papermill": {
     "duration": 0.037471,
     "end_time": "2022-06-29T06:58:51.488258",
     "exception": false,
     "start_time": "2022-06-29T06:58:51.450787",
     "status": "completed"
    },
    "tags": []
   },
   "outputs": [
    {
     "data": {
      "text/html": [
       "<div>\n",
       "<style scoped>\n",
       "    .dataframe tbody tr th:only-of-type {\n",
       "        vertical-align: middle;\n",
       "    }\n",
       "\n",
       "    .dataframe tbody tr th {\n",
       "        vertical-align: top;\n",
       "    }\n",
       "\n",
       "    .dataframe thead th {\n",
       "        text-align: right;\n",
       "    }\n",
       "</style>\n",
       "<table border=\"1\" class=\"dataframe\">\n",
       "  <thead>\n",
       "    <tr style=\"text-align: right;\">\n",
       "      <th></th>\n",
       "      <th>X</th>\n",
       "      <th>Y_predicted</th>\n",
       "      <th>Y_actual</th>\n",
       "    </tr>\n",
       "  </thead>\n",
       "  <tbody>\n",
       "    <tr>\n",
       "      <th>0</th>\n",
       "      <td>70.000000</td>\n",
       "      <td>65.339515</td>\n",
       "      <td>62.834646</td>\n",
       "    </tr>\n",
       "    <tr>\n",
       "      <th>1</th>\n",
       "      <td>57.500000</td>\n",
       "      <td>70.535872</td>\n",
       "      <td>75.748031</td>\n",
       "    </tr>\n",
       "    <tr>\n",
       "      <th>2</th>\n",
       "      <td>62.500000</td>\n",
       "      <td>68.364336</td>\n",
       "      <td>66.141732</td>\n",
       "    </tr>\n",
       "    <tr>\n",
       "      <th>3</th>\n",
       "      <td>62.500000</td>\n",
       "      <td>68.364336</td>\n",
       "      <td>73.700787</td>\n",
       "    </tr>\n",
       "    <tr>\n",
       "      <th>4</th>\n",
       "      <td>55.000000</td>\n",
       "      <td>69.687253</td>\n",
       "      <td>67.401575</td>\n",
       "    </tr>\n",
       "    <tr>\n",
       "      <th>...</th>\n",
       "      <td>...</td>\n",
       "      <td>...</td>\n",
       "      <td>...</td>\n",
       "    </tr>\n",
       "    <tr>\n",
       "      <th>95</th>\n",
       "      <td>65.669291</td>\n",
       "      <td>65.163105</td>\n",
       "      <td>75.000000</td>\n",
       "    </tr>\n",
       "    <tr>\n",
       "      <th>96</th>\n",
       "      <td>60.000000</td>\n",
       "      <td>69.130905</td>\n",
       "      <td>68.661417</td>\n",
       "    </tr>\n",
       "    <tr>\n",
       "      <th>97</th>\n",
       "      <td>70.000000</td>\n",
       "      <td>65.339515</td>\n",
       "      <td>75.905512</td>\n",
       "    </tr>\n",
       "    <tr>\n",
       "      <th>98</th>\n",
       "      <td>73.228346</td>\n",
       "      <td>69.100247</td>\n",
       "      <td>50.000000</td>\n",
       "    </tr>\n",
       "    <tr>\n",
       "      <th>99</th>\n",
       "      <td>80.000000</td>\n",
       "      <td>69.740343</td>\n",
       "      <td>71.968504</td>\n",
       "    </tr>\n",
       "  </tbody>\n",
       "</table>\n",
       "<p>100 rows × 3 columns</p>\n",
       "</div>"
      ],
      "text/plain": [
       "            X  Y_predicted   Y_actual\n",
       "0   70.000000    65.339515  62.834646\n",
       "1   57.500000    70.535872  75.748031\n",
       "2   62.500000    68.364336  66.141732\n",
       "3   62.500000    68.364336  73.700787\n",
       "4   55.000000    69.687253  67.401575\n",
       "..        ...          ...        ...\n",
       "95  65.669291    65.163105  75.000000\n",
       "96  60.000000    69.130905  68.661417\n",
       "97  70.000000    65.339515  75.905512\n",
       "98  73.228346    69.100247  50.000000\n",
       "99  80.000000    69.740343  71.968504\n",
       "\n",
       "[100 rows x 3 columns]"
      ]
     },
     "metadata": {},
     "output_type": "display_data"
    }
   ],
   "source": [
    "plot_df = pd.read_csv(\"/kaggle/working/\"+winner.values[0].path)\n",
    "\n",
    "display(plot_df)"
   ]
  },
  {
   "cell_type": "code",
   "execution_count": 28,
   "id": "64e09c68",
   "metadata": {
    "execution": {
     "iopub.execute_input": "2022-06-29T06:58:51.524225Z",
     "iopub.status.busy": "2022-06-29T06:58:51.523453Z",
     "iopub.status.idle": "2022-06-29T06:58:52.870031Z",
     "shell.execute_reply": "2022-06-29T06:58:52.868753Z"
    },
    "papermill": {
     "duration": 1.36741,
     "end_time": "2022-06-29T06:58:52.872627",
     "exception": false,
     "start_time": "2022-06-29T06:58:51.505217",
     "status": "completed"
    },
    "tags": []
   },
   "outputs": [
    {
     "data": {
      "image/png": "[encoded data removed]",
      "text/plain": [
       "<Figure size 432x288 with 1 Axes>"
      ]
     },
     "metadata": {},
     "output_type": "display_data"
    }
   ],
   "source": [
    "sns.lineplot(x = \"X\",\n",
    "             y = \"Y_predicted\",\n",
    "             data = plot_df, color='red', legend='auto');\n",
    "sns.lineplot(x = \"X\",\n",
    "             y = \"Y_actual\",\n",
    "             data = plot_df, color='green', legend='auto');"
   ]
  },
  {
   "cell_type": "code",
   "execution_count": null,
   "id": "719f6d9f",
   "metadata": {
    "papermill": {
     "duration": 0.017937,
     "end_time": "2022-06-29T06:58:52.908559",
     "exception": false,
     "start_time": "2022-06-29T06:58:52.890622",
     "status": "completed"
    },
    "tags": []
   },
   "outputs": [],
   "source": []
  }
 ],
 "metadata": {
  "kernelspec": {
   "display_name": "Python 3",
   "language": "python",
   "name": "python3"
  },
  "language_info": {
   "codemirror_mode": {
    "name": "ipython",
    "version": 3
   },
   "file_extension": ".py",
   "mimetype": "text/x-python",
   "name": "python",
   "nbconvert_exporter": "python",
   "pygments_lexer": "ipython3",
   "version": "3.7.12"
  },
  "papermill": {
   "default_parameters": {},
   "duration": 35.304794,
   "end_time": "2022-06-29T06:58:54.150094",
   "environment_variables": {},
   "exception": null,
   "input_path": "__notebook__.ipynb",
   "output_path": "__notebook__.ipynb",
   "parameters": {},
   "start_time": "2022-06-29T06:58:18.845300",
   "version": "2.3.4"
  },
  "widgets": {
   "application/vnd.jupyter.widget-state+json": {
    "state": {
     "c385922589844ff39c6a9c86b9c3f054": {
      "model_module": "@jupyter-widgets/base",
      "model_module_version": "1.2.0",
      "model_name": "LayoutModel",
      "state": {
       "_model_module": "@jupyter-widgets/base",
       "_model_module_version": "1.2.0",
       "_model_name": "LayoutModel",
       "_view_count": null,
       "_view_module": "@jupyter-widgets/base",
       "_view_module_version": "1.2.0",
       "_view_name": "LayoutView",
       "align_content": null,
       "align_items": null,
       "align_self": null,
       "border": null,
       "bottom": null,
       "display": null,
       "flex": null,
       "flex_flow": null,
       "grid_area": null,
       "grid_auto_columns": null,
       "grid_auto_flow": null,
       "grid_auto_rows": null,
       "grid_column": null,
       "grid_gap": null,
       "grid_row": null,
       "grid_template_areas": null,
       "grid_template_columns": null,
       "grid_template_rows": null,
       "height": null,
       "justify_content": null,
       "justify_items": null,
       "left": null,
       "margin": null,
       "max_height": null,
       "max_width": null,
       "min_height": null,
       "min_width": null,
       "object_fit": null,
       "object_position": null,
       "order": null,
       "overflow": null,
       "overflow_x": null,
       "overflow_y": null,
       "padding": null,
       "right": null,
       "top": null,
       "visibility": null,
       "width": null
      }
     },
     "ce7454b92bf64058a17bf702403cc65e": {
      "model_module": "@jupyter-widgets/output",
      "model_module_version": "1.0.0",
      "model_name": "OutputModel",
      "state": {
       "_dom_classes": [],
       "_model_module": "@jupyter-widgets/output",
       "_model_module_version": "1.0.0",
       "_model_name": "OutputModel",
       "_view_count": null,
       "_view_module": "@jupyter-widgets/output",
       "_view_module_version": "1.0.0",
       "_view_name": "OutputView",
       "layout": "IPY_MODEL_c385922589844ff39c6a9c86b9c3f054",
       "msg_id": "",
       "outputs": [
        {
         "data": {
          "text/html": "<pre style=\"white-space:pre;overflow-x:auto;line-height:normal;font-family:Menlo,'DejaVu Sans Mono',consolas,'Courier New',monospace\">     <span style=\"color: #f92672; text-decoration-color: #f92672\">━━━━━━━━━━━━━━━━━━━━</span><span style=\"color: #3a3a3a; text-decoration-color: #3a3a3a\">╺━━━━━━━━━━━━━━━━━━━</span> <span style=\"color: #008000; text-decoration-color: #008000\">122.9/242.1 kB</span> <span style=\"color: #800000; text-decoration-color: #800000\">5.2 MB/s</span> eta <span style=\"color: #008080; text-decoration-color: #008080\">0:00:01</span>\n</pre>\n",
          "text/plain": "     \u001b[38;2;249;38;114m━━━━━━━━━━━━━━━━━━━━\u001b[0m\u001b[38;5;237m╺\u001b[0m\u001b[38;5;237m━━━━━━━━━━━━━━━━━━━\u001b[0m \u001b[32m122.9/242.1 kB\u001b[0m \u001b[31m5.2 MB/s\u001b[0m eta \u001b[36m0:00:01\u001b[0m\n"
         },
         "metadata": {},
         "output_type": "display_data"
        }
       ]
      }
     }
    },
    "version_major": 2,
    "version_minor": 0
   }
  }
 },
 "nbformat": 4,
 "nbformat_minor": 5
}
